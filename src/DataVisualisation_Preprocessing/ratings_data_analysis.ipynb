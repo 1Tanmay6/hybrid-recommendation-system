{
 "cells": [
  {
   "cell_type": "markdown",
   "metadata": {},
   "source": [
    "### Importing Necessary Libraries"
   ]
  },
  {
   "cell_type": "code",
   "execution_count": 20,
   "metadata": {},
   "outputs": [],
   "source": [
    "import pandas as pd\n",
    "import matplotlib.pyplot as plt\n",
    "import seaborn as sns"
   ]
  },
  {
   "cell_type": "code",
   "execution_count": 21,
   "metadata": {},
   "outputs": [
    {
     "data": {
      "text/html": [
       "<div>\n",
       "<style scoped>\n",
       "    .dataframe tbody tr th:only-of-type {\n",
       "        vertical-align: middle;\n",
       "    }\n",
       "\n",
       "    .dataframe tbody tr th {\n",
       "        vertical-align: top;\n",
       "    }\n",
       "\n",
       "    .dataframe thead th {\n",
       "        text-align: right;\n",
       "    }\n",
       "</style>\n",
       "<table border=\"1\" class=\"dataframe\">\n",
       "  <thead>\n",
       "    <tr style=\"text-align: right;\">\n",
       "      <th></th>\n",
       "      <th>UserID</th>\n",
       "      <th>MovieID</th>\n",
       "      <th>Rating</th>\n",
       "      <th>Timestamp</th>\n",
       "    </tr>\n",
       "  </thead>\n",
       "  <tbody>\n",
       "    <tr>\n",
       "      <th>0</th>\n",
       "      <td>1</td>\n",
       "      <td>1193</td>\n",
       "      <td>5</td>\n",
       "      <td>978300760</td>\n",
       "    </tr>\n",
       "    <tr>\n",
       "      <th>1</th>\n",
       "      <td>1</td>\n",
       "      <td>661</td>\n",
       "      <td>3</td>\n",
       "      <td>978302109</td>\n",
       "    </tr>\n",
       "    <tr>\n",
       "      <th>2</th>\n",
       "      <td>1</td>\n",
       "      <td>914</td>\n",
       "      <td>3</td>\n",
       "      <td>978301968</td>\n",
       "    </tr>\n",
       "    <tr>\n",
       "      <th>3</th>\n",
       "      <td>1</td>\n",
       "      <td>3408</td>\n",
       "      <td>4</td>\n",
       "      <td>978300275</td>\n",
       "    </tr>\n",
       "    <tr>\n",
       "      <th>4</th>\n",
       "      <td>1</td>\n",
       "      <td>2355</td>\n",
       "      <td>5</td>\n",
       "      <td>978824291</td>\n",
       "    </tr>\n",
       "  </tbody>\n",
       "</table>\n",
       "</div>"
      ],
      "text/plain": [
       "   UserID  MovieID  Rating  Timestamp\n",
       "0       1     1193       5  978300760\n",
       "1       1      661       3  978302109\n",
       "2       1      914       3  978301968\n",
       "3       1     3408       4  978300275\n",
       "4       1     2355       5  978824291"
      ]
     },
     "execution_count": 21,
     "metadata": {},
     "output_type": "execute_result"
    }
   ],
   "source": [
    "columns = ['UserID', 'MovieID', 'Rating', 'Timestamp']\n",
    "ratings_df = pd.read_csv('../../data/movies_grouplens/ratings.dat', sep='::', engine='python', names=columns)\n",
    "ratings_df.head()"
   ]
  },
  {
   "cell_type": "code",
   "execution_count": 22,
   "metadata": {},
   "outputs": [
    {
     "data": {
      "text/html": [
       "<div>\n",
       "<style scoped>\n",
       "    .dataframe tbody tr th:only-of-type {\n",
       "        vertical-align: middle;\n",
       "    }\n",
       "\n",
       "    .dataframe tbody tr th {\n",
       "        vertical-align: top;\n",
       "    }\n",
       "\n",
       "    .dataframe thead th {\n",
       "        text-align: right;\n",
       "    }\n",
       "</style>\n",
       "<table border=\"1\" class=\"dataframe\">\n",
       "  <thead>\n",
       "    <tr style=\"text-align: right;\">\n",
       "      <th></th>\n",
       "      <th>UserID</th>\n",
       "      <th>MovieID</th>\n",
       "      <th>Rating</th>\n",
       "      <th>Timestamp</th>\n",
       "      <th>Year</th>\n",
       "      <th>Month</th>\n",
       "    </tr>\n",
       "  </thead>\n",
       "  <tbody>\n",
       "    <tr>\n",
       "      <th>0</th>\n",
       "      <td>1</td>\n",
       "      <td>1193</td>\n",
       "      <td>5</td>\n",
       "      <td>2000-12-31 22:12:40</td>\n",
       "      <td>2000</td>\n",
       "      <td>12</td>\n",
       "    </tr>\n",
       "    <tr>\n",
       "      <th>1</th>\n",
       "      <td>1</td>\n",
       "      <td>661</td>\n",
       "      <td>3</td>\n",
       "      <td>2000-12-31 22:35:09</td>\n",
       "      <td>2000</td>\n",
       "      <td>12</td>\n",
       "    </tr>\n",
       "    <tr>\n",
       "      <th>2</th>\n",
       "      <td>1</td>\n",
       "      <td>914</td>\n",
       "      <td>3</td>\n",
       "      <td>2000-12-31 22:32:48</td>\n",
       "      <td>2000</td>\n",
       "      <td>12</td>\n",
       "    </tr>\n",
       "    <tr>\n",
       "      <th>3</th>\n",
       "      <td>1</td>\n",
       "      <td>3408</td>\n",
       "      <td>4</td>\n",
       "      <td>2000-12-31 22:04:35</td>\n",
       "      <td>2000</td>\n",
       "      <td>12</td>\n",
       "    </tr>\n",
       "    <tr>\n",
       "      <th>4</th>\n",
       "      <td>1</td>\n",
       "      <td>2355</td>\n",
       "      <td>5</td>\n",
       "      <td>2001-01-06 23:38:11</td>\n",
       "      <td>2001</td>\n",
       "      <td>1</td>\n",
       "    </tr>\n",
       "  </tbody>\n",
       "</table>\n",
       "</div>"
      ],
      "text/plain": [
       "   UserID  MovieID  Rating           Timestamp  Year  Month\n",
       "0       1     1193       5 2000-12-31 22:12:40  2000     12\n",
       "1       1      661       3 2000-12-31 22:35:09  2000     12\n",
       "2       1      914       3 2000-12-31 22:32:48  2000     12\n",
       "3       1     3408       4 2000-12-31 22:04:35  2000     12\n",
       "4       1     2355       5 2001-01-06 23:38:11  2001      1"
      ]
     },
     "execution_count": 22,
     "metadata": {},
     "output_type": "execute_result"
    }
   ],
   "source": [
    "ratings_df['Timestamp'] = pd.to_datetime(ratings_df['Timestamp'], unit='s')\n",
    "ratings_df['Year'] = ratings_df['Timestamp'].dt.year\n",
    "ratings_df['Month'] = ratings_df['Timestamp'].dt.month\n",
    "# ratings_df['Day'] = ratings_df['Timestamp'].dt.day\n",
    "# ratings_df['Hour'] = ratings_df['Timestamp'].dt.hour\n",
    "# ratings_df['Minute'] = ratings_df['Timestamp'].dt.minute\n",
    "# ratings_df['Second'] = ratings_df['Timestamp'].dt.second\n",
    "\n",
    "ratings_df.head()\n"
   ]
  },
  {
   "cell_type": "markdown",
   "metadata": {},
   "source": [
    "### Basic Data Overview"
   ]
  },
  {
   "cell_type": "code",
   "execution_count": 23,
   "metadata": {},
   "outputs": [
    {
     "name": "stdout",
     "output_type": "stream",
     "text": [
      "<class 'pandas.core.frame.DataFrame'>\n",
      "RangeIndex: 1000209 entries, 0 to 1000208\n",
      "Data columns (total 6 columns):\n",
      " #   Column     Non-Null Count    Dtype         \n",
      "---  ------     --------------    -----         \n",
      " 0   UserID     1000209 non-null  int64         \n",
      " 1   MovieID    1000209 non-null  int64         \n",
      " 2   Rating     1000209 non-null  int64         \n",
      " 3   Timestamp  1000209 non-null  datetime64[ns]\n",
      " 4   Year       1000209 non-null  int32         \n",
      " 5   Month      1000209 non-null  int32         \n",
      "dtypes: datetime64[ns](1), int32(2), int64(3)\n",
      "memory usage: 38.2 MB\n"
     ]
    },
    {
     "data": {
      "text/html": [
       "<div>\n",
       "<style scoped>\n",
       "    .dataframe tbody tr th:only-of-type {\n",
       "        vertical-align: middle;\n",
       "    }\n",
       "\n",
       "    .dataframe tbody tr th {\n",
       "        vertical-align: top;\n",
       "    }\n",
       "\n",
       "    .dataframe thead th {\n",
       "        text-align: right;\n",
       "    }\n",
       "</style>\n",
       "<table border=\"1\" class=\"dataframe\">\n",
       "  <thead>\n",
       "    <tr style=\"text-align: right;\">\n",
       "      <th></th>\n",
       "      <th>UserID</th>\n",
       "      <th>MovieID</th>\n",
       "      <th>Rating</th>\n",
       "      <th>Timestamp</th>\n",
       "      <th>Year</th>\n",
       "      <th>Month</th>\n",
       "    </tr>\n",
       "  </thead>\n",
       "  <tbody>\n",
       "    <tr>\n",
       "      <th>count</th>\n",
       "      <td>1.000209e+06</td>\n",
       "      <td>1.000209e+06</td>\n",
       "      <td>1.000209e+06</td>\n",
       "      <td>1000209</td>\n",
       "      <td>1.000209e+06</td>\n",
       "      <td>1.000209e+06</td>\n",
       "    </tr>\n",
       "    <tr>\n",
       "      <th>mean</th>\n",
       "      <td>3.024512e+03</td>\n",
       "      <td>1.865540e+03</td>\n",
       "      <td>3.581564e+00</td>\n",
       "      <td>2000-10-22 19:41:35.404665856</td>\n",
       "      <td>2.000126e+03</td>\n",
       "      <td>8.710371e+00</td>\n",
       "    </tr>\n",
       "    <tr>\n",
       "      <th>min</th>\n",
       "      <td>1.000000e+00</td>\n",
       "      <td>1.000000e+00</td>\n",
       "      <td>1.000000e+00</td>\n",
       "      <td>2000-04-25 23:05:32</td>\n",
       "      <td>2.000000e+03</td>\n",
       "      <td>1.000000e+00</td>\n",
       "    </tr>\n",
       "    <tr>\n",
       "      <th>25%</th>\n",
       "      <td>1.506000e+03</td>\n",
       "      <td>1.030000e+03</td>\n",
       "      <td>3.000000e+00</td>\n",
       "      <td>2000-08-03 11:37:17</td>\n",
       "      <td>2.000000e+03</td>\n",
       "      <td>7.000000e+00</td>\n",
       "    </tr>\n",
       "    <tr>\n",
       "      <th>50%</th>\n",
       "      <td>3.070000e+03</td>\n",
       "      <td>1.835000e+03</td>\n",
       "      <td>4.000000e+00</td>\n",
       "      <td>2000-10-31 18:46:46</td>\n",
       "      <td>2.000000e+03</td>\n",
       "      <td>9.000000e+00</td>\n",
       "    </tr>\n",
       "    <tr>\n",
       "      <th>75%</th>\n",
       "      <td>4.476000e+03</td>\n",
       "      <td>2.770000e+03</td>\n",
       "      <td>4.000000e+00</td>\n",
       "      <td>2000-11-26 06:42:19</td>\n",
       "      <td>2.000000e+03</td>\n",
       "      <td>1.100000e+01</td>\n",
       "    </tr>\n",
       "    <tr>\n",
       "      <th>max</th>\n",
       "      <td>6.040000e+03</td>\n",
       "      <td>3.952000e+03</td>\n",
       "      <td>5.000000e+00</td>\n",
       "      <td>2003-02-28 17:49:50</td>\n",
       "      <td>2.003000e+03</td>\n",
       "      <td>1.200000e+01</td>\n",
       "    </tr>\n",
       "    <tr>\n",
       "      <th>std</th>\n",
       "      <td>1.728413e+03</td>\n",
       "      <td>1.096041e+03</td>\n",
       "      <td>1.117102e+00</td>\n",
       "      <td>NaN</td>\n",
       "      <td>4.223923e-01</td>\n",
       "      <td>2.717470e+00</td>\n",
       "    </tr>\n",
       "  </tbody>\n",
       "</table>\n",
       "</div>"
      ],
      "text/plain": [
       "             UserID       MovieID        Rating  \\\n",
       "count  1.000209e+06  1.000209e+06  1.000209e+06   \n",
       "mean   3.024512e+03  1.865540e+03  3.581564e+00   \n",
       "min    1.000000e+00  1.000000e+00  1.000000e+00   \n",
       "25%    1.506000e+03  1.030000e+03  3.000000e+00   \n",
       "50%    3.070000e+03  1.835000e+03  4.000000e+00   \n",
       "75%    4.476000e+03  2.770000e+03  4.000000e+00   \n",
       "max    6.040000e+03  3.952000e+03  5.000000e+00   \n",
       "std    1.728413e+03  1.096041e+03  1.117102e+00   \n",
       "\n",
       "                           Timestamp          Year         Month  \n",
       "count                        1000209  1.000209e+06  1.000209e+06  \n",
       "mean   2000-10-22 19:41:35.404665856  2.000126e+03  8.710371e+00  \n",
       "min              2000-04-25 23:05:32  2.000000e+03  1.000000e+00  \n",
       "25%              2000-08-03 11:37:17  2.000000e+03  7.000000e+00  \n",
       "50%              2000-10-31 18:46:46  2.000000e+03  9.000000e+00  \n",
       "75%              2000-11-26 06:42:19  2.000000e+03  1.100000e+01  \n",
       "max              2003-02-28 17:49:50  2.003000e+03  1.200000e+01  \n",
       "std                              NaN  4.223923e-01  2.717470e+00  "
      ]
     },
     "execution_count": 23,
     "metadata": {},
     "output_type": "execute_result"
    }
   ],
   "source": [
    "ratings_df.info()\n",
    "ratings_df.describe()"
   ]
  },
  {
   "cell_type": "markdown",
   "metadata": {},
   "source": [
    "### Checking missing values"
   ]
  },
  {
   "cell_type": "code",
   "execution_count": 24,
   "metadata": {},
   "outputs": [
    {
     "data": {
      "text/plain": [
       "UserID       0\n",
       "MovieID      0\n",
       "Rating       0\n",
       "Timestamp    0\n",
       "Year         0\n",
       "Month        0\n",
       "dtype: int64"
      ]
     },
     "execution_count": 24,
     "metadata": {},
     "output_type": "execute_result"
    }
   ],
   "source": [
    "ratings_df.isnull().sum()"
   ]
  },
  {
   "cell_type": "markdown",
   "metadata": {},
   "source": [
    "### Visualisation of Data"
   ]
  },
  {
   "cell_type": "markdown",
   "metadata": {},
   "source": [
    "### Distribution of Ratings"
   ]
  },
  {
   "cell_type": "code",
   "execution_count": 25,
   "metadata": {},
   "outputs": [
    {
     "name": "stderr",
     "output_type": "stream",
     "text": [
      "/var/folders/93/vg7zf65913d920q1n72wl9580000gn/T/ipykernel_32534/3784224757.py:2: FutureWarning: \n",
      "\n",
      "Passing `palette` without assigning `hue` is deprecated and will be removed in v0.14.0. Assign the `x` variable to `hue` and set `legend=False` for the same effect.\n",
      "\n",
      "  sns.countplot(data=ratings_df, x='Rating', palette='coolwarm')\n"
     ]
    },
    {
     "data": {
      "image/png": "[encoded data removed]",
      "text/plain": [
       "<Figure size 800x600 with 1 Axes>"
      ]
     },
     "metadata": {},
     "output_type": "display_data"
    }
   ],
   "source": [
    "plt.figure(figsize=(8, 6))\n",
    "sns.countplot(data=ratings_df, x='Rating', palette='coolwarm')\n",
    "plt.title('Distribution of Ratings')\n",
    "plt.show()"
   ]
  },
  {
   "cell_type": "markdown",
   "metadata": {},
   "source": [
    "### No. of ratings per user"
   ]
  },
  {
   "cell_type": "code",
   "execution_count": 26,
   "metadata": {},
   "outputs": [
    {
     "data": {
      "image/png": "[encoded data removed]",
      "text/plain": [
       "<Figure size 800x600 with 1 Axes>"
      ]
     },
     "metadata": {},
     "output_type": "display_data"
    }
   ],
   "source": [
    "ratings_per_user = ratings_df.groupby('UserID')['Rating'].count()\n",
    "plt.figure(figsize=(8, 6))\n",
    "sns.histplot(ratings_per_user, bins=50, kde=False, color='purple')\n",
    "plt.title('Number of Ratings per User')\n",
    "plt.show()"
   ]
  },
  {
   "cell_type": "markdown",
   "metadata": {},
   "source": [
    "### No. of ratings per movie"
   ]
  },
  {
   "cell_type": "code",
   "execution_count": 27,
   "metadata": {},
   "outputs": [
    {
     "data": {
      "image/png": "[encoded data removed]",
      "text/plain": [
       "<Figure size 800x600 with 1 Axes>"
      ]
     },
     "metadata": {},
     "output_type": "display_data"
    }
   ],
   "source": [
    "ratings_per_movie = ratings_df.groupby('MovieID')['Rating'].count()\n",
    "plt.figure(figsize=(8, 6))\n",
    "sns.histplot(ratings_per_movie, bins=50, kde=False, color='green')\n",
    "plt.title('Number of Ratings per Movie')\n",
    "plt.show()"
   ]
  },
  {
   "cell_type": "markdown",
   "metadata": {},
   "source": []
  },
  {
   "cell_type": "code",
   "execution_count": 28,
   "metadata": {},
   "outputs": [
    {
     "data": {
      "image/png": "[encoded data removed]",
      "text/plain": [
       "<Figure size 1000x600 with 1 Axes>"
      ]
     },
     "metadata": {},
     "output_type": "display_data"
    }
   ],
   "source": [
    "ratings_df['Year'] = ratings_df['Timestamp'].dt.year\n",
    "ratings_over_time = ratings_df.groupby('Year')['Rating'].count()\n",
    "plt.figure(figsize=(10, 6))\n",
    "sns.lineplot(x=ratings_over_time.index, y=ratings_over_time.values, marker=\"o\", color='red')\n",
    "plt.title('Ratings Over Time')\n",
    "plt.xlabel('Year')\n",
    "plt.ylabel('Number of Ratings')\n",
    "plt.show()"
   ]
  },
  {
   "cell_type": "markdown",
   "metadata": {},
   "source": [
    "### Dropping missing values(if any)"
   ]
  },
  {
   "cell_type": "code",
   "execution_count": 29,
   "metadata": {},
   "outputs": [],
   "source": [
    "ratings_df = ratings_df.dropna()"
   ]
  },
  {
   "cell_type": "markdown",
   "metadata": {},
   "source": [
    "### User and Movie Interaction Features"
   ]
  },
  {
   "cell_type": "code",
   "execution_count": 30,
   "metadata": {},
   "outputs": [],
   "source": [
    "# Average rating given by each user\n",
    "ratings_df['User_Avg_Rating'] =ratings_df.groupby('UserID')['Rating'].transform('mean')\n",
    "\n",
    "# Average rating received by each movie\n",
    "ratings_df['Movie_Avg_Rating'] =ratings_df.groupby('MovieID')['Rating'].transform('mean')\n",
    "\n",
    "# Number of ratings given by each user\n",
    "ratings_df['User_Rating_Count'] =ratings_df.groupby('UserID')['Rating'].transform('count')\n",
    "\n",
    "# Number of ratings received by each movie\n",
    "ratings_df['Movie_Rating_Count'] =ratings_df.groupby('MovieID')['Rating'].transform('count')"
   ]
  },
  {
   "cell_type": "code",
   "execution_count": 31,
   "metadata": {},
   "outputs": [
    {
     "data": {
      "text/html": [
       "<div>\n",
       "<style scoped>\n",
       "    .dataframe tbody tr th:only-of-type {\n",
       "        vertical-align: middle;\n",
       "    }\n",
       "\n",
       "    .dataframe tbody tr th {\n",
       "        vertical-align: top;\n",
       "    }\n",
       "\n",
       "    .dataframe thead th {\n",
       "        text-align: right;\n",
       "    }\n",
       "</style>\n",
       "<table border=\"1\" class=\"dataframe\">\n",
       "  <thead>\n",
       "    <tr style=\"text-align: right;\">\n",
       "      <th></th>\n",
       "      <th>UserID</th>\n",
       "      <th>MovieID</th>\n",
       "      <th>Rating</th>\n",
       "      <th>Timestamp</th>\n",
       "      <th>Year</th>\n",
       "      <th>Month</th>\n",
       "      <th>User_Avg_Rating</th>\n",
       "      <th>Movie_Avg_Rating</th>\n",
       "      <th>User_Rating_Count</th>\n",
       "      <th>Movie_Rating_Count</th>\n",
       "    </tr>\n",
       "  </thead>\n",
       "  <tbody>\n",
       "    <tr>\n",
       "      <th>0</th>\n",
       "      <td>1</td>\n",
       "      <td>1193</td>\n",
       "      <td>5</td>\n",
       "      <td>2000-12-31 22:12:40</td>\n",
       "      <td>2000</td>\n",
       "      <td>12</td>\n",
       "      <td>4.188679</td>\n",
       "      <td>4.390725</td>\n",
       "      <td>53</td>\n",
       "      <td>1725</td>\n",
       "    </tr>\n",
       "    <tr>\n",
       "      <th>1</th>\n",
       "      <td>1</td>\n",
       "      <td>661</td>\n",
       "      <td>3</td>\n",
       "      <td>2000-12-31 22:35:09</td>\n",
       "      <td>2000</td>\n",
       "      <td>12</td>\n",
       "      <td>4.188679</td>\n",
       "      <td>3.464762</td>\n",
       "      <td>53</td>\n",
       "      <td>525</td>\n",
       "    </tr>\n",
       "    <tr>\n",
       "      <th>2</th>\n",
       "      <td>1</td>\n",
       "      <td>914</td>\n",
       "      <td>3</td>\n",
       "      <td>2000-12-31 22:32:48</td>\n",
       "      <td>2000</td>\n",
       "      <td>12</td>\n",
       "      <td>4.188679</td>\n",
       "      <td>4.154088</td>\n",
       "      <td>53</td>\n",
       "      <td>636</td>\n",
       "    </tr>\n",
       "    <tr>\n",
       "      <th>3</th>\n",
       "      <td>1</td>\n",
       "      <td>3408</td>\n",
       "      <td>4</td>\n",
       "      <td>2000-12-31 22:04:35</td>\n",
       "      <td>2000</td>\n",
       "      <td>12</td>\n",
       "      <td>4.188679</td>\n",
       "      <td>3.863878</td>\n",
       "      <td>53</td>\n",
       "      <td>1315</td>\n",
       "    </tr>\n",
       "    <tr>\n",
       "      <th>4</th>\n",
       "      <td>1</td>\n",
       "      <td>2355</td>\n",
       "      <td>5</td>\n",
       "      <td>2001-01-06 23:38:11</td>\n",
       "      <td>2001</td>\n",
       "      <td>1</td>\n",
       "      <td>4.188679</td>\n",
       "      <td>3.854375</td>\n",
       "      <td>53</td>\n",
       "      <td>1703</td>\n",
       "    </tr>\n",
       "    <tr>\n",
       "      <th>...</th>\n",
       "      <td>...</td>\n",
       "      <td>...</td>\n",
       "      <td>...</td>\n",
       "      <td>...</td>\n",
       "      <td>...</td>\n",
       "      <td>...</td>\n",
       "      <td>...</td>\n",
       "      <td>...</td>\n",
       "      <td>...</td>\n",
       "      <td>...</td>\n",
       "    </tr>\n",
       "    <tr>\n",
       "      <th>1000204</th>\n",
       "      <td>6040</td>\n",
       "      <td>1091</td>\n",
       "      <td>1</td>\n",
       "      <td>2000-04-26 02:35:41</td>\n",
       "      <td>2000</td>\n",
       "      <td>4</td>\n",
       "      <td>3.577713</td>\n",
       "      <td>2.793566</td>\n",
       "      <td>341</td>\n",
       "      <td>373</td>\n",
       "    </tr>\n",
       "    <tr>\n",
       "      <th>1000205</th>\n",
       "      <td>6040</td>\n",
       "      <td>1094</td>\n",
       "      <td>5</td>\n",
       "      <td>2000-04-25 23:21:27</td>\n",
       "      <td>2000</td>\n",
       "      <td>4</td>\n",
       "      <td>3.577713</td>\n",
       "      <td>3.731489</td>\n",
       "      <td>341</td>\n",
       "      <td>1229</td>\n",
       "    </tr>\n",
       "    <tr>\n",
       "      <th>1000206</th>\n",
       "      <td>6040</td>\n",
       "      <td>562</td>\n",
       "      <td>5</td>\n",
       "      <td>2000-04-25 23:19:06</td>\n",
       "      <td>2000</td>\n",
       "      <td>4</td>\n",
       "      <td>3.577713</td>\n",
       "      <td>3.799163</td>\n",
       "      <td>341</td>\n",
       "      <td>478</td>\n",
       "    </tr>\n",
       "    <tr>\n",
       "      <th>1000207</th>\n",
       "      <td>6040</td>\n",
       "      <td>1096</td>\n",
       "      <td>4</td>\n",
       "      <td>2000-04-26 02:20:48</td>\n",
       "      <td>2000</td>\n",
       "      <td>4</td>\n",
       "      <td>3.577713</td>\n",
       "      <td>3.976744</td>\n",
       "      <td>341</td>\n",
       "      <td>344</td>\n",
       "    </tr>\n",
       "    <tr>\n",
       "      <th>1000208</th>\n",
       "      <td>6040</td>\n",
       "      <td>1097</td>\n",
       "      <td>4</td>\n",
       "      <td>2000-04-26 02:19:29</td>\n",
       "      <td>2000</td>\n",
       "      <td>4</td>\n",
       "      <td>3.577713</td>\n",
       "      <td>3.965183</td>\n",
       "      <td>341</td>\n",
       "      <td>2269</td>\n",
       "    </tr>\n",
       "  </tbody>\n",
       "</table>\n",
       "<p>1000209 rows × 10 columns</p>\n",
       "</div>"
      ],
      "text/plain": [
       "         UserID  MovieID  Rating           Timestamp  Year  Month  \\\n",
       "0             1     1193       5 2000-12-31 22:12:40  2000     12   \n",
       "1             1      661       3 2000-12-31 22:35:09  2000     12   \n",
       "2             1      914       3 2000-12-31 22:32:48  2000     12   \n",
       "3             1     3408       4 2000-12-31 22:04:35  2000     12   \n",
       "4             1     2355       5 2001-01-06 23:38:11  2001      1   \n",
       "...         ...      ...     ...                 ...   ...    ...   \n",
       "1000204    6040     1091       1 2000-04-26 02:35:41  2000      4   \n",
       "1000205    6040     1094       5 2000-04-25 23:21:27  2000      4   \n",
       "1000206    6040      562       5 2000-04-25 23:19:06  2000      4   \n",
       "1000207    6040     1096       4 2000-04-26 02:20:48  2000      4   \n",
       "1000208    6040     1097       4 2000-04-26 02:19:29  2000      4   \n",
       "\n",
       "         User_Avg_Rating  Movie_Avg_Rating  User_Rating_Count  \\\n",
       "0               4.188679          4.390725                 53   \n",
       "1               4.188679          3.464762                 53   \n",
       "2               4.188679          4.154088                 53   \n",
       "3               4.188679          3.863878                 53   \n",
       "4               4.188679          3.854375                 53   \n",
       "...                  ...               ...                ...   \n",
       "1000204         3.577713          2.793566                341   \n",
       "1000205         3.577713          3.731489                341   \n",
       "1000206         3.577713          3.799163                341   \n",
       "1000207         3.577713          3.976744                341   \n",
       "1000208         3.577713          3.965183                341   \n",
       "\n",
       "         Movie_Rating_Count  \n",
       "0                      1725  \n",
       "1                       525  \n",
       "2                       636  \n",
       "3                      1315  \n",
       "4                      1703  \n",
       "...                     ...  \n",
       "1000204                 373  \n",
       "1000205                1229  \n",
       "1000206                 478  \n",
       "1000207                 344  \n",
       "1000208                2269  \n",
       "\n",
       "[1000209 rows x 10 columns]"
      ]
     },
     "execution_count": 31,
     "metadata": {},
     "output_type": "execute_result"
    }
   ],
   "source": [
    "ratings_df"
   ]
  },
  {
   "cell_type": "code",
   "execution_count": null,
   "metadata": {},
   "outputs": [],
   "source": []
  }
 ],
 "metadata": {
  "kernelspec": {
   "display_name": "Python 3",
   "language": "python",
   "name": "python3"
  },
  "language_info": {
   "codemirror_mode": {
    "name": "ipython",
    "version": 3
   },
   "file_extension": ".py",
   "mimetype": "text/x-python",
   "name": "python",
   "nbconvert_exporter": "python",
   "pygments_lexer": "ipython3",
   "version": "3.9.6"
  }
 },
 "nbformat": 4,
 "nbformat_minor": 2
}
