{
 "cells": [
  {
   "cell_type": "code",
   "execution_count": 17,
   "metadata": {},
   "outputs": [],
   "source": [
    "import pandas as pd\n",
    "import numpy as np\n",
    "from scipy.sparse.linalg import svds\n",
    "from sklearn.metrics import mean_squared_error"
   ]
  },
  {
   "cell_type": "code",
   "execution_count": 18,
   "metadata": {},
   "outputs": [],
   "source": [
    "# Load the dataset\n",
    "data = pd.read_table('../data/u.data')\n",
    "\n",
    "# Create a user-item matrix\n",
    "ratings_matrix = data.pivot(index='user', columns='event', values='rating').fillna(0)"
   ]
  },
  {
   "cell_type": "code",
   "execution_count": 19,
   "metadata": {},
   "outputs": [],
   "source": [
    "# Perform SVD\n",
    "U, sigma, Vt = np.linalg.svd(ratings_matrix)\n",
    "\n",
    "k = 10\n",
    "U = U[:, :k]\n",
    "sigma = np.diag(sigma[:k])\n",
    "Vt = Vt[:k, :]"
   ]
  },
  {
   "cell_type": "code",
   "execution_count": 20,
   "metadata": {},
   "outputs": [],
   "source": [
    "# Reconstruct the original matrix\n",
    "predicted_ratings = np.dot(np.dot(U, sigma), Vt)\n",
    "\n",
    "# Convert to DataFrame\n",
    "predicted_ratings_df = pd.DataFrame(predicted_ratings, columns=ratings_matrix.columns, index=ratings_matrix.index)"
   ]
  },
  {
   "cell_type": "code",
   "execution_count": 21,
   "metadata": {},
   "outputs": [],
   "source": [
    "# Calculate RMSE\n",
    "def calculate_rmse(actual, predicted):\n",
    "    # Keep only non-zero elements to match actual ratings\n",
    "    nonzero_indexes = np.nonzero(actual)\n",
    "    actual_nonzero = actual[nonzero_indexes]\n",
    "    predicted_nonzero = predicted[nonzero_indexes]\n",
    "    \n",
    "    # Calculate RMSE\n",
    "    rmse = np.sqrt(mean_squared_error(actual_nonzero, predicted_nonzero))\n",
    "    return rmse"
   ]
  },
  {
   "cell_type": "code",
   "execution_count": 22,
   "metadata": {},
   "outputs": [
    {
     "name": "stdout",
     "output_type": "stream",
     "text": [
      "RMSE: 7.606655358368348e-15\n",
      "Top recommendations for user 22\n",
      "event\n",
      "194    5.0\n",
      "510    5.0\n",
      "435    5.0\n",
      "238    5.0\n",
      "523    5.0\n",
      "204    5.0\n",
      "187    5.0\n",
      "202    5.0\n",
      "515    5.0\n",
      "24     5.0\n",
      "Name: 22, dtype: float64\n"
     ]
    }
   ],
   "source": [
    "actual_ratings_matrix = ratings_matrix.values\n",
    "rmse = calculate_rmse(actual_ratings_matrix, predicted_ratings)\n",
    "\n",
    "print(\"RMSE:\", rmse)\n",
    "\n",
    "# Recommendation for a specific user (e.g., user with ID 22)\n",
    "user_id = 22\n",
    "user_ratings = predicted_ratings_df.loc[user_id]\n",
    "top_recommendations = user_ratings.sort_values(ascending=False).head(10)\n",
    "\n",
    "print(\"Top recommendations for user\", user_id)\n",
    "print(top_recommendations)"
   ]
  }
 ],
 "metadata": {
  "kernelspec": {
   "display_name": ".venv",
   "language": "python",
   "name": "python3"
  },
  "language_info": {
   "codemirror_mode": {
    "name": "ipython",
    "version": 3
   },
   "file_extension": ".py",
   "mimetype": "text/x-python",
   "name": "python",
   "nbconvert_exporter": "python",
   "pygments_lexer": "ipython3",
   "version": "3.9.18"
  }
 },
 "nbformat": 4,
 "nbformat_minor": 2
}
