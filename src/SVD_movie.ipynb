{
 "cells": [
  {
   "cell_type": "code",
   "execution_count": 80,
   "metadata": {},
   "outputs": [],
   "source": [
    "import pandas as pd\n",
    "import numpy as np\n",
    "from scipy.sparse.linalg import svds\n",
    "from sklearn.metrics import mean_squared_error"
   ]
  },
  {
   "cell_type": "code",
   "execution_count": 81,
   "metadata": {},
   "outputs": [],
   "source": [
    "# Load the dataset\n",
    "data = pd.read_csv('../data/event_attendees_processed.csv')\n",
    "# Create a user-item matrix\n",
    "# ratings_matrix = data.pivot(index='user', columns='event', values='rating').fillna(0)"
   ]
  },
  {
   "cell_type": "code",
   "execution_count": 82,
   "metadata": {},
   "outputs": [],
   "source": [
    "# Perform SVD\n",
    "U, sigma, Vt = np.linalg.svd(ratings_matrix)\n",
    "\n",
    "k = 12\n",
    "U = U[:, :k]\n",
    "sigma = np.diag(sigma[:k])\n",
    "Vt = Vt[:k, :]"
   ]
  },
  {
   "cell_type": "code",
   "execution_count": 83,
   "metadata": {},
   "outputs": [],
   "source": [
    "# Reconstruct the original matrix\n",
    "predicted_ratings = np.dot(np.dot(U, sigma), Vt)\n",
    "\n",
    "# Convert to DataFrame\n",
    "predicted_ratings_df = pd.DataFrame(predicted_ratings, columns=ratings_matrix.columns, index=ratings_matrix.index)"
   ]
  },
  {
   "cell_type": "code",
   "execution_count": 84,
   "metadata": {},
   "outputs": [],
   "source": [
    "# Calculate RMSE\n",
    "def calculate_rmse(actual, predicted):\n",
    "    # Keep only non-zero elements to match actual ratings\n",
    "    nonzero_indexes = np.nonzero(actual)\n",
    "    actual_nonzero = actual[nonzero_indexes]\n",
    "    predicted_nonzero = predicted[nonzero_indexes]\n",
    "    \n",
    "    # Calculate RMSE\n",
    "    rmse = np.sqrt(mean_squared_error(actual_nonzero, predicted_nonzero))\n",
    "    return rmse"
   ]
  },
  {
   "cell_type": "code",
   "execution_count": 85,
   "metadata": {},
   "outputs": [
    {
     "name": "stdout",
     "output_type": "stream",
     "text": [
      "RMSE: 2.2415730385348027\n",
      "Top recommendations for user 22\n",
      "event\n",
      "50     4.849679\n",
      "210    4.591317\n",
      "181    4.360884\n",
      "174    4.245314\n",
      "195    4.056759\n",
      "228    4.016082\n",
      "96     3.921914\n",
      "89     3.865199\n",
      "172    3.792933\n",
      "168    3.674632\n",
      "Name: 22, dtype: float64\n"
     ]
    }
   ],
   "source": [
    "actual_ratings_matrix = ratings_matrix.values\n",
    "rmse = calculate_rmse(actual_ratings_matrix, predicted_ratings)\n",
    "\n",
    "print(\"RMSE:\", rmse)\n",
    "\n",
    "# Recommendation for a specific user (e.g., user with ID 22)\n",
    "user_id = 22\n",
    "user_ratings = predicted_ratings_df.loc[user_id]\n",
    "top_recommendations = user_ratings.sort_values(ascending=False).head(10)\n",
    "\n",
    "print(\"Top recommendations for user\", user_id)\n",
    "print(top_recommendations)"
   ]
  }
 ],
 "metadata": {
  "kernelspec": {
   "display_name": ".venv",
   "language": "python",
   "name": "python3"
  },
  "language_info": {
   "codemirror_mode": {
    "name": "ipython",
    "version": 3
   },
   "file_extension": ".py",
   "mimetype": "text/x-python",
   "name": "python",
   "nbconvert_exporter": "python",
   "pygments_lexer": "ipython3",
   "version": "3.9.18"
  }
 },
 "nbformat": 4,
 "nbformat_minor": 2
}
