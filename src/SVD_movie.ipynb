{
 "cells": [
  {
   "cell_type": "code",
   "execution_count": 5,
   "metadata": {},
   "outputs": [],
   "source": [
    "import pandas as pd\n",
    "import numpy as np\n",
    "from scipy.sparse.linalg import svds\n",
    "from sklearn.metrics import mean_squared_error"
   ]
  },
  {
   "cell_type": "code",
   "execution_count": 6,
   "metadata": {},
   "outputs": [],
   "source": [
    "data = pd.read_csv('/home/tanmaypatil/Documents/DS/hybrid-recommendation-system/data/movies_grouplens/ratings.dat',\n",
    "                   delimiter='::', header=None, engine='python', encoding='latin1')\n",
    "data.columns = ['user', 'event', 'rating', 'timestamp']\n",
    "\n",
    "# Create a user-item matrix\n",
    "ratings_matrix = data.pivot(\n",
    "    index='user', columns='event', values='rating').fillna(0)"
   ]
  },
  {
   "cell_type": "code",
   "execution_count": 3,
   "metadata": {},
   "outputs": [],
   "source": [
    "# Perform SVD\n",
    "U, sigma, Vt = np.linalg.svd(ratings_matrix)\n",
    "\n",
    "k = 1000\n",
    "U = U[:, :k]\n",
    "sigma = np.diag(sigma[:k])\n",
    "Vt = Vt[:k, :]"
   ]
  },
  {
   "cell_type": "code",
   "execution_count": 7,
   "metadata": {},
   "outputs": [],
   "source": [
    "U_1, sigma_1, Vt_1 = np.linalg.svd(ratings_matrix)\n",
    "\n",
    "k_2 = 96\n",
    "U_1 = U_1[:, :k_2]\n",
    "sigma_1 = np.diag(sigma_1[:k_2])\n",
    "Vt_1 = Vt_1[:k_2, :]"
   ]
  },
  {
   "cell_type": "code",
   "execution_count": 8,
   "metadata": {},
   "outputs": [],
   "source": [
    "u_1_shape = list(U_1.shape)\n",
    "sig_1_shape = list(sigma_1.shape)\n",
    "v_1_shape = list(Vt_1.shape)"
   ]
  },
  {
   "cell_type": "code",
   "execution_count": 9,
   "metadata": {},
   "outputs": [
    {
     "data": {
      "text/plain": [
       "935712"
      ]
     },
     "execution_count": 9,
     "metadata": {},
     "output_type": "execute_result"
    }
   ],
   "source": [
    "paramters_1 = u_1_shape[0] * u_1_shape[1] + \\\n",
    "    sig_1_shape[0] + v_1_shape[0] * v_1_shape[1]\n",
    "paramters_1"
   ]
  },
  {
   "cell_type": "code",
   "execution_count": 26,
   "metadata": {},
   "outputs": [],
   "source": [
    "u_shape = list(U.shape)\n",
    "sig_shape = list(sigma.shape)\n",
    "v_shape = list(Vt.shape)"
   ]
  },
  {
   "cell_type": "code",
   "execution_count": 27,
   "metadata": {},
   "outputs": [
    {
     "data": {
      "text/plain": [
       "9747000"
      ]
     },
     "execution_count": 27,
     "metadata": {},
     "output_type": "execute_result"
    }
   ],
   "source": [
    "paramters = u_shape[0] * u_shape[1] + sig_shape[0] + v_shape[0] * v_shape[1]\n",
    "paramters"
   ]
  },
  {
   "cell_type": "code",
   "execution_count": 10,
   "metadata": {},
   "outputs": [],
   "source": [
    "# Reconstruct the original matrix\n",
    "predicted_ratings = np.dot(np.dot(U_1, sigma_1), Vt_1)\n",
    "\n",
    "# Convert to DataFrame\n",
    "predicted_ratings_df = pd.DataFrame(\n",
    "    predicted_ratings, columns=ratings_matrix.columns, index=ratings_matrix.index)"
   ]
  },
  {
   "cell_type": "code",
   "execution_count": 11,
   "metadata": {},
   "outputs": [],
   "source": [
    "# Calculate RMSE\n",
    "def calculate_rmse(actual, predicted):\n",
    "    # Keep only non-zero elements to match actual ratings\n",
    "    nonzero_indexes = np.nonzero(actual)\n",
    "    actual_nonzero = actual[nonzero_indexes]\n",
    "    predicted_nonzero = predicted[nonzero_indexes]\n",
    "\n",
    "    # Calculate RMSE\n",
    "    rmse = np.sqrt(mean_squared_error(actual_nonzero, predicted_nonzero))\n",
    "    return rmse"
   ]
  },
  {
   "cell_type": "code",
   "execution_count": 12,
   "metadata": {},
   "outputs": [
    {
     "name": "stdout",
     "output_type": "stream",
     "text": [
      "RMSE: 2.078302834229093\n",
      "Top recommendations for user 22\n",
      "event\n",
      "608     5.543310\n",
      "2804    5.145380\n",
      "2997    4.887406\n",
      "589     4.874319\n",
      "1240    4.771125\n",
      "1259    4.541953\n",
      "2791    4.378053\n",
      "1265    4.302413\n",
      "318     4.284745\n",
      "3578    4.261340\n",
      "Name: 22, dtype: float64\n"
     ]
    }
   ],
   "source": [
    "actual_ratings_matrix = ratings_matrix.values\n",
    "rmse = calculate_rmse(actual_ratings_matrix, predicted_ratings)\n",
    "\n",
    "print(\"RMSE:\", rmse)\n",
    "\n",
    "# Recommendation for a specific user (e.g., user with ID 22)\n",
    "user_id = 22\n",
    "user_ratings = predicted_ratings_df.loc[user_id]\n",
    "top_recommendations = user_ratings.sort_values(ascending=False).head(10)\n",
    "\n",
    "print(\"Top recommendations for user\", user_id)\n",
    "print(top_recommendations)"
   ]
  }
 ],
 "metadata": {
  "kernelspec": {
   "display_name": ".venv",
   "language": "python",
   "name": "python3"
  },
  "language_info": {
   "codemirror_mode": {
    "name": "ipython",
    "version": 3
   },
   "file_extension": ".py",
   "mimetype": "text/x-python",
   "name": "python",
   "nbconvert_exporter": "python",
   "pygments_lexer": "ipython3",
   "version": "3.12.7"
  }
 },
 "nbformat": 4,
 "nbformat_minor": 2
}
