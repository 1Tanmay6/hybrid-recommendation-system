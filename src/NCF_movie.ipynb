{
 "cells": [
  {
   "cell_type": "code",
   "execution_count": 1,
   "metadata": {},
   "outputs": [
    {
     "name": "stderr",
     "output_type": "stream",
     "text": [
      "/tmp/ipykernel_6027/2864461462.py:1: DeprecationWarning: \n",
      "Pyarrow will become a required dependency of pandas in the next major release of pandas (pandas 3.0),\n",
      "(to allow more performant data types, such as the Arrow string type, and better interoperability with other libraries)\n",
      "but was not found to be installed on your system.\n",
      "If this would cause problems for you,\n",
      "please provide us feedback at https://github.com/pandas-dev/pandas/issues/54466\n",
      "        \n",
      "  import pandas as pd\n",
      "2024-05-23 08:35:19.109321: I tensorflow/core/util/port.cc:113] oneDNN custom operations are on. You may see slightly different numerical results due to floating-point round-off errors from different computation orders. To turn them off, set the environment variable `TF_ENABLE_ONEDNN_OPTS=0`.\n",
      "2024-05-23 08:35:19.264957: E external/local_xla/xla/stream_executor/cuda/cuda_dnn.cc:9261] Unable to register cuDNN factory: Attempting to register factory for plugin cuDNN when one has already been registered\n",
      "2024-05-23 08:35:19.265011: E external/local_xla/xla/stream_executor/cuda/cuda_fft.cc:607] Unable to register cuFFT factory: Attempting to register factory for plugin cuFFT when one has already been registered\n",
      "2024-05-23 08:35:19.284764: E external/local_xla/xla/stream_executor/cuda/cuda_blas.cc:1515] Unable to register cuBLAS factory: Attempting to register factory for plugin cuBLAS when one has already been registered\n",
      "2024-05-23 08:35:19.327706: I tensorflow/core/platform/cpu_feature_guard.cc:182] This TensorFlow binary is optimized to use available CPU instructions in performance-critical operations.\n",
      "To enable the following instructions: AVX2 AVX512F AVX512_VNNI FMA, in other operations, rebuild TensorFlow with the appropriate compiler flags.\n",
      "2024-05-23 08:35:20.621407: W tensorflow/compiler/tf2tensorrt/utils/py_utils.cc:38] TF-TRT Warning: Could not find TensorRT\n"
     ]
    }
   ],
   "source": [
    "import pandas as pd\n",
    "import numpy as np\n",
    "import matplotlib.pyplot as plt\n",
    "import seaborn as sns\n",
    "from sklearn.model_selection import train_test_split\n",
    "import tensorflow as tf"
   ]
  },
  {
   "cell_type": "code",
   "execution_count": 2,
   "metadata": {},
   "outputs": [],
   "source": [
    "data = pd.read_table('../data/u.data')"
   ]
  },
  {
   "cell_type": "code",
   "execution_count": 3,
   "metadata": {},
   "outputs": [
    {
     "data": {
      "text/html": [
       "<div>\n",
       "<style scoped>\n",
       "    .dataframe tbody tr th:only-of-type {\n",
       "        vertical-align: middle;\n",
       "    }\n",
       "\n",
       "    .dataframe tbody tr th {\n",
       "        vertical-align: top;\n",
       "    }\n",
       "\n",
       "    .dataframe thead th {\n",
       "        text-align: right;\n",
       "    }\n",
       "</style>\n",
       "<table border=\"1\" class=\"dataframe\">\n",
       "  <thead>\n",
       "    <tr style=\"text-align: right;\">\n",
       "      <th></th>\n",
       "      <th>user</th>\n",
       "      <th>event</th>\n",
       "      <th>rating</th>\n",
       "      <th>timestamp</th>\n",
       "    </tr>\n",
       "  </thead>\n",
       "  <tbody>\n",
       "    <tr>\n",
       "      <th>0</th>\n",
       "      <td>196</td>\n",
       "      <td>242</td>\n",
       "      <td>3</td>\n",
       "      <td>881250949</td>\n",
       "    </tr>\n",
       "    <tr>\n",
       "      <th>1</th>\n",
       "      <td>186</td>\n",
       "      <td>302</td>\n",
       "      <td>3</td>\n",
       "      <td>891717742</td>\n",
       "    </tr>\n",
       "    <tr>\n",
       "      <th>2</th>\n",
       "      <td>22</td>\n",
       "      <td>377</td>\n",
       "      <td>1</td>\n",
       "      <td>878887116</td>\n",
       "    </tr>\n",
       "    <tr>\n",
       "      <th>3</th>\n",
       "      <td>244</td>\n",
       "      <td>51</td>\n",
       "      <td>2</td>\n",
       "      <td>880606923</td>\n",
       "    </tr>\n",
       "    <tr>\n",
       "      <th>4</th>\n",
       "      <td>166</td>\n",
       "      <td>346</td>\n",
       "      <td>1</td>\n",
       "      <td>886397596</td>\n",
       "    </tr>\n",
       "    <tr>\n",
       "      <th>...</th>\n",
       "      <td>...</td>\n",
       "      <td>...</td>\n",
       "      <td>...</td>\n",
       "      <td>...</td>\n",
       "    </tr>\n",
       "    <tr>\n",
       "      <th>99995</th>\n",
       "      <td>880</td>\n",
       "      <td>476</td>\n",
       "      <td>3</td>\n",
       "      <td>880175444</td>\n",
       "    </tr>\n",
       "    <tr>\n",
       "      <th>99996</th>\n",
       "      <td>716</td>\n",
       "      <td>204</td>\n",
       "      <td>5</td>\n",
       "      <td>879795543</td>\n",
       "    </tr>\n",
       "    <tr>\n",
       "      <th>99997</th>\n",
       "      <td>276</td>\n",
       "      <td>1090</td>\n",
       "      <td>1</td>\n",
       "      <td>874795795</td>\n",
       "    </tr>\n",
       "    <tr>\n",
       "      <th>99998</th>\n",
       "      <td>13</td>\n",
       "      <td>225</td>\n",
       "      <td>2</td>\n",
       "      <td>882399156</td>\n",
       "    </tr>\n",
       "    <tr>\n",
       "      <th>99999</th>\n",
       "      <td>12</td>\n",
       "      <td>203</td>\n",
       "      <td>3</td>\n",
       "      <td>879959583</td>\n",
       "    </tr>\n",
       "  </tbody>\n",
       "</table>\n",
       "<p>100000 rows × 4 columns</p>\n",
       "</div>"
      ],
      "text/plain": [
       "       user  event  rating  timestamp\n",
       "0       196    242       3  881250949\n",
       "1       186    302       3  891717742\n",
       "2        22    377       1  878887116\n",
       "3       244     51       2  880606923\n",
       "4       166    346       1  886397596\n",
       "...     ...    ...     ...        ...\n",
       "99995   880    476       3  880175444\n",
       "99996   716    204       5  879795543\n",
       "99997   276   1090       1  874795795\n",
       "99998    13    225       2  882399156\n",
       "99999    12    203       3  879959583\n",
       "\n",
       "[100000 rows x 4 columns]"
      ]
     },
     "execution_count": 3,
     "metadata": {},
     "output_type": "execute_result"
    }
   ],
   "source": [
    "data"
   ]
  },
  {
   "cell_type": "code",
   "execution_count": 4,
   "metadata": {},
   "outputs": [],
   "source": [
    "users = data['user'].unique()\n",
    "events = data['event'].unique()\n",
    "user_to_idx = {user: idx for idx, user in enumerate(users)}\n",
    "event_to_idx = {event: idx for idx, event in enumerate(events)}\n",
    "\n",
    "data['user_idx'] = data['user'].map(user_to_idx)\n",
    "data['event_idx'] = data['event'].map(event_to_idx)\n",
    "\n",
    "train_data, test_data = train_test_split(data, test_size=0.2, random_state=21)"
   ]
  },
  {
   "cell_type": "code",
   "execution_count": 5,
   "metadata": {},
   "outputs": [
    {
     "name": "stderr",
     "output_type": "stream",
     "text": [
      "2024-05-21 12:54:14.600307: I external/local_xla/xla/stream_executor/cuda/cuda_executor.cc:901] successful NUMA node read from SysFS had negative value (-1), but there must be at least one NUMA node, so returning NUMA node zero. See more at https://github.com/torvalds/linux/blob/v6.0/Documentation/ABI/testing/sysfs-bus-pci#L344-L355\n",
      "2024-05-21 12:54:14.658606: I external/local_xla/xla/stream_executor/cuda/cuda_executor.cc:901] successful NUMA node read from SysFS had negative value (-1), but there must be at least one NUMA node, so returning NUMA node zero. See more at https://github.com/torvalds/linux/blob/v6.0/Documentation/ABI/testing/sysfs-bus-pci#L344-L355\n",
      "2024-05-21 12:54:14.658759: I external/local_xla/xla/stream_executor/cuda/cuda_executor.cc:901] successful NUMA node read from SysFS had negative value (-1), but there must be at least one NUMA node, so returning NUMA node zero. See more at https://github.com/torvalds/linux/blob/v6.0/Documentation/ABI/testing/sysfs-bus-pci#L344-L355\n",
      "2024-05-21 12:54:14.659874: I external/local_xla/xla/stream_executor/cuda/cuda_executor.cc:901] successful NUMA node read from SysFS had negative value (-1), but there must be at least one NUMA node, so returning NUMA node zero. See more at https://github.com/torvalds/linux/blob/v6.0/Documentation/ABI/testing/sysfs-bus-pci#L344-L355\n",
      "2024-05-21 12:54:14.660000: I external/local_xla/xla/stream_executor/cuda/cuda_executor.cc:901] successful NUMA node read from SysFS had negative value (-1), but there must be at least one NUMA node, so returning NUMA node zero. See more at https://github.com/torvalds/linux/blob/v6.0/Documentation/ABI/testing/sysfs-bus-pci#L344-L355\n",
      "2024-05-21 12:54:14.660076: I external/local_xla/xla/stream_executor/cuda/cuda_executor.cc:901] successful NUMA node read from SysFS had negative value (-1), but there must be at least one NUMA node, so returning NUMA node zero. See more at https://github.com/torvalds/linux/blob/v6.0/Documentation/ABI/testing/sysfs-bus-pci#L344-L355\n",
      "2024-05-21 12:54:14.699287: I external/local_xla/xla/stream_executor/cuda/cuda_executor.cc:901] successful NUMA node read from SysFS had negative value (-1), but there must be at least one NUMA node, so returning NUMA node zero. See more at https://github.com/torvalds/linux/blob/v6.0/Documentation/ABI/testing/sysfs-bus-pci#L344-L355\n",
      "2024-05-21 12:54:14.699416: I external/local_xla/xla/stream_executor/cuda/cuda_executor.cc:901] successful NUMA node read from SysFS had negative value (-1), but there must be at least one NUMA node, so returning NUMA node zero. See more at https://github.com/torvalds/linux/blob/v6.0/Documentation/ABI/testing/sysfs-bus-pci#L344-L355\n",
      "2024-05-21 12:54:14.699498: I external/local_xla/xla/stream_executor/cuda/cuda_executor.cc:901] successful NUMA node read from SysFS had negative value (-1), but there must be at least one NUMA node, so returning NUMA node zero. See more at https://github.com/torvalds/linux/blob/v6.0/Documentation/ABI/testing/sysfs-bus-pci#L344-L355\n",
      "2024-05-21 12:54:14.699570: I tensorflow/core/common_runtime/gpu/gpu_device.cc:1929] Created device /job:localhost/replica:0/task:0/device:GPU:0 with 4277 MB memory:  -> device: 0, name: NVIDIA GeForce RTX 3060 Laptop GPU, pci bus id: 0000:01:00.0, compute capability: 8.6\n"
     ]
    }
   ],
   "source": [
    "class NCF(tf.keras.Model):\n",
    "    def __init__(self, num_users, num_events, embedding_dim=96):\n",
    "        super(NCF, self).__init__()\n",
    "        self.user_embed = tf.keras.layers.Embedding(num_users, embedding_dim)\n",
    "        self.event_embed = tf.keras.layers.Embedding(num_events, embedding_dim)\n",
    "        self.mlp = tf.keras.Sequential([\n",
    "            tf.keras.layers.Dense(128, activation='swish'),\n",
    "            tf.keras.layers.Dense(64, activation='swish'),\n",
    "            # tf.keras.layers.Dense(64, activation='swish'),\n",
    "            tf.keras.layers.Dense(1)\n",
    "        ])\n",
    "\n",
    "    def call(self, inputs):\n",
    "        user_idx, event_idx = inputs\n",
    "        user_emb = self.user_embed(user_idx)\n",
    "        event_emb = self.event_embed(event_idx)\n",
    "        concat_emb = tf.concat([user_emb, event_emb], axis=1)\n",
    "        output = self.mlp(concat_emb)\n",
    "        return output\n",
    "\n",
    "\n",
    "num_users = len(users)\n",
    "num_events = len(events)\n",
    "model = NCF(num_users, num_events)\n",
    "\n",
    "model.compile(optimizer='nadam', loss='mean_squared_error', metrics=[tf.keras.metrics.RootMeanSquaredError()])"
   ]
  },
  {
   "cell_type": "code",
   "execution_count": 6,
   "metadata": {},
   "outputs": [],
   "source": [
    "train_user_idx = tf.constant(train_data['user_idx'].values, dtype=tf.int32)\n",
    "train_event_idx = tf.constant(train_data['event_idx'].values, dtype=tf.int32)\n",
    "train_target = tf.constant(train_data['rating'].values, dtype=tf.float32)"
   ]
  },
  {
   "cell_type": "code",
   "execution_count": 7,
   "metadata": {},
   "outputs": [
    {
     "data": {
      "text/plain": [
       "<tf.Tensor: shape=(80000,), dtype=int32, numpy=array([ 70, 925, 784, ..., 837, 739,  53], dtype=int32)>"
      ]
     },
     "execution_count": 7,
     "metadata": {},
     "output_type": "execute_result"
    }
   ],
   "source": [
    "train_user_idx"
   ]
  },
  {
   "cell_type": "code",
   "execution_count": 8,
   "metadata": {},
   "outputs": [
    {
     "data": {
      "text/plain": [
       "<tf.Tensor: shape=(80000,), dtype=int32, numpy=array([372, 262, 355, ..., 454, 229, 269], dtype=int32)>"
      ]
     },
     "execution_count": 8,
     "metadata": {},
     "output_type": "execute_result"
    }
   ],
   "source": [
    "train_event_idx"
   ]
  },
  {
   "cell_type": "code",
   "execution_count": 9,
   "metadata": {},
   "outputs": [
    {
     "name": "stdout",
     "output_type": "stream",
     "text": [
      "Epoch 1/100\n"
     ]
    },
    {
     "name": "stderr",
     "output_type": "stream",
     "text": [
      "2024-05-21 12:54:15.640526: I external/local_tsl/tsl/platform/default/subprocess.cc:304] Start cannot spawn child process: No such file or directory\n",
      "2024-05-21 12:54:15.937623: I external/local_xla/xla/service/service.cc:168] XLA service 0x7fe0ee4c8700 initialized for platform CUDA (this does not guarantee that XLA will be used). Devices:\n",
      "2024-05-21 12:54:15.937645: I external/local_xla/xla/service/service.cc:176]   StreamExecutor device (0): NVIDIA GeForce RTX 3060 Laptop GPU, Compute Capability 8.6\n",
      "2024-05-21 12:54:15.952644: I tensorflow/compiler/mlir/tensorflow/utils/dump_mlir_util.cc:269] disabling MLIR crash reproducer, set env var `MLIR_CRASH_REPRODUCER_DIRECTORY` to enable.\n",
      "2024-05-21 12:54:15.966699: I external/local_xla/xla/stream_executor/cuda/cuda_dnn.cc:454] Loaded cuDNN version 8902\n",
      "WARNING: All log messages before absl::InitializeLog() is called are written to STDERR\n",
      "I0000 00:00:1716276256.081724    5946 device_compiler.h:186] Compiled cluster using XLA!  This line is logged at most once for the lifetime of the process.\n"
     ]
    },
    {
     "name": "stdout",
     "output_type": "stream",
     "text": [
      "563/563 [==============================] - 8s 12ms/step - loss: 1.5851 - root_mean_squared_error: 1.2590 - val_loss: 0.9253 - val_root_mean_squared_error: 0.9619\n",
      "Epoch 2/100\n",
      "563/563 [==============================] - 2s 3ms/step - loss: 0.9031 - root_mean_squared_error: 0.9503 - val_loss: 0.9075 - val_root_mean_squared_error: 0.9527\n",
      "Epoch 3/100\n",
      "563/563 [==============================] - 2s 3ms/step - loss: 0.8815 - root_mean_squared_error: 0.9389 - val_loss: 0.8911 - val_root_mean_squared_error: 0.9440\n",
      "Epoch 4/100\n",
      "563/563 [==============================] - 2s 3ms/step - loss: 0.8592 - root_mean_squared_error: 0.9270 - val_loss: 0.8820 - val_root_mean_squared_error: 0.9391\n",
      "Epoch 5/100\n",
      "563/563 [==============================] - 2s 3ms/step - loss: 0.8434 - root_mean_squared_error: 0.9183 - val_loss: 0.8836 - val_root_mean_squared_error: 0.9400\n",
      "Epoch 6/100\n",
      "563/563 [==============================] - 1s 3ms/step - loss: 0.8283 - root_mean_squared_error: 0.9101 - val_loss: 0.8750 - val_root_mean_squared_error: 0.9354\n",
      "Epoch 7/100\n",
      "563/563 [==============================] - 1s 2ms/step - loss: 0.8154 - root_mean_squared_error: 0.9030 - val_loss: 0.8718 - val_root_mean_squared_error: 0.9337\n",
      "Epoch 8/100\n",
      "563/563 [==============================] - 1s 3ms/step - loss: 0.8041 - root_mean_squared_error: 0.8967 - val_loss: 0.8712 - val_root_mean_squared_error: 0.9334\n",
      "Epoch 9/100\n",
      "563/563 [==============================] - 1s 3ms/step - loss: 0.7935 - root_mean_squared_error: 0.8908 - val_loss: 0.8682 - val_root_mean_squared_error: 0.9318\n",
      "Epoch 10/100\n",
      "563/563 [==============================] - 1s 3ms/step - loss: 0.7825 - root_mean_squared_error: 0.8846 - val_loss: 0.8593 - val_root_mean_squared_error: 0.9270\n",
      "Epoch 11/100\n",
      "563/563 [==============================] - 2s 3ms/step - loss: 0.7675 - root_mean_squared_error: 0.8761 - val_loss: 0.8535 - val_root_mean_squared_error: 0.9238\n",
      "Epoch 12/100\n",
      "563/563 [==============================] - 1s 3ms/step - loss: 0.7548 - root_mean_squared_error: 0.8688 - val_loss: 0.8587 - val_root_mean_squared_error: 0.9267\n",
      "Epoch 13/100\n",
      "563/563 [==============================] - 1s 2ms/step - loss: 0.7435 - root_mean_squared_error: 0.8623 - val_loss: 0.8571 - val_root_mean_squared_error: 0.9258\n",
      "Epoch 14/100\n",
      "563/563 [==============================] - 1s 2ms/step - loss: 0.7314 - root_mean_squared_error: 0.8552 - val_loss: 0.8554 - val_root_mean_squared_error: 0.9249\n",
      "Epoch 15/100\n",
      "563/563 [==============================] - 1s 2ms/step - loss: 0.7196 - root_mean_squared_error: 0.8483 - val_loss: 0.8726 - val_root_mean_squared_error: 0.9341\n",
      "Epoch 16/100\n",
      "553/563 [============================>.] - ETA: 0s - loss: 0.7060 - root_mean_squared_error: 0.8402Restoring model weights from the end of the best epoch: 11.\n",
      "563/563 [==============================] - 1s 2ms/step - loss: 0.7067 - root_mean_squared_error: 0.8407 - val_loss: 0.8748 - val_root_mean_squared_error: 0.9353\n",
      "Epoch 16: early stopping\n"
     ]
    },
    {
     "data": {
      "text/plain": [
       "<keras.src.callbacks.History at 0x7fe246dcd490>"
      ]
     },
     "execution_count": 9,
     "metadata": {},
     "output_type": "execute_result"
    }
   ],
   "source": [
    "model.fit([train_user_idx, train_event_idx], train_target, validation_split=0.1, epochs=100, batch_size=128, callbacks=[tf.keras.callbacks.EarlyStopping(\n",
    "    monitor='val_loss',\n",
    "    min_delta=0,\n",
    "    patience=5,\n",
    "    verbose=1,\n",
    "    mode='auto',\n",
    "    baseline=None,\n",
    "    restore_best_weights=True,\n",
    "    start_from_epoch=0\n",
    ")]\n",
    ")"
   ]
  },
  {
   "cell_type": "code",
   "execution_count": 10,
   "metadata": {},
   "outputs": [
    {
     "name": "stdout",
     "output_type": "stream",
     "text": [
      "  1/625 [..............................] - ETA: 9s - loss: 0.9777 - root_mean_squared_error: 0.9888"
     ]
    },
    {
     "name": "stdout",
     "output_type": "stream",
     "text": [
      "625/625 [==============================] - 1s 1ms/step - loss: 0.8456 - root_mean_squared_error: 0.9196\n"
     ]
    }
   ],
   "source": [
    "\n",
    "test_user_idx = tf.constant(test_data['user_idx'].values, dtype=tf.int32)\n",
    "test_event_idx = tf.constant(test_data['event_idx'].values, dtype=tf.int32)\n",
    "test_target = tf.constant(test_data['rating'].values, dtype=tf.float32)\n",
    "\n",
    "test_loss = model.evaluate([test_user_idx, test_event_idx], test_target)"
   ]
  },
  {
   "cell_type": "code",
   "execution_count": null,
   "metadata": {},
   "outputs": [],
   "source": [
    "import tensorflow as tf\n",
    "\n",
    "# Assuming event_data contains all unique event IDs\n",
    "# Example: event_data = [0, 1, 2, ..., num_events-1]\n",
    "num_events = len(events)  # Replace with the actual number of events\n",
    "user_id = 22\n",
    "\n",
    "# Create tensors for the user and all possible events\n",
    "user_ids = tf.constant([user_id] * num_events, dtype=tf.int32)\n",
    "event_ids = tf.constant(range(num_events), dtype=tf.int32)\n",
    "\n",
    "# Predict ratings for all events for the user\n",
    "predictions = model.predict([user_ids, event_ids])\n",
    "\n",
    "# Convert predictions to a tensor and ensure it's a 1D tensor\n",
    "predictions = tf.constant(predictions, dtype=tf.float32)\n",
    "predictions = tf.reshape(predictions, [-1])\n",
    "\n",
    "# Get the top K recommendations, for example, top 10\n",
    "K = 10\n",
    "if len(predictions) < K:\n",
    "    raise ValueError(f\"Number of events ({len(predictions)}) is less than K ({K})\")\n",
    "\n",
    "top_k_values, top_k_indices = tf.math.top_k(predictions, k=K)\n",
    "\n",
    "# Retrieve the event IDs for the top K predictions\n",
    "top_k_event_ids = tf.gather(event_ids, top_k_indices).numpy()\n",
    "\n",
    "print(f\"Top {K} recommendations for user {user_id}: {top_k_event_ids}\")\n"
   ]
  },
  {
   "cell_type": "code",
   "execution_count": 7,
   "metadata": {},
   "outputs": [
    {
     "name": "stdout",
     "output_type": "stream",
     "text": [
      "tf.Tensor([22 22 22 ... 22 22 22], shape=(1682,), dtype=int32)\n"
     ]
    }
   ],
   "source": [
    "user_ids = tf.constant([user_id] * num_events, dtype=tf.int32)\n",
    "event_ids = tf.constant(range(num_events), dtype=tf.int32)\n",
    "print(event_ids)"
   ]
  }
 ],
 "metadata": {
  "kernelspec": {
   "display_name": ".venv",
   "language": "python",
   "name": "python3"
  },
  "language_info": {
   "codemirror_mode": {
    "name": "ipython",
    "version": 3
   },
   "file_extension": ".py",
   "mimetype": "text/x-python",
   "name": "python",
   "nbconvert_exporter": "python",
   "pygments_lexer": "ipython3",
   "version": "3.9.18"
  }
 },
 "nbformat": 4,
 "nbformat_minor": 2
}
