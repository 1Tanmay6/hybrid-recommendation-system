{
 "cells": [
  {
   "cell_type": "code",
   "execution_count": 3,
   "metadata": {},
   "outputs": [],
   "source": [
    "import pandas as pd\n",
    "from sklearn.model_selection import train_test_split\n",
    "import tensorflow as tf\n",
    "\n",
    "data = pd.read_csv('../data/event_attendees_processed.csv')\n",
    "\n",
    "users = data['user'].unique()\n",
    "events = data['event'].unique()\n",
    "user_to_idx = {user: idx for idx, user in enumerate(users)}\n",
    "event_to_idx = {event: idx for idx, event in enumerate(events)}\n",
    "\n",
    "data['user_idx'] = data['user'].map(user_to_idx)\n",
    "data['event_idx'] = data['event'].map(event_to_idx)\n",
    "\n",
    "train_data, val_data = train_test_split(data, test_size=0.2, random_state=42)"
   ]
  },
  {
   "cell_type": "code",
   "execution_count": 4,
   "metadata": {},
   "outputs": [
    {
     "name": "stderr",
     "output_type": "stream",
     "text": [
      "2024-04-03 20:31:42.691464: I external/local_xla/xla/stream_executor/cuda/cuda_executor.cc:901] successful NUMA node read from SysFS had negative value (-1), but there must be at least one NUMA node, so returning NUMA node zero. See more at https://github.com/torvalds/linux/blob/v6.0/Documentation/ABI/testing/sysfs-bus-pci#L344-L355\n",
      "2024-04-03 20:31:42.691629: I external/local_xla/xla/stream_executor/cuda/cuda_executor.cc:901] successful NUMA node read from SysFS had negative value (-1), but there must be at least one NUMA node, so returning NUMA node zero. See more at https://github.com/torvalds/linux/blob/v6.0/Documentation/ABI/testing/sysfs-bus-pci#L344-L355\n",
      "2024-04-03 20:31:42.691703: I external/local_xla/xla/stream_executor/cuda/cuda_executor.cc:901] successful NUMA node read from SysFS had negative value (-1), but there must be at least one NUMA node, so returning NUMA node zero. See more at https://github.com/torvalds/linux/blob/v6.0/Documentation/ABI/testing/sysfs-bus-pci#L344-L355\n",
      "2024-04-03 20:31:42.743746: I external/local_xla/xla/stream_executor/cuda/cuda_executor.cc:901] successful NUMA node read from SysFS had negative value (-1), but there must be at least one NUMA node, so returning NUMA node zero. See more at https://github.com/torvalds/linux/blob/v6.0/Documentation/ABI/testing/sysfs-bus-pci#L344-L355\n",
      "2024-04-03 20:31:42.743873: I external/local_xla/xla/stream_executor/cuda/cuda_executor.cc:901] successful NUMA node read from SysFS had negative value (-1), but there must be at least one NUMA node, so returning NUMA node zero. See more at https://github.com/torvalds/linux/blob/v6.0/Documentation/ABI/testing/sysfs-bus-pci#L344-L355\n",
      "2024-04-03 20:31:42.743959: I external/local_xla/xla/stream_executor/cuda/cuda_executor.cc:901] successful NUMA node read from SysFS had negative value (-1), but there must be at least one NUMA node, so returning NUMA node zero. See more at https://github.com/torvalds/linux/blob/v6.0/Documentation/ABI/testing/sysfs-bus-pci#L344-L355\n",
      "2024-04-03 20:31:42.744032: I tensorflow/core/common_runtime/gpu/gpu_device.cc:1929] Created device /job:localhost/replica:0/task:0/device:GPU:0 with 4277 MB memory:  -> device: 0, name: NVIDIA GeForce RTX 3060 Laptop GPU, pci bus id: 0000:01:00.0, compute capability: 8.6\n"
     ]
    }
   ],
   "source": [
    "\n",
    "class NCF(tf.keras.Model):\n",
    "    def __init__(self, num_users, num_events, embedding_dim=96):\n",
    "        super(NCF, self).__init__()\n",
    "        self.user_embed = tf.keras.layers.Embedding(num_users, embedding_dim)\n",
    "        self.event_embed = tf.keras.layers.Embedding(num_events, embedding_dim)\n",
    "        self.mlp = tf.keras.Sequential([\n",
    "            tf.keras.layers.Dense(128, activation='swish'),\n",
    "            tf.keras.layers.Dense(256, activation='swish'),\n",
    "            tf.keras.layers.Dense(128, activation='swish'),\n",
    "            tf.keras.layers.Dense(1, activation='sigmoid')\n",
    "        ])\n",
    "\n",
    "    def call(self, inputs):\n",
    "        user_idx, event_idx = inputs\n",
    "        user_emb = self.user_embed(user_idx)\n",
    "        event_emb = self.event_embed(event_idx)\n",
    "        concat_emb = tf.concat([user_emb, event_emb], axis=1)\n",
    "        output = self.mlp(concat_emb)\n",
    "        return output\n",
    "\n",
    "\n",
    "num_users = len(users)\n",
    "num_events = len(events)\n",
    "model = NCF(num_users, num_events)\n",
    "\n",
    "model.compile(optimizer='adam', loss='mean_squared_error', metrics=[tf.keras.metrics.RootMeanSquaredError(), 'accuracy'])\n"
   ]
  },
  {
   "cell_type": "code",
   "execution_count": 5,
   "metadata": {},
   "outputs": [],
   "source": [
    "train_user_idx = tf.constant(train_data['user_idx'].values, dtype=tf.int32)\n",
    "train_event_idx = tf.constant(train_data['event_idx'].values, dtype=tf.int32)\n",
    "train_target = tf.constant(train_data['weighted_score'].values, dtype=tf.float32)"
   ]
  },
  {
   "cell_type": "code",
   "execution_count": 7,
   "metadata": {},
   "outputs": [
    {
     "name": "stdout",
     "output_type": "stream",
     "text": [
      "Epoch 1/10\n",
      "2854/2854 [==============================] - 66s 23ms/step - loss: 0.1174 - root_mean_squared_error: 0.3426 - accuracy: 0.5675\n",
      "Epoch 2/10\n",
      "2854/2854 [==============================] - 62s 22ms/step - loss: 0.0401 - root_mean_squared_error: 0.2002 - accuracy: 0.6824\n",
      "Epoch 3/10\n",
      "2854/2854 [==============================] - 62s 22ms/step - loss: 0.0246 - root_mean_squared_error: 0.1567 - accuracy: 0.6903\n",
      "Epoch 4/10\n",
      "2854/2854 [==============================] - 61s 21ms/step - loss: 0.0203 - root_mean_squared_error: 0.1426 - accuracy: 0.6944\n",
      "Epoch 5/10\n",
      "2854/2854 [==============================] - 61s 22ms/step - loss: 0.0173 - root_mean_squared_error: 0.1316 - accuracy: 0.6981\n",
      "Epoch 6/10\n",
      "2854/2854 [==============================] - 61s 21ms/step - loss: 0.0148 - root_mean_squared_error: 0.1215 - accuracy: 0.7011\n",
      "Epoch 7/10\n",
      "2854/2854 [==============================] - 61s 21ms/step - loss: 0.0124 - root_mean_squared_error: 0.1113 - accuracy: 0.7038\n",
      "Epoch 8/10\n",
      "2854/2854 [==============================] - 60s 21ms/step - loss: 0.0103 - root_mean_squared_error: 0.1016 - accuracy: 0.7063\n",
      "Epoch 9/10\n",
      "2854/2854 [==============================] - 60s 21ms/step - loss: 0.0086 - root_mean_squared_error: 0.0927 - accuracy: 0.7083\n",
      "Epoch 10/10\n",
      "2854/2854 [==============================] - 60s 21ms/step - loss: 0.0072 - root_mean_squared_error: 0.0850 - accuracy: 0.7098\n"
     ]
    },
    {
     "data": {
      "text/plain": [
       "<keras.src.callbacks.History at 0x7f5fb3507220>"
      ]
     },
     "execution_count": 7,
     "metadata": {},
     "output_type": "execute_result"
    }
   ],
   "source": [
    "model.fit([train_user_idx, train_event_idx], train_target, epochs=10, batch_size=512)"
   ]
  },
  {
   "cell_type": "code",
   "execution_count": null,
   "metadata": {},
   "outputs": [
    {
     "name": "stdout",
     "output_type": "stream",
     "text": [
      "11415/11415 [==============================] - 11s 995us/step - loss: 0.1329 - root_mean_squared_error: 0.3645 - accuracy: 0.5038\n",
      "Validation Loss: [0.13287292420864105, 0.3645173907279968, 0.503816545009613]\n"
     ]
    }
   ],
   "source": [
    "val_user_idx = tf.constant(val_data['user_idx'].values, dtype=tf.int32)\n",
    "val_event_idx = tf.constant(val_data['event_idx'].values, dtype=tf.int32)\n",
    "val_target = tf.constant(val_data['weighted_score'].values, dtype=tf.float32)\n",
    "\n",
    "val_loss = model.evaluate([val_user_idx, val_event_idx], val_target)"
   ]
  }
 ],
 "metadata": {
  "kernelspec": {
   "display_name": ".venv",
   "language": "python",
   "name": "python3"
  },
  "language_info": {
   "codemirror_mode": {
    "name": "ipython",
    "version": 3
   },
   "file_extension": ".py",
   "mimetype": "text/x-python",
   "name": "python",
   "nbconvert_exporter": "python",
   "pygments_lexer": "ipython3",
   "version": "3.9.18"
  }
 },
 "nbformat": 4,
 "nbformat_minor": 2
}
