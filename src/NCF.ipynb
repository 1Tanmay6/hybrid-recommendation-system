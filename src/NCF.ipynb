{
 "cells": [
  {
   "cell_type": "code",
   "execution_count": null,
   "metadata": {},
   "outputs": [],
   "source": [
    "import pandas as pd\n",
    "from sklearn.model_selection import train_test_split\n",
    "import tensorflow as tf\n",
    "\n",
    "data = pd.read_csv('../data/event_attendees_processed.csv')\n",
    "\n",
    "users = data['user'].unique()\n",
    "events = data['event'].unique()\n",
    "user_to_idx = {user: idx for idx, user in enumerate(users)}\n",
    "event_to_idx = {event: idx for idx, event in enumerate(events)}\n",
    "\n",
    "data['user_idx'] = data['user'].map(user_to_idx)\n",
    "data['event_idx'] = data['event'].map(event_to_idx)\n",
    "\n",
    "train_data, val_data = train_test_split(data, test_size=0.2, random_state=42)"
   ]
  },
  {
   "cell_type": "code",
   "execution_count": null,
   "metadata": {},
   "outputs": [],
   "source": [
    "\n",
    "class NCF(tf.keras.Model):\n",
    "    def __init__(self, num_users, num_events, embedding_dim=64):\n",
    "        super(NCF, self).__init__()\n",
    "        self.user_embed = tf.keras.layers.Embedding(num_users, embedding_dim)\n",
    "        self.event_embed = tf.keras.layers.Embedding(num_events, embedding_dim)\n",
    "        self.mlp = tf.keras.Sequential([\n",
    "            tf.keras.layers.Dense(64, activation='swish'),\n",
    "            tf.keras.layers.Dense(32, activation='relu'),\n",
    "            tf.keras.layers.Dense(1, activation='sigmoid')\n",
    "        ])\n",
    "\n",
    "    def call(self, inputs):\n",
    "        user_idx, event_idx = inputs\n",
    "        user_emb = self.user_embed(user_idx)\n",
    "        event_emb = self.event_embed(event_idx)\n",
    "        concat_emb = tf.concat([user_emb, event_emb], axis=1)\n",
    "        output = self.mlp(concat_emb)\n",
    "        return output\n",
    "\n",
    "\n",
    "num_users = len(users)\n",
    "num_events = len(events)\n",
    "model = NCF(num_users, num_events)\n",
    "\n",
    "model.compile(optimizer='adam', loss='mean_squared_error', metrics=[tf.keras.metrics.RootMeanSquaredError(), 'accuracy'])\n"
   ]
  },
  {
   "cell_type": "code",
   "execution_count": null,
   "metadata": {},
   "outputs": [],
   "source": [
    "train_user_idx = tf.constant(train_data['user_idx'].values, dtype=tf.int32)\n",
    "train_event_idx = tf.constant(train_data['event_idx'].values, dtype=tf.int32)\n",
    "train_target = tf.constant(train_data['weighted_score'].values, dtype=tf.float32)"
   ]
  },
  {
   "cell_type": "code",
   "execution_count": null,
   "metadata": {},
   "outputs": [],
   "source": [
    "\n",
    "model.fit([train_user_idx, train_event_idx], train_target, epochs=10, batch_size=64)\n"
   ]
  },
  {
   "cell_type": "code",
   "execution_count": null,
   "metadata": {},
   "outputs": [],
   "source": [
    "\n",
    "val_user_idx = tf.constant(val_data['user_idx'].values, dtype=tf.int32)\n",
    "val_event_idx = tf.constant(val_data['event_idx'].values, dtype=tf.int32)\n",
    "val_target = tf.constant(val_data['weighted_score'].values, dtype=tf.float32)\n",
    "\n",
    "val_loss = model.evaluate([val_user_idx, val_event_idx], val_target)\n",
    "print(f\"Validation Loss: {val_loss}\")\n"
   ]
  },
  {
   "cell_type": "code",
   "execution_count": null,
   "metadata": {},
   "outputs": [],
   "source": [
    "tf.saved_model.save(model, 'NCF_model')\n"
   ]
  }
 ],
 "metadata": {
  "kernelspec": {
   "display_name": ".venv",
   "language": "python",
   "name": "python3"
  },
  "language_info": {
   "codemirror_mode": {
    "name": "ipython",
    "version": 3
   },
   "file_extension": ".py",
   "mimetype": "text/x-python",
   "name": "python",
   "nbconvert_exporter": "python",
   "pygments_lexer": "ipython3",
   "version": "3.11.6"
  }
 },
 "nbformat": 4,
 "nbformat_minor": 2
}
