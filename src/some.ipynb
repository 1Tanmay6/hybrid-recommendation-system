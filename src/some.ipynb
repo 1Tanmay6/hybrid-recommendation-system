{
 "cells": [
  {
   "cell_type": "code",
   "execution_count": 5,
   "metadata": {},
   "outputs": [],
   "source": [
    "import numpy as np\n",
    "import tensorflow as tf\n",
    "\n",
    "# Define embedding size\n",
    "embedding_size = 10\n",
    "\n",
    "# Define number of unique users and items\n",
    "num_users = 3\n",
    "num_items = 3\n",
    "\n",
    "# Define embedding layers\n",
    "user_embedding_layer = tf.keras.layers.Embedding(input_dim=num_users, output_dim=embedding_size)\n",
    "item_embedding_layer = tf.keras.layers.Embedding(input_dim=num_items, output_dim=embedding_size)\n"
   ]
  },
  {
   "cell_type": "code",
   "execution_count": 6,
   "metadata": {},
   "outputs": [],
   "source": [
    "# Define user-item interactions (user IDs and item IDs)\n",
    "user_ids = np.array([0, 0, 1, 1, 2, 2])  # Alice, Alice, Bob, Bob, Charlie, Charlie\n",
    "item_ids = np.array([0, 1, 1, 2, 0, 2])  # iPhone, Laptop, Laptop, Headphones, iPhone, Headphones\n",
    "\n",
    "# Forward pass through embedding layers\n",
    "user_embeddings = user_embedding_layer(user_ids)\n",
    "item_embeddings = item_embedding_layer(item_ids)\n"
   ]
  },
  {
   "cell_type": "code",
   "execution_count": 7,
   "metadata": {},
   "outputs": [
    {
     "data": {
      "text/plain": [
       "array([[-0.02923959,  0.0402845 , -0.00515423, -0.04489351, -0.01583482,\n",
       "        -0.02530924, -0.04774807, -0.01364744,  0.01090745,  0.04292474],\n",
       "       [ 0.0062388 , -0.04362998,  0.01562835,  0.01384267,  0.03826043,\n",
       "         0.0439263 , -0.03347322, -0.02913998, -0.0381541 ,  0.03188816],\n",
       "       [ 0.0062388 , -0.04362998,  0.01562835,  0.01384267,  0.03826043,\n",
       "         0.0439263 , -0.03347322, -0.02913998, -0.0381541 ,  0.03188816],\n",
       "       [-0.02849971, -0.03610704, -0.00732111, -0.00306106, -0.00604776,\n",
       "         0.00396447, -0.03146231,  0.01014223, -0.02055333,  0.03125722],\n",
       "       [-0.02923959,  0.0402845 , -0.00515423, -0.04489351, -0.01583482,\n",
       "        -0.02530924, -0.04774807, -0.01364744,  0.01090745,  0.04292474],\n",
       "       [-0.02849971, -0.03610704, -0.00732111, -0.00306106, -0.00604776,\n",
       "         0.00396447, -0.03146231,  0.01014223, -0.02055333,  0.03125722]],\n",
       "      dtype=float32)"
      ]
     },
     "execution_count": 7,
     "metadata": {},
     "output_type": "execute_result"
    }
   ],
   "source": [
    "# Random initialization of embeddings (for demonstration)\n",
    "# In a real scenario, embeddings would be learned during model training\n",
    "user_embeddings.numpy()  # Randomly initialized user embeddings\n",
    "item_embeddings.numpy()  # Randomly initialized item embeddings\n"
   ]
  },
  {
   "cell_type": "code",
   "execution_count": 8,
   "metadata": {},
   "outputs": [
    {
     "name": "stdout",
     "output_type": "stream",
     "text": [
      "User Embeddings:\n",
      "[[-0.02953587 -0.04075266 -0.03220978 -0.01194834  0.04945159  0.02178739\n",
      "  -0.04643157  0.00934111 -0.00277798  0.04440765]\n",
      " [-0.02953587 -0.04075266 -0.03220978 -0.01194834  0.04945159  0.02178739\n",
      "  -0.04643157  0.00934111 -0.00277798  0.04440765]\n",
      " [ 0.01083614 -0.00923424 -0.04437098  0.0044983  -0.00787545 -0.01759595\n",
      "  -0.00934781  0.03882616 -0.01047522  0.02302499]\n",
      " [ 0.01083614 -0.00923424 -0.04437098  0.0044983  -0.00787545 -0.01759595\n",
      "  -0.00934781  0.03882616 -0.01047522  0.02302499]\n",
      " [-0.00782597 -0.00110153 -0.0070345   0.01314009  0.03188056  0.01265671\n",
      "   0.01700387 -0.0277709  -0.00740485  0.00697192]\n",
      " [-0.00782597 -0.00110153 -0.0070345   0.01314009  0.03188056  0.01265671\n",
      "   0.01700387 -0.0277709  -0.00740485  0.00697192]]\n",
      "\n",
      "Item Embeddings:\n",
      "[[-0.02923959  0.0402845  -0.00515423 -0.04489351 -0.01583482 -0.02530924\n",
      "  -0.04774807 -0.01364744  0.01090745  0.04292474]\n",
      " [ 0.0062388  -0.04362998  0.01562835  0.01384267  0.03826043  0.0439263\n",
      "  -0.03347322 -0.02913998 -0.0381541   0.03188816]\n",
      " [ 0.0062388  -0.04362998  0.01562835  0.01384267  0.03826043  0.0439263\n",
      "  -0.03347322 -0.02913998 -0.0381541   0.03188816]\n",
      " [-0.02849971 -0.03610704 -0.00732111 -0.00306106 -0.00604776  0.00396447\n",
      "  -0.03146231  0.01014223 -0.02055333  0.03125722]\n",
      " [-0.02923959  0.0402845  -0.00515423 -0.04489351 -0.01583482 -0.02530924\n",
      "  -0.04774807 -0.01364744  0.01090745  0.04292474]\n",
      " [-0.02849971 -0.03610704 -0.00732111 -0.00306106 -0.00604776  0.00396447\n",
      "  -0.03146231  0.01014223 -0.02055333  0.03125722]]\n"
     ]
    }
   ],
   "source": [
    "print(\"User Embeddings:\")\n",
    "print(user_embeddings.numpy())\n",
    "\n",
    "print(\"\\nItem Embeddings:\")\n",
    "print(item_embeddings.numpy())\n"
   ]
  }
 ],
 "metadata": {
  "kernelspec": {
   "display_name": ".venv",
   "language": "python",
   "name": "python3"
  },
  "language_info": {
   "codemirror_mode": {
    "name": "ipython",
    "version": 3
   },
   "file_extension": ".py",
   "mimetype": "text/x-python",
   "name": "python",
   "nbconvert_exporter": "python",
   "pygments_lexer": "ipython3",
   "version": "3.9.18"
  }
 },
 "nbformat": 4,
 "nbformat_minor": 2
}
