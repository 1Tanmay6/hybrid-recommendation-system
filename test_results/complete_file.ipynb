{
 "cells": [
  {
   "cell_type": "markdown",
   "metadata": {},
   "source": [
    "## Importing Libraries"
   ]
  },
  {
   "cell_type": "code",
   "execution_count": 2,
   "metadata": {},
   "outputs": [],
   "source": [
    "import torch\n",
    "import pandas as pd\n",
    "import numpy as np\n",
    "from collections import Counter"
   ]
  },
  {
   "cell_type": "markdown",
   "metadata": {},
   "source": [
    "## Preprocessing and model loading"
   ]
  },
  {
   "cell_type": "code",
   "execution_count": 3,
   "metadata": {},
   "outputs": [],
   "source": [
    "def genres_counts(data):\n",
    "    flat_genres = [genre for sublist in data['Genres'].apply(\n",
    "        lambda x: x.split('|')).values.flatten() for genre in sublist]\n",
    "    genre_counts = dict(Counter(flat_genres))\n",
    "    return genre_counts"
   ]
  },
  {
   "cell_type": "code",
   "execution_count": 4,
   "metadata": {},
   "outputs": [],
   "source": [
    "def load_and_preprocess_data():\n",
    "    # Load data\n",
    "    movie_data = pd.read_csv('../data/movies_grouplens/movies.dat',\n",
    "                             delimiter='::', header=None, engine='python', encoding='latin1')\n",
    "    rating_data = pd.read_csv('../data/movies_grouplens/ratings.dat',\n",
    "                              delimiter='::', header=None, engine='python', encoding='latin1')\n",
    "    user_data = pd.read_csv('../data/movies_grouplens/users.dat',\n",
    "                            delimiter='::', header=None, engine='python', encoding='latin1')\n",
    "\n",
    "    # Set column names\n",
    "    movie_data.columns = ['MovieID', 'Title', 'Genres']\n",
    "    rating_data.columns = ['UserID', 'MovieID', 'Rating', 'Timestamp']\n",
    "    user_data.columns = ['UserID', 'Gender', 'Age', 'Occupation', 'Zip-code']\n",
    "\n",
    "    # Merge datasets\n",
    "    df = pd.merge(rating_data, movie_data, on='MovieID', how='left')\n",
    "    df = pd.merge(df, user_data, on='UserID', how='left')\n",
    "\n",
    "    # Convert categorical variables\n",
    "    df['Gender'] = df['Gender'].map({'M': 0, 'F': 1})\n",
    "\n",
    "    # Create index mappings\n",
    "    users = df['UserID'].unique()\n",
    "    movies = df['MovieID'].unique()\n",
    "\n",
    "    user_to_idx = {user: idx for idx, user in enumerate(users)}\n",
    "    movie_to_idx = {movie: idx for idx, movie in enumerate(movies)}\n",
    "\n",
    "    # Add index columns\n",
    "    df['User_idx'] = df['UserID'].map(user_to_idx)\n",
    "    df['Movie_idx'] = df['MovieID'].map(movie_to_idx)\n",
    "\n",
    "    # Normalize age and occupation values to start from 0\n",
    "    df['Age'] = df['Age'] - df['Age'].min()\n",
    "    df['Occupation'] = df['Occupation'] - df['Occupation'].min()\n",
    "\n",
    "    return df, user_to_idx, movie_to_idx"
   ]
  },
  {
   "cell_type": "code",
   "execution_count": 5,
   "metadata": {},
   "outputs": [],
   "source": [
    "device = torch.device(\n",
    "    'mps' if torch.backends.mps.is_available() else 'cpu')\n",
    "device = torch.device('cuda') if torch.cuda.is_available() else device"
   ]
  },
  {
   "cell_type": "code",
   "execution_count": 6,
   "metadata": {},
   "outputs": [],
   "source": [
    "con_aware_NCF = torch.jit.load(\n",
    "    '../models/NCF_CNN_Enchanced.pt', map_location=device)"
   ]
  },
  {
   "cell_type": "code",
   "execution_count": 7,
   "metadata": {},
   "outputs": [],
   "source": [
    "ncf_cnn = torch.jit.load('../models/NCF_CNN.pt', map_location=device)"
   ]
  },
  {
   "cell_type": "code",
   "execution_count": 8,
   "metadata": {},
   "outputs": [],
   "source": [
    "data_svd = pd.read_csv('../data/movies_grouplens/ratings.dat',\n",
    "                       delimiter='::', header=None, engine='python', encoding='latin1')\n",
    "data_svd .columns = ['user', 'event', 'rating', 'timestamp']\n",
    "\n",
    "# Create a user-item matrix\n",
    "ratings_matrix = data_svd .pivot(\n",
    "    index='user', columns='event', values='rating').fillna(0)"
   ]
  },
  {
   "cell_type": "code",
   "execution_count": 9,
   "metadata": {},
   "outputs": [],
   "source": [
    "data_ua, user_to_idx_ua, movie_to_idx_ua = load_and_preprocess_data()\n",
    "\n",
    "\n",
    "user_data = pd.read_csv(\n",
    "    '../data/movies_grouplens/users.dat', delimiter='::', header=None, engine='python', encoding='latin1'\n",
    ")\n",
    "user_data.columns = ['UserID', 'Gender', 'Age', 'Occupation', 'Zip-code']\n",
    "\n",
    "user_data['Gender'] = user_data['Gender'].map({'M': 0, 'F': 1})\n",
    "user_data['Age'] = user_data['Age'] - user_data['Age'].min()\n",
    "user_data['Occupation'] = user_data['Occupation'] - \\\n",
    "    user_data['Occupation'].min()"
   ]
  },
  {
   "cell_type": "code",
   "execution_count": 10,
   "metadata": {},
   "outputs": [],
   "source": [
    "data_cnn_ncf = pd.read_csv('../data/movies_grouplens/ratings.dat',\n",
    "                           delimiter='::', header=None, engine='python', encoding='latin1')\n",
    "data_cnn_ncf.columns = ['user', 'event', 'rating', 'timestamp']\n",
    "\n",
    "users = data_cnn_ncf['user'].unique()\n",
    "events = data_cnn_ncf['event'].unique()\n",
    "\n",
    "user_to_idx = {user: idx for idx, user in enumerate(users)}\n",
    "event_to_idx = {event: idx for idx, event in enumerate(events)}\n",
    "idx_to_user = {idx: user for user,\n",
    "               idx in user_to_idx.items()}  # For reverse lookup\n",
    "idx_to_event = {idx: event for event,\n",
    "                idx in event_to_idx.items()}  # For reverse lookup\n",
    "\n",
    "data_cnn_ncf['user_idx'] = data_cnn_ncf['user'].map(user_to_idx)\n",
    "data_cnn_ncf['event_idx'] = data_cnn_ncf['event'].map(event_to_idx)"
   ]
  },
  {
   "cell_type": "code",
   "execution_count": 11,
   "metadata": {},
   "outputs": [],
   "source": [
    "# Perform SVD\n",
    "U, sigma, Vt = np.linalg.svd(ratings_matrix)\n",
    "\n",
    "latent_dimensioanlity_k = 96\n",
    "U = U[:, :latent_dimensioanlity_k]\n",
    "sigma = np.diag(sigma[:latent_dimensioanlity_k])\n",
    "Vt = Vt[:latent_dimensioanlity_k, :]\n",
    "\n",
    "predicted_ratings = np.dot(np.dot(U, sigma), Vt)\n",
    "\n",
    "# Convert to DataFrame\n",
    "predicted_ratings_df = pd.DataFrame(\n",
    "    predicted_ratings, columns=ratings_matrix.columns, index=ratings_matrix.index)"
   ]
  },
  {
   "cell_type": "code",
   "execution_count": 12,
   "metadata": {},
   "outputs": [],
   "source": [
    "movie_data = pd.read_csv('../data/movies_grouplens/movies.dat',\n",
    "                         delimiter='::', header=None, engine='python', encoding='latin1')\n",
    "movie_data.columns = ['MovieID', 'Title', 'Genres']\n",
    "movie_data['Genres'] = movie_data['Genres'].fillna('')"
   ]
  },
  {
   "cell_type": "markdown",
   "metadata": {},
   "source": [
    "## SVD"
   ]
  },
  {
   "cell_type": "code",
   "execution_count": 13,
   "metadata": {},
   "outputs": [],
   "source": [
    "def get_svd_recommendations(user_id, k=10):\n",
    "\n",
    "    user_ratings = predicted_ratings_df.loc[user_id]\n",
    "    top_recommendations = user_ratings.sort_values(ascending=False).head(k)\n",
    "    return top_recommendations"
   ]
  },
  {
   "cell_type": "markdown",
   "metadata": {},
   "source": [
    "## NCF with CNN"
   ]
  },
  {
   "cell_type": "code",
   "execution_count": 14,
   "metadata": {},
   "outputs": [],
   "source": [
    "def get_cnn_sncf_recommendations(user_id, data, model, device, idx_to_event, idx_to_user, user_to_idx, k=10):\n",
    "    model.eval()  # Set the model to evaluation mode\n",
    "\n",
    "    # Map user_id to user_idx\n",
    "    user_idx = user_to_idx[user_id]\n",
    "\n",
    "    # Get all event indices\n",
    "    all_events = np.arange(data['event_idx'].min(),\n",
    "                           data['event_idx'].max() + 1)\n",
    "\n",
    "    # Get watched events by the user\n",
    "    watched_events = set(\n",
    "        data[data['user_idx'] == user_idx]['event_idx'].unique())\n",
    "\n",
    "    # Filter not-watched events\n",
    "    not_watched = np.setdiff1d(all_events, list(watched_events))\n",
    "\n",
    "    # Prepare tensors for batch prediction on GPU\n",
    "    user_idx_tensor = torch.tensor(\n",
    "        [user_idx] * len(not_watched), device=device, dtype=torch.long)\n",
    "    event_idx_tensor = torch.tensor(\n",
    "        not_watched, device=device, dtype=torch.long)\n",
    "\n",
    "    # Perform batch prediction directly on GPU\n",
    "    with torch.no_grad():\n",
    "        # Keep ratings on GPU\n",
    "        ratings = model(user_idx_tensor, event_idx_tensor)\n",
    "    # Converts ratings from shape [3628, 1] to [3628]\n",
    "    ratings = ratings.flatten()\n",
    "\n",
    "    # Sort recommendations by rating in descending order\n",
    "    sorted_indices = torch.argsort(ratings, descending=True)  # Sort on GPU\n",
    "    top_k_indices = sorted_indices[:k]  # Get the top-k indices\n",
    "\n",
    "    # Extract top-k events and ratings\n",
    "    top_k_events = event_idx_tensor[top_k_indices]\n",
    "\n",
    "    top_k_ratings = ratings[top_k_indices]\n",
    "    # Prepare recommendations\n",
    "    recommendations = [\n",
    "        [user_id, idx_to_event[int(event)], float(rating)]\n",
    "        for event, rating in zip(top_k_events, top_k_ratings)\n",
    "    ]\n",
    "\n",
    "    return recommendations"
   ]
  },
  {
   "cell_type": "markdown",
   "metadata": {},
   "source": [
    "## User-Aware NCF with CNN"
   ]
  },
  {
   "cell_type": "code",
   "execution_count": 15,
   "metadata": {},
   "outputs": [],
   "source": [
    "def get_ua_recommendations(user_id, model, data, user_to_idx, device, user_data):\n",
    "\n",
    "    user_row = user_data[user_data['UserID'] == user_id].iloc[0]\n",
    "    gender, age, occupation = user_row['Gender'], user_row['Age'], user_row['Occupation']\n",
    "\n",
    "    user_idx = user_to_idx[user_id]\n",
    "    all_movies = np.arange(data['Movie_idx'].min(),\n",
    "                           data['Movie_idx'].max() + 1)\n",
    "\n",
    "    watched_movies = set(\n",
    "        data[data['User_idx'] == user_idx]['Movie_idx'].unique())\n",
    "\n",
    "    not_watched = np.setdiff1d(all_movies, list(watched_movies))\n",
    "\n",
    "    not_watched_data = data[data['Movie_idx'].isin(\n",
    "        not_watched)][['Movie_idx', 'Title', 'Genres']].drop_duplicates()\n",
    "\n",
    "    user_idx_tensor = torch.tensor(\n",
    "        [user_idx] * len(not_watched), device=device)\n",
    "    movie_idx_tensor = torch.tensor(\n",
    "        not_watched_data['Movie_idx'].values, device=device)\n",
    "    gender_tensor = torch.tensor([gender] * len(not_watched), device=device)\n",
    "    age_tensor = torch.tensor([age] * len(not_watched), device=device)\n",
    "    occupation_tensor = torch.tensor(\n",
    "        [occupation] * len(not_watched), device=device)\n",
    "\n",
    "    with torch.no_grad():\n",
    "        ratings = model(user_idx_tensor, movie_idx_tensor,\n",
    "                        gender_tensor, age_tensor, occupation_tensor).cpu().numpy()\n",
    "\n",
    "    not_watched_data['UserID'] = user_id\n",
    "    not_watched_data['Gender'] = gender\n",
    "    not_watched_data['Age'] = age\n",
    "    not_watched_data['Occupation'] = occupation\n",
    "    not_watched_data['Rating'] = ratings\n",
    "\n",
    "    column_order = ['UserID', 'Movie_idx', 'Title',\n",
    "                    'Genres', 'Gender', 'Age', 'Occupation', 'Rating']\n",
    "    result = not_watched_data[column_order].rename(\n",
    "        columns={'Movie_idx': 'MovieID'})\n",
    "    return result"
   ]
  },
  {
   "cell_type": "markdown",
   "metadata": {},
   "source": [
    "## Recommendations"
   ]
  },
  {
   "cell_type": "code",
   "execution_count": 16,
   "metadata": {},
   "outputs": [],
   "source": [
    "user_id = 400\n",
    "k = 10"
   ]
  },
  {
   "cell_type": "code",
   "execution_count": 17,
   "metadata": {},
   "outputs": [],
   "source": [
    "recommendations_svd = get_svd_recommendations(user_id).index.to_list()"
   ]
  },
  {
   "cell_type": "code",
   "execution_count": 18,
   "metadata": {},
   "outputs": [],
   "source": [
    "recommendations_cnn_sncf = get_cnn_sncf_recommendations(\n",
    "    user_id, data_cnn_ncf, ncf_cnn, device, idx_to_event, idx_to_user, user_to_idx)"
   ]
  },
  {
   "cell_type": "code",
   "execution_count": 19,
   "metadata": {},
   "outputs": [],
   "source": [
    "recommendations_ua = get_ua_recommendations(user_id, con_aware_NCF, data_ua, user_to_idx_ua,\n",
    "                                            device, user_data).sort_values(by='Rating', ascending=False).head(k)"
   ]
  },
  {
   "cell_type": "markdown",
   "metadata": {},
   "source": [
    "## Results"
   ]
  },
  {
   "cell_type": "code",
   "execution_count": 20,
   "metadata": {},
   "outputs": [
    {
     "data": {
      "text/html": [
       "<div>\n",
       "<style scoped>\n",
       "    .dataframe tbody tr th:only-of-type {\n",
       "        vertical-align: middle;\n",
       "    }\n",
       "\n",
       "    .dataframe tbody tr th {\n",
       "        vertical-align: top;\n",
       "    }\n",
       "\n",
       "    .dataframe thead th {\n",
       "        text-align: right;\n",
       "    }\n",
       "</style>\n",
       "<table border=\"1\" class=\"dataframe\">\n",
       "  <thead>\n",
       "    <tr style=\"text-align: right;\">\n",
       "      <th></th>\n",
       "      <th>MovieID</th>\n",
       "      <th>Title</th>\n",
       "      <th>Genres</th>\n",
       "    </tr>\n",
       "  </thead>\n",
       "  <tbody>\n",
       "    <tr>\n",
       "      <th>108</th>\n",
       "      <td>110</td>\n",
       "      <td>Braveheart (1995)</td>\n",
       "      <td>Action|Drama|War</td>\n",
       "    </tr>\n",
       "    <tr>\n",
       "      <th>523</th>\n",
       "      <td>527</td>\n",
       "      <td>Schindler's List (1993)</td>\n",
       "      <td>Drama|War</td>\n",
       "    </tr>\n",
       "    <tr>\n",
       "      <th>589</th>\n",
       "      <td>593</td>\n",
       "      <td>Silence of the Lambs, The (1991)</td>\n",
       "      <td>Drama|Thriller</td>\n",
       "    </tr>\n",
       "    <tr>\n",
       "      <th>1179</th>\n",
       "      <td>1197</td>\n",
       "      <td>Princess Bride, The (1987)</td>\n",
       "      <td>Action|Adventure|Comedy|Romance</td>\n",
       "    </tr>\n",
       "    <tr>\n",
       "      <th>1180</th>\n",
       "      <td>1198</td>\n",
       "      <td>Raiders of the Lost Ark (1981)</td>\n",
       "      <td>Action|Adventure</td>\n",
       "    </tr>\n",
       "    <tr>\n",
       "      <th>1250</th>\n",
       "      <td>1270</td>\n",
       "      <td>Back to the Future (1985)</td>\n",
       "      <td>Comedy|Sci-Fi</td>\n",
       "    </tr>\n",
       "    <tr>\n",
       "      <th>2693</th>\n",
       "      <td>2762</td>\n",
       "      <td>Sixth Sense, The (1999)</td>\n",
       "      <td>Thriller</td>\n",
       "    </tr>\n",
       "    <tr>\n",
       "      <th>2789</th>\n",
       "      <td>2858</td>\n",
       "      <td>American Beauty (1999)</td>\n",
       "      <td>Comedy|Drama</td>\n",
       "    </tr>\n",
       "    <tr>\n",
       "      <th>2849</th>\n",
       "      <td>2918</td>\n",
       "      <td>Ferris Bueller's Day Off (1986)</td>\n",
       "      <td>Comedy</td>\n",
       "    </tr>\n",
       "    <tr>\n",
       "      <th>3045</th>\n",
       "      <td>3114</td>\n",
       "      <td>Toy Story 2 (1999)</td>\n",
       "      <td>Animation|Children's|Comedy</td>\n",
       "    </tr>\n",
       "  </tbody>\n",
       "</table>\n",
       "</div>"
      ],
      "text/plain": [
       "      MovieID                             Title  \\\n",
       "108       110                 Braveheart (1995)   \n",
       "523       527           Schindler's List (1993)   \n",
       "589       593  Silence of the Lambs, The (1991)   \n",
       "1179     1197        Princess Bride, The (1987)   \n",
       "1180     1198    Raiders of the Lost Ark (1981)   \n",
       "1250     1270         Back to the Future (1985)   \n",
       "2693     2762           Sixth Sense, The (1999)   \n",
       "2789     2858            American Beauty (1999)   \n",
       "2849     2918   Ferris Bueller's Day Off (1986)   \n",
       "3045     3114                Toy Story 2 (1999)   \n",
       "\n",
       "                               Genres  \n",
       "108                  Action|Drama|War  \n",
       "523                         Drama|War  \n",
       "589                    Drama|Thriller  \n",
       "1179  Action|Adventure|Comedy|Romance  \n",
       "1180                 Action|Adventure  \n",
       "1250                    Comedy|Sci-Fi  \n",
       "2693                         Thriller  \n",
       "2789                     Comedy|Drama  \n",
       "2849                           Comedy  \n",
       "3045      Animation|Children's|Comedy  "
      ]
     },
     "execution_count": 20,
     "metadata": {},
     "output_type": "execute_result"
    }
   ],
   "source": [
    "recommendations_svd = movie_data[movie_data['MovieID'].isin(\n",
    "    recommendations_svd)]\n",
    "recommendations_svd"
   ]
  },
  {
   "cell_type": "code",
   "execution_count": 21,
   "metadata": {},
   "outputs": [
    {
     "data": {
      "text/html": [
       "<div>\n",
       "<style scoped>\n",
       "    .dataframe tbody tr th:only-of-type {\n",
       "        vertical-align: middle;\n",
       "    }\n",
       "\n",
       "    .dataframe tbody tr th {\n",
       "        vertical-align: top;\n",
       "    }\n",
       "\n",
       "    .dataframe thead th {\n",
       "        text-align: right;\n",
       "    }\n",
       "</style>\n",
       "<table border=\"1\" class=\"dataframe\">\n",
       "  <thead>\n",
       "    <tr style=\"text-align: right;\">\n",
       "      <th></th>\n",
       "      <th>MovieID</th>\n",
       "      <th>Title</th>\n",
       "      <th>Genres</th>\n",
       "    </tr>\n",
       "  </thead>\n",
       "  <tbody>\n",
       "    <tr>\n",
       "      <th>257</th>\n",
       "      <td>260</td>\n",
       "      <td>Star Wars: Episode IV - A New Hope (1977)</td>\n",
       "      <td>Action|Adventure|Fantasy|Sci-Fi</td>\n",
       "    </tr>\n",
       "    <tr>\n",
       "      <th>315</th>\n",
       "      <td>318</td>\n",
       "      <td>Shawshank Redemption, The (1994)</td>\n",
       "      <td>Drama</td>\n",
       "    </tr>\n",
       "    <tr>\n",
       "      <th>735</th>\n",
       "      <td>745</td>\n",
       "      <td>Close Shave, A (1995)</td>\n",
       "      <td>Animation|Comedy|Thriller</td>\n",
       "    </tr>\n",
       "    <tr>\n",
       "      <th>847</th>\n",
       "      <td>858</td>\n",
       "      <td>Godfather, The (1972)</td>\n",
       "      <td>Action|Crime|Drama</td>\n",
       "    </tr>\n",
       "    <tr>\n",
       "      <th>896</th>\n",
       "      <td>908</td>\n",
       "      <td>North by Northwest (1959)</td>\n",
       "      <td>Drama|Thriller</td>\n",
       "    </tr>\n",
       "    <tr>\n",
       "      <th>910</th>\n",
       "      <td>922</td>\n",
       "      <td>Sunset Blvd. (a.k.a. Sunset Boulevard) (1950)</td>\n",
       "      <td>Film-Noir</td>\n",
       "    </tr>\n",
       "    <tr>\n",
       "      <th>1162</th>\n",
       "      <td>1178</td>\n",
       "      <td>Paths of Glory (1957)</td>\n",
       "      <td>Drama|War</td>\n",
       "    </tr>\n",
       "    <tr>\n",
       "      <th>1189</th>\n",
       "      <td>1207</td>\n",
       "      <td>To Kill a Mockingbird (1962)</td>\n",
       "      <td>Drama</td>\n",
       "    </tr>\n",
       "    <tr>\n",
       "      <th>1230</th>\n",
       "      <td>1250</td>\n",
       "      <td>Bridge on the River Kwai, The (1957)</td>\n",
       "      <td>Drama|War</td>\n",
       "    </tr>\n",
       "    <tr>\n",
       "      <th>1950</th>\n",
       "      <td>2019</td>\n",
       "      <td>Seven Samurai (The Magnificent Seven) (Shichin...</td>\n",
       "      <td>Action|Drama</td>\n",
       "    </tr>\n",
       "  </tbody>\n",
       "</table>\n",
       "</div>"
      ],
      "text/plain": [
       "      MovieID                                              Title  \\\n",
       "257       260          Star Wars: Episode IV - A New Hope (1977)   \n",
       "315       318                   Shawshank Redemption, The (1994)   \n",
       "735       745                              Close Shave, A (1995)   \n",
       "847       858                              Godfather, The (1972)   \n",
       "896       908                          North by Northwest (1959)   \n",
       "910       922      Sunset Blvd. (a.k.a. Sunset Boulevard) (1950)   \n",
       "1162     1178                              Paths of Glory (1957)   \n",
       "1189     1207                       To Kill a Mockingbird (1962)   \n",
       "1230     1250               Bridge on the River Kwai, The (1957)   \n",
       "1950     2019  Seven Samurai (The Magnificent Seven) (Shichin...   \n",
       "\n",
       "                               Genres  \n",
       "257   Action|Adventure|Fantasy|Sci-Fi  \n",
       "315                             Drama  \n",
       "735         Animation|Comedy|Thriller  \n",
       "847                Action|Crime|Drama  \n",
       "896                    Drama|Thriller  \n",
       "910                         Film-Noir  \n",
       "1162                        Drama|War  \n",
       "1189                            Drama  \n",
       "1230                        Drama|War  \n",
       "1950                     Action|Drama  "
      ]
     },
     "execution_count": 21,
     "metadata": {},
     "output_type": "execute_result"
    }
   ],
   "source": [
    "movie_ids = [rec[1] for rec in recommendations_cnn_sncf]\n",
    "recommendations_cnn_sncf = movie_data[movie_data['MovieID'].isin(movie_ids)]\n",
    "recommendations_cnn_sncf"
   ]
  },
  {
   "cell_type": "code",
   "execution_count": 22,
   "metadata": {},
   "outputs": [
    {
     "data": {
      "text/html": [
       "<div>\n",
       "<style scoped>\n",
       "    .dataframe tbody tr th:only-of-type {\n",
       "        vertical-align: middle;\n",
       "    }\n",
       "\n",
       "    .dataframe tbody tr th {\n",
       "        vertical-align: top;\n",
       "    }\n",
       "\n",
       "    .dataframe thead th {\n",
       "        text-align: right;\n",
       "    }\n",
       "</style>\n",
       "<table border=\"1\" class=\"dataframe\">\n",
       "  <thead>\n",
       "    <tr style=\"text-align: right;\">\n",
       "      <th></th>\n",
       "      <th>MovieID</th>\n",
       "      <th>Title</th>\n",
       "      <th>Genres</th>\n",
       "    </tr>\n",
       "  </thead>\n",
       "  <tbody>\n",
       "    <tr>\n",
       "      <th>29</th>\n",
       "      <td>29</td>\n",
       "      <td>Close Shave, A (1995)</td>\n",
       "      <td>Animation|Comedy|Thriller</td>\n",
       "    </tr>\n",
       "    <tr>\n",
       "      <th>172</th>\n",
       "      <td>167</td>\n",
       "      <td>Shawshank Redemption, The (1994)</td>\n",
       "      <td>Drama</td>\n",
       "    </tr>\n",
       "    <tr>\n",
       "      <th>44</th>\n",
       "      <td>44</td>\n",
       "      <td>Star Wars: Episode IV - A New Hope (1977)</td>\n",
       "      <td>Action|Adventure|Fantasy|Sci-Fi</td>\n",
       "    </tr>\n",
       "    <tr>\n",
       "      <th>678</th>\n",
       "      <td>505</td>\n",
       "      <td>Life Is Beautiful (La Vita è bella) (1997)</td>\n",
       "      <td>Comedy|Drama</td>\n",
       "    </tr>\n",
       "    <tr>\n",
       "      <th>998</th>\n",
       "      <td>669</td>\n",
       "      <td>Godfather, The (1972)</td>\n",
       "      <td>Action|Crime|Drama</td>\n",
       "    </tr>\n",
       "    <tr>\n",
       "      <th>964</th>\n",
       "      <td>648</td>\n",
       "      <td>Roman Holiday (1953)</td>\n",
       "      <td>Comedy|Romance</td>\n",
       "    </tr>\n",
       "    <tr>\n",
       "      <th>47</th>\n",
       "      <td>47</td>\n",
       "      <td>To Kill a Mockingbird (1962)</td>\n",
       "      <td>Drama</td>\n",
       "    </tr>\n",
       "    <tr>\n",
       "      <th>21627</th>\n",
       "      <td>2617</td>\n",
       "      <td>Sanjuro (1962)</td>\n",
       "      <td>Action|Adventure</td>\n",
       "    </tr>\n",
       "    <tr>\n",
       "      <th>932</th>\n",
       "      <td>629</td>\n",
       "      <td>Rear Window (1954)</td>\n",
       "      <td>Mystery|Thriller</td>\n",
       "    </tr>\n",
       "    <tr>\n",
       "      <th>1371</th>\n",
       "      <td>839</td>\n",
       "      <td>Great Escape, The (1963)</td>\n",
       "      <td>Adventure|War</td>\n",
       "    </tr>\n",
       "  </tbody>\n",
       "</table>\n",
       "</div>"
      ],
      "text/plain": [
       "       MovieID                                       Title  \\\n",
       "29          29                       Close Shave, A (1995)   \n",
       "172        167            Shawshank Redemption, The (1994)   \n",
       "44          44   Star Wars: Episode IV - A New Hope (1977)   \n",
       "678        505  Life Is Beautiful (La Vita è bella) (1997)   \n",
       "998        669                       Godfather, The (1972)   \n",
       "964        648                        Roman Holiday (1953)   \n",
       "47          47                To Kill a Mockingbird (1962)   \n",
       "21627     2617                              Sanjuro (1962)   \n",
       "932        629                          Rear Window (1954)   \n",
       "1371       839                    Great Escape, The (1963)   \n",
       "\n",
       "                                Genres  \n",
       "29           Animation|Comedy|Thriller  \n",
       "172                              Drama  \n",
       "44     Action|Adventure|Fantasy|Sci-Fi  \n",
       "678                       Comedy|Drama  \n",
       "998                 Action|Crime|Drama  \n",
       "964                     Comedy|Romance  \n",
       "47                               Drama  \n",
       "21627                 Action|Adventure  \n",
       "932                   Mystery|Thriller  \n",
       "1371                     Adventure|War  "
      ]
     },
     "execution_count": 22,
     "metadata": {},
     "output_type": "execute_result"
    }
   ],
   "source": [
    "recommendations_ua[['MovieID', 'Title', 'Genres']]"
   ]
  },
  {
   "cell_type": "markdown",
   "metadata": {},
   "source": [
    "## About User"
   ]
  },
  {
   "cell_type": "code",
   "execution_count": 23,
   "metadata": {},
   "outputs": [
    {
     "data": {
      "text/html": [
       "<div>\n",
       "<style scoped>\n",
       "    .dataframe tbody tr th:only-of-type {\n",
       "        vertical-align: middle;\n",
       "    }\n",
       "\n",
       "    .dataframe tbody tr th {\n",
       "        vertical-align: top;\n",
       "    }\n",
       "\n",
       "    .dataframe thead th {\n",
       "        text-align: right;\n",
       "    }\n",
       "</style>\n",
       "<table border=\"1\" class=\"dataframe\">\n",
       "  <thead>\n",
       "    <tr style=\"text-align: right;\">\n",
       "      <th></th>\n",
       "      <th>UserID</th>\n",
       "      <th>MovieID</th>\n",
       "      <th>Title</th>\n",
       "      <th>Genres</th>\n",
       "      <th>Rating</th>\n",
       "    </tr>\n",
       "  </thead>\n",
       "  <tbody>\n",
       "    <tr>\n",
       "      <th>58894</th>\n",
       "      <td>400</td>\n",
       "      <td>593</td>\n",
       "      <td>Silence of the Lambs, The (1991)</td>\n",
       "      <td>Drama|Thriller</td>\n",
       "      <td>5</td>\n",
       "    </tr>\n",
       "    <tr>\n",
       "      <th>58891</th>\n",
       "      <td>400</td>\n",
       "      <td>1196</td>\n",
       "      <td>Star Wars: Episode V - The Empire Strikes Back...</td>\n",
       "      <td>Action|Adventure|Drama|Sci-Fi|War</td>\n",
       "      <td>5</td>\n",
       "    </tr>\n",
       "    <tr>\n",
       "      <th>58900</th>\n",
       "      <td>400</td>\n",
       "      <td>3114</td>\n",
       "      <td>Toy Story 2 (1999)</td>\n",
       "      <td>Animation|Children's|Comedy</td>\n",
       "      <td>5</td>\n",
       "    </tr>\n",
       "    <tr>\n",
       "      <th>58913</th>\n",
       "      <td>400</td>\n",
       "      <td>1036</td>\n",
       "      <td>Die Hard (1988)</td>\n",
       "      <td>Action|Thriller</td>\n",
       "      <td>5</td>\n",
       "    </tr>\n",
       "    <tr>\n",
       "      <th>58910</th>\n",
       "      <td>400</td>\n",
       "      <td>2762</td>\n",
       "      <td>Sixth Sense, The (1999)</td>\n",
       "      <td>Thriller</td>\n",
       "      <td>5</td>\n",
       "    </tr>\n",
       "    <tr>\n",
       "      <th>58908</th>\n",
       "      <td>400</td>\n",
       "      <td>2599</td>\n",
       "      <td>Election (1999)</td>\n",
       "      <td>Comedy</td>\n",
       "      <td>5</td>\n",
       "    </tr>\n",
       "    <tr>\n",
       "      <th>58912</th>\n",
       "      <td>400</td>\n",
       "      <td>2918</td>\n",
       "      <td>Ferris Bueller's Day Off (1986)</td>\n",
       "      <td>Comedy</td>\n",
       "      <td>5</td>\n",
       "    </tr>\n",
       "    <tr>\n",
       "      <th>58926</th>\n",
       "      <td>400</td>\n",
       "      <td>1242</td>\n",
       "      <td>Glory (1989)</td>\n",
       "      <td>Action|Drama|War</td>\n",
       "      <td>5</td>\n",
       "    </tr>\n",
       "    <tr>\n",
       "      <th>58915</th>\n",
       "      <td>400</td>\n",
       "      <td>50</td>\n",
       "      <td>Usual Suspects, The (1995)</td>\n",
       "      <td>Crime|Thriller</td>\n",
       "      <td>5</td>\n",
       "    </tr>\n",
       "    <tr>\n",
       "      <th>58914</th>\n",
       "      <td>400</td>\n",
       "      <td>2858</td>\n",
       "      <td>American Beauty (1999)</td>\n",
       "      <td>Comedy|Drama</td>\n",
       "      <td>5</td>\n",
       "    </tr>\n",
       "  </tbody>\n",
       "</table>\n",
       "</div>"
      ],
      "text/plain": [
       "       UserID  MovieID                                              Title  \\\n",
       "58894     400      593                   Silence of the Lambs, The (1991)   \n",
       "58891     400     1196  Star Wars: Episode V - The Empire Strikes Back...   \n",
       "58900     400     3114                                 Toy Story 2 (1999)   \n",
       "58913     400     1036                                    Die Hard (1988)   \n",
       "58910     400     2762                            Sixth Sense, The (1999)   \n",
       "58908     400     2599                                    Election (1999)   \n",
       "58912     400     2918                    Ferris Bueller's Day Off (1986)   \n",
       "58926     400     1242                                       Glory (1989)   \n",
       "58915     400       50                         Usual Suspects, The (1995)   \n",
       "58914     400     2858                             American Beauty (1999)   \n",
       "\n",
       "                                  Genres  Rating  \n",
       "58894                     Drama|Thriller       5  \n",
       "58891  Action|Adventure|Drama|Sci-Fi|War       5  \n",
       "58900        Animation|Children's|Comedy       5  \n",
       "58913                    Action|Thriller       5  \n",
       "58910                           Thriller       5  \n",
       "58908                             Comedy       5  \n",
       "58912                             Comedy       5  \n",
       "58926                   Action|Drama|War       5  \n",
       "58915                     Crime|Thriller       5  \n",
       "58914                       Comedy|Drama       5  "
      ]
     },
     "execution_count": 23,
     "metadata": {},
     "output_type": "execute_result"
    }
   ],
   "source": [
    "about_user = data_ua[(data_ua['UserID'] == user_id) & (data_ua['Rating'] >= 4)\n",
    "                     ].sort_values(by='Rating', ascending=False)[['UserID', 'MovieID', 'Title', 'Genres', 'Rating']].head(k)\n",
    "about_user"
   ]
  },
  {
   "cell_type": "markdown",
   "metadata": {},
   "source": [
    "## Genre Counts"
   ]
  },
  {
   "cell_type": "code",
   "execution_count": 24,
   "metadata": {},
   "outputs": [
    {
     "data": {
      "text/plain": [
       "{'Animation': 1,\n",
       " 'Comedy': 3,\n",
       " 'Thriller': 2,\n",
       " 'Drama': 4,\n",
       " 'Action': 3,\n",
       " 'Adventure': 3,\n",
       " 'Fantasy': 1,\n",
       " 'Sci-Fi': 1,\n",
       " 'Crime': 1,\n",
       " 'Romance': 1,\n",
       " 'Mystery': 1,\n",
       " 'War': 1}"
      ]
     },
     "execution_count": 24,
     "metadata": {},
     "output_type": "execute_result"
    }
   ],
   "source": [
    "genres_counts(recommendations_ua)"
   ]
  },
  {
   "cell_type": "code",
   "execution_count": 25,
   "metadata": {},
   "outputs": [
    {
     "data": {
      "text/plain": [
       "{'Action': 3,\n",
       " 'Adventure': 1,\n",
       " 'Fantasy': 1,\n",
       " 'Sci-Fi': 1,\n",
       " 'Drama': 7,\n",
       " 'Animation': 1,\n",
       " 'Comedy': 1,\n",
       " 'Thriller': 2,\n",
       " 'Crime': 1,\n",
       " 'Film-Noir': 1,\n",
       " 'War': 2}"
      ]
     },
     "execution_count": 25,
     "metadata": {},
     "output_type": "execute_result"
    }
   ],
   "source": [
    "genres_counts(recommendations_cnn_sncf)"
   ]
  },
  {
   "cell_type": "code",
   "execution_count": 26,
   "metadata": {},
   "outputs": [
    {
     "data": {
      "text/plain": [
       "{'Action': 3,\n",
       " 'Drama': 4,\n",
       " 'War': 2,\n",
       " 'Thriller': 2,\n",
       " 'Adventure': 2,\n",
       " 'Comedy': 5,\n",
       " 'Romance': 1,\n",
       " 'Sci-Fi': 1,\n",
       " 'Animation': 1,\n",
       " \"Children's\": 1}"
      ]
     },
     "execution_count": 26,
     "metadata": {},
     "output_type": "execute_result"
    }
   ],
   "source": [
    "genres_counts(recommendations_svd)"
   ]
  },
  {
   "cell_type": "code",
   "execution_count": 27,
   "metadata": {},
   "outputs": [
    {
     "data": {
      "text/plain": [
       "{'Drama': 4,\n",
       " 'Thriller': 4,\n",
       " 'Action': 3,\n",
       " 'Adventure': 1,\n",
       " 'Sci-Fi': 1,\n",
       " 'War': 2,\n",
       " 'Animation': 1,\n",
       " \"Children's\": 1,\n",
       " 'Comedy': 4,\n",
       " 'Crime': 1}"
      ]
     },
     "execution_count": 27,
     "metadata": {},
     "output_type": "execute_result"
    }
   ],
   "source": [
    "genres_counts(about_user)"
   ]
  }
 ],
 "metadata": {
  "kernelspec": {
   "display_name": ".venv",
   "language": "python",
   "name": "python3"
  },
  "language_info": {
   "codemirror_mode": {
    "name": "ipython",
    "version": 3
   },
   "file_extension": ".py",
   "mimetype": "text/x-python",
   "name": "python",
   "nbconvert_exporter": "python",
   "pygments_lexer": "ipython3",
   "version": "3.12.7"
  }
 },
 "nbformat": 4,
 "nbformat_minor": 2
}
