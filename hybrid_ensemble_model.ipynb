{
 "cells": [
  {
   "cell_type": "code",
   "execution_count": 2,
   "metadata": {},
   "outputs": [],
   "source": [
    "import torch\n",
    "import pandas as pd\n",
    "import numpy as np\n",
    "import matplotlib.pyplot as plt"
   ]
  },
  {
   "cell_type": "code",
   "execution_count": 30,
   "metadata": {},
   "outputs": [],
   "source": [
    "user_id = 582"
   ]
  },
  {
   "cell_type": "code",
   "execution_count": 3,
   "metadata": {},
   "outputs": [],
   "source": [
    "def load_and_preprocess_data():\n",
    "    # Load data\n",
    "    movie_data = pd.read_csv('data/movies_grouplens/movies.dat',\n",
    "                             delimiter='::', header=None, engine='python', encoding='latin1')\n",
    "    rating_data = pd.read_csv('data/movies_grouplens/ratings.dat',\n",
    "                              delimiter='::', header=None, engine='python', encoding='latin1')\n",
    "    user_data = pd.read_csv('data/movies_grouplens/users.dat',\n",
    "                            delimiter='::', header=None, engine='python', encoding='latin1')\n",
    "\n",
    "    # Set column names\n",
    "    movie_data.columns = ['MovieID', 'Title', 'Genres']\n",
    "    rating_data.columns = ['UserID', 'MovieID', 'Rating', 'Timestamp']\n",
    "    user_data.columns = ['UserID', 'Gender', 'Age', 'Occupation', 'Zip-code']\n",
    "\n",
    "    # Merge datasets\n",
    "    df = pd.merge(rating_data, movie_data, on='MovieID', how='left')\n",
    "    df = pd.merge(df, user_data, on='UserID', how='left')\n",
    "\n",
    "    # Convert categorical variables\n",
    "    df['Gender'] = df['Gender'].map({'M': 0, 'F': 1})\n",
    "\n",
    "    # Create index mappings\n",
    "    users = df['UserID'].unique()\n",
    "    movies = df['MovieID'].unique()\n",
    "\n",
    "    user_to_idx = {user: idx for idx, user in enumerate(users)}\n",
    "    movie_to_idx = {movie: idx for idx, movie in enumerate(movies)}\n",
    "\n",
    "    # Add index columns\n",
    "    df['User_idx'] = df['UserID'].map(user_to_idx)\n",
    "    df['Movie_idx'] = df['MovieID'].map(movie_to_idx)\n",
    "\n",
    "    # Normalize age and occupation values to start from 0\n",
    "    df['Age'] = df['Age'] - df['Age'].min()\n",
    "    df['Occupation'] = df['Occupation'] - df['Occupation'].min()\n",
    "\n",
    "    return df, user_to_idx, movie_to_idx"
   ]
  },
  {
   "cell_type": "code",
   "execution_count": 4,
   "metadata": {},
   "outputs": [],
   "source": [
    "device = torch.device('mps' if torch.backends.mps.is_available() else 'cpu')\n",
    "device = torch.device('cuda') if torch.cuda.is_available() else device"
   ]
  },
  {
   "cell_type": "code",
   "execution_count": 5,
   "metadata": {},
   "outputs": [],
   "source": [
    "ncf_cnn_model = torch.jit.load(\n",
    "    'models/NCF_CNN_Enchanced.pt', map_location=device)"
   ]
  },
  {
   "cell_type": "code",
   "execution_count": 6,
   "metadata": {},
   "outputs": [],
   "source": [
    "data, user_to_idx, movie_to_idx = load_and_preprocess_data()\n",
    "idx_to_movie = {v: k for k, v in movie_to_idx.items()}\n",
    "idx_to_user = {v: k for k, v in user_to_idx.items()}"
   ]
  },
  {
   "cell_type": "code",
   "execution_count": 31,
   "metadata": {},
   "outputs": [],
   "source": [
    "def get_recommendations(user_id, model, data, user_to_idx, idx_to_movie, device, path='data/movies_grouplens/users.dat'):\n",
    "    user_data = pd.read_csv(path,\n",
    "                            delimiter='::', header=None, engine='python', encoding='latin1')\n",
    "\n",
    "    user_data.columns = ['UserID', 'Gender', 'Age', 'Occupation', 'Zip-code']\n",
    "    user_idx = user_to_idx[user_id]\n",
    "\n",
    "    user_data['Gender'] = user_data['Gender'].map({'M': 0, 'F': 1})\n",
    "    user_data['Age'] = user_data['Age'] - user_data['Age'].min()\n",
    "    user_data['Occupation'] = user_data['Occupation'] - \\\n",
    "        user_data['Occupation'].min()\n",
    "\n",
    "    ud = user_data[(user_data['UserID'] == user_id)].values\n",
    "    not_watched = []\n",
    "    list_ratings = []\n",
    "\n",
    "    movie_idxs = np.arange(data['Movie_idx'].min(),\n",
    "                           data['Movie_idx'].max()+1, 1)\n",
    "\n",
    "    for movie in movie_idxs:\n",
    "        if (not len(data[(data['User_idx'] == user_idx) & (data['Movie_idx'] == movie)]['Movie_idx'].to_list())):\n",
    "            not_watched.append(movie)\n",
    "        # else:\n",
    "        #     print(f'Already Wacthed {movie}')\n",
    "\n",
    "    for movie in not_watched:\n",
    "        movie_features = ['Title', 'Genres']\n",
    "        title, genres = data.iloc[data[data['Movie_idx']\n",
    "                                       == movie].index[0]][movie_features]\n",
    "        gender, age, occupation = ud[0][1:4]\n",
    "        # print(gender, age, occupation)\n",
    "        rating = model(torch.tensor([user_idx]).to(device), torch.tensor([movie]).to(device), torch.tensor(\n",
    "            [gender]).to(device), torch.tensor([age]).to(device), torch.tensor([occupation]).to(device))\n",
    "\n",
    "        list_ratings.append([user_id, idx_to_movie\n",
    "                             [movie], title,\n",
    "                            genres, gender, age, occupation, rating.item()])\n",
    "\n",
    "\n",
    "# Define the column names\n",
    "    column_names = ['UserID', 'MovieID', 'Title',\n",
    "                    'Genres', 'Gender', 'Age', 'Occupation', 'Rating']\n",
    "\n",
    "    # Create a DataFrame\n",
    "    df_list = pd.DataFrame(list_ratings, columns=column_names)\n",
    "    return df_list"
   ]
  },
  {
   "cell_type": "code",
   "execution_count": 32,
   "metadata": {},
   "outputs": [],
   "source": [
    "cf_recommendations = get_recommendations(user_id, ncf_cnn_model, data,\n",
    "                                         user_to_idx, idx_to_movie, device)"
   ]
  },
  {
   "cell_type": "markdown",
   "metadata": {},
   "source": [
    "## CBF\n"
   ]
  },
  {
   "cell_type": "code",
   "execution_count": 33,
   "metadata": {},
   "outputs": [],
   "source": [
    "from src.modules.CBF import CBF\n",
    "cbf = CBF()"
   ]
  },
  {
   "cell_type": "code",
   "execution_count": 34,
   "metadata": {},
   "outputs": [],
   "source": [
    "cbf_recommendations = cbf.cbf_recommend_movies(user_id)"
   ]
  },
  {
   "cell_type": "markdown",
   "metadata": {},
   "source": [
    "## Hybrid"
   ]
  },
  {
   "cell_type": "code",
   "execution_count": 11,
   "metadata": {},
   "outputs": [],
   "source": [
    "hybrid_recommendations = cf_recommendations.merge(\n",
    "    cbf_recommendations, on=['MovieID', 'Title', 'Genres'])"
   ]
  },
  {
   "cell_type": "code",
   "execution_count": 21,
   "metadata": {},
   "outputs": [],
   "source": [
    "hybrid_recommendations['Ensemble_Rating'] = 0.5 * \\\n",
    "    hybrid_recommendations['Rating'] + 0.5*hybrid_recommendations['Score']"
   ]
  },
  {
   "cell_type": "code",
   "execution_count": 22,
   "metadata": {},
   "outputs": [
    {
     "data": {
      "text/html": [
       "<div>\n",
       "<style scoped>\n",
       "    .dataframe tbody tr th:only-of-type {\n",
       "        vertical-align: middle;\n",
       "    }\n",
       "\n",
       "    .dataframe tbody tr th {\n",
       "        vertical-align: top;\n",
       "    }\n",
       "\n",
       "    .dataframe thead th {\n",
       "        text-align: right;\n",
       "    }\n",
       "</style>\n",
       "<table border=\"1\" class=\"dataframe\">\n",
       "  <thead>\n",
       "    <tr style=\"text-align: right;\">\n",
       "      <th></th>\n",
       "      <th>UserID</th>\n",
       "      <th>MovieID</th>\n",
       "      <th>Title</th>\n",
       "      <th>Genres</th>\n",
       "      <th>Gender</th>\n",
       "      <th>Age</th>\n",
       "      <th>Occupation</th>\n",
       "      <th>Rating</th>\n",
       "      <th>Score</th>\n",
       "      <th>Ensemble_Rating</th>\n",
       "    </tr>\n",
       "  </thead>\n",
       "  <tbody>\n",
       "    <tr>\n",
       "      <th>479</th>\n",
       "      <td>399</td>\n",
       "      <td>2324</td>\n",
       "      <td>Life Is Beautiful (La Vita è bella) (1997)</td>\n",
       "      <td>Comedy|Drama</td>\n",
       "      <td>1</td>\n",
       "      <td>17</td>\n",
       "      <td>3</td>\n",
       "      <td>4.176987</td>\n",
       "      <td>3.670873</td>\n",
       "      <td>3.923930</td>\n",
       "    </tr>\n",
       "    <tr>\n",
       "      <th>6</th>\n",
       "      <td>399</td>\n",
       "      <td>2804</td>\n",
       "      <td>Christmas Story, A (1983)</td>\n",
       "      <td>Comedy|Drama</td>\n",
       "      <td>1</td>\n",
       "      <td>17</td>\n",
       "      <td>3</td>\n",
       "      <td>4.048002</td>\n",
       "      <td>3.670873</td>\n",
       "      <td>3.859438</td>\n",
       "    </tr>\n",
       "    <tr>\n",
       "      <th>566</th>\n",
       "      <td>399</td>\n",
       "      <td>1276</td>\n",
       "      <td>Cool Hand Luke (1967)</td>\n",
       "      <td>Comedy|Drama</td>\n",
       "      <td>1</td>\n",
       "      <td>17</td>\n",
       "      <td>3</td>\n",
       "      <td>3.890202</td>\n",
       "      <td>3.670873</td>\n",
       "      <td>3.780537</td>\n",
       "    </tr>\n",
       "    <tr>\n",
       "      <th>798</th>\n",
       "      <td>399</td>\n",
       "      <td>3897</td>\n",
       "      <td>Almost Famous (2000)</td>\n",
       "      <td>Comedy|Drama</td>\n",
       "      <td>1</td>\n",
       "      <td>17</td>\n",
       "      <td>3</td>\n",
       "      <td>3.859765</td>\n",
       "      <td>3.670873</td>\n",
       "      <td>3.765319</td>\n",
       "    </tr>\n",
       "    <tr>\n",
       "      <th>139</th>\n",
       "      <td>399</td>\n",
       "      <td>3451</td>\n",
       "      <td>Guess Who's Coming to Dinner (1967)</td>\n",
       "      <td>Comedy|Drama</td>\n",
       "      <td>1</td>\n",
       "      <td>17</td>\n",
       "      <td>3</td>\n",
       "      <td>3.744151</td>\n",
       "      <td>3.670873</td>\n",
       "      <td>3.707512</td>\n",
       "    </tr>\n",
       "    <tr>\n",
       "      <th>...</th>\n",
       "      <td>...</td>\n",
       "      <td>...</td>\n",
       "      <td>...</td>\n",
       "      <td>...</td>\n",
       "      <td>...</td>\n",
       "      <td>...</td>\n",
       "      <td>...</td>\n",
       "      <td>...</td>\n",
       "      <td>...</td>\n",
       "      <td>...</td>\n",
       "    </tr>\n",
       "    <tr>\n",
       "      <th>3012</th>\n",
       "      <td>399</td>\n",
       "      <td>1039</td>\n",
       "      <td>Synthetic Pleasures (1995)</td>\n",
       "      <td>Documentary</td>\n",
       "      <td>1</td>\n",
       "      <td>17</td>\n",
       "      <td>3</td>\n",
       "      <td>2.341964</td>\n",
       "      <td>0.000000</td>\n",
       "      <td>1.170982</td>\n",
       "    </tr>\n",
       "    <tr>\n",
       "      <th>3464</th>\n",
       "      <td>399</td>\n",
       "      <td>977</td>\n",
       "      <td>Moonlight Murder (1936)</td>\n",
       "      <td>Mystery</td>\n",
       "      <td>1</td>\n",
       "      <td>17</td>\n",
       "      <td>3</td>\n",
       "      <td>2.340078</td>\n",
       "      <td>0.000000</td>\n",
       "      <td>1.170039</td>\n",
       "    </tr>\n",
       "    <tr>\n",
       "      <th>2819</th>\n",
       "      <td>399</td>\n",
       "      <td>3149</td>\n",
       "      <td>Diamonds (1999)</td>\n",
       "      <td>Mystery</td>\n",
       "      <td>1</td>\n",
       "      <td>17</td>\n",
       "      <td>3</td>\n",
       "      <td>2.338234</td>\n",
       "      <td>0.000000</td>\n",
       "      <td>1.169117</td>\n",
       "    </tr>\n",
       "    <tr>\n",
       "      <th>1318</th>\n",
       "      <td>399</td>\n",
       "      <td>416</td>\n",
       "      <td>Bad Girls (1994)</td>\n",
       "      <td>Western</td>\n",
       "      <td>1</td>\n",
       "      <td>17</td>\n",
       "      <td>3</td>\n",
       "      <td>2.322509</td>\n",
       "      <td>0.000000</td>\n",
       "      <td>1.161254</td>\n",
       "    </tr>\n",
       "    <tr>\n",
       "      <th>3138</th>\n",
       "      <td>399</td>\n",
       "      <td>37</td>\n",
       "      <td>Across the Sea of Time (1995)</td>\n",
       "      <td>Documentary</td>\n",
       "      <td>1</td>\n",
       "      <td>17</td>\n",
       "      <td>3</td>\n",
       "      <td>2.318952</td>\n",
       "      <td>0.000000</td>\n",
       "      <td>1.159476</td>\n",
       "    </tr>\n",
       "  </tbody>\n",
       "</table>\n",
       "<p>3666 rows × 10 columns</p>\n",
       "</div>"
      ],
      "text/plain": [
       "      UserID  MovieID                                       Title  \\\n",
       "479      399     2324  Life Is Beautiful (La Vita è bella) (1997)   \n",
       "6        399     2804                   Christmas Story, A (1983)   \n",
       "566      399     1276                       Cool Hand Luke (1967)   \n",
       "798      399     3897                        Almost Famous (2000)   \n",
       "139      399     3451         Guess Who's Coming to Dinner (1967)   \n",
       "...      ...      ...                                         ...   \n",
       "3012     399     1039                  Synthetic Pleasures (1995)   \n",
       "3464     399      977                     Moonlight Murder (1936)   \n",
       "2819     399     3149                             Diamonds (1999)   \n",
       "1318     399      416                            Bad Girls (1994)   \n",
       "3138     399       37               Across the Sea of Time (1995)   \n",
       "\n",
       "            Genres  Gender  Age  Occupation    Rating     Score  \\\n",
       "479   Comedy|Drama       1   17           3  4.176987  3.670873   \n",
       "6     Comedy|Drama       1   17           3  4.048002  3.670873   \n",
       "566   Comedy|Drama       1   17           3  3.890202  3.670873   \n",
       "798   Comedy|Drama       1   17           3  3.859765  3.670873   \n",
       "139   Comedy|Drama       1   17           3  3.744151  3.670873   \n",
       "...            ...     ...  ...         ...       ...       ...   \n",
       "3012   Documentary       1   17           3  2.341964  0.000000   \n",
       "3464       Mystery       1   17           3  2.340078  0.000000   \n",
       "2819       Mystery       1   17           3  2.338234  0.000000   \n",
       "1318       Western       1   17           3  2.322509  0.000000   \n",
       "3138   Documentary       1   17           3  2.318952  0.000000   \n",
       "\n",
       "      Ensemble_Rating  \n",
       "479          3.923930  \n",
       "6            3.859438  \n",
       "566          3.780537  \n",
       "798          3.765319  \n",
       "139          3.707512  \n",
       "...               ...  \n",
       "3012         1.170982  \n",
       "3464         1.170039  \n",
       "2819         1.169117  \n",
       "1318         1.161254  \n",
       "3138         1.159476  \n",
       "\n",
       "[3666 rows x 10 columns]"
      ]
     },
     "execution_count": 22,
     "metadata": {},
     "output_type": "execute_result"
    }
   ],
   "source": [
    "hybrid_recommendations.sort_values(by='Ensemble_Rating', ascending=False)"
   ]
  },
  {
   "cell_type": "code",
   "execution_count": 40,
   "metadata": {},
   "outputs": [],
   "source": [
    "genres_list = list(data[(data['UserID'] == user_id) &\n",
    "                   (data['Rating'] > 4)]['Genres'].values)"
   ]
  },
  {
   "cell_type": "code",
   "execution_count": 41,
   "metadata": {},
   "outputs": [],
   "source": [
    "genres = [gen.split('|') for gen in genres_list]\n",
    "genres = [i for gen in genres for i in gen]"
   ]
  },
  {
   "cell_type": "code",
   "execution_count": 42,
   "metadata": {},
   "outputs": [],
   "source": [
    "from collections import Counter"
   ]
  },
  {
   "cell_type": "code",
   "execution_count": 43,
   "metadata": {},
   "outputs": [],
   "source": [
    "counts = Counter(genres)"
   ]
  },
  {
   "cell_type": "code",
   "execution_count": 44,
   "metadata": {},
   "outputs": [
    {
     "data": {
      "text/plain": [
       "Counter({'Drama': 17,\n",
       "         'Comedy': 12,\n",
       "         'Thriller': 11,\n",
       "         'Action': 9,\n",
       "         'Sci-Fi': 8,\n",
       "         'Adventure': 4,\n",
       "         'Animation': 2,\n",
       "         \"Children's\": 2,\n",
       "         'Horror': 2,\n",
       "         'Romance': 2,\n",
       "         'Crime': 2,\n",
       "         'War': 2,\n",
       "         'Film-Noir': 1,\n",
       "         'Fantasy': 1,\n",
       "         'Western': 1,\n",
       "         'Musical': 1})"
      ]
     },
     "execution_count": 44,
     "metadata": {},
     "output_type": "execute_result"
    }
   ],
   "source": [
    "counts"
   ]
  }
 ],
 "metadata": {
  "kernelspec": {
   "display_name": ".venv",
   "language": "python",
   "name": "python3"
  },
  "language_info": {
   "codemirror_mode": {
    "name": "ipython",
    "version": 3
   },
   "file_extension": ".py",
   "mimetype": "text/x-python",
   "name": "python",
   "nbconvert_exporter": "python",
   "pygments_lexer": "ipython3",
   "version": "3.12.7"
  }
 },
 "nbformat": 4,
 "nbformat_minor": 2
}
