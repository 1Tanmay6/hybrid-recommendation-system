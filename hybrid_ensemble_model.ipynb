{
 "cells": [
  {
   "cell_type": "code",
   "execution_count": 2,
   "metadata": {},
   "outputs": [],
   "source": [
    "import torch\n",
    "import random\n",
    "import pandas as pd\n",
    "import numpy as np\n",
    "import matplotlib.pyplot as plt"
   ]
  },
  {
   "cell_type": "code",
   "execution_count": 3,
   "metadata": {},
   "outputs": [],
   "source": [
    "user_id = 582"
   ]
  },
  {
   "cell_type": "code",
   "execution_count": 4,
   "metadata": {},
   "outputs": [],
   "source": [
    "def load_and_preprocess_data():\n",
    "    # Load data\n",
    "    movie_data = pd.read_csv('data/movies_grouplens/movies.dat',\n",
    "                             delimiter='::', header=None, engine='python', encoding='latin1')\n",
    "    rating_data = pd.read_csv('data/movies_grouplens/ratings.dat',\n",
    "                              delimiter='::', header=None, engine='python', encoding='latin1')\n",
    "    user_data = pd.read_csv('data/movies_grouplens/users.dat',\n",
    "                            delimiter='::', header=None, engine='python', encoding='latin1')\n",
    "\n",
    "    # Set column names\n",
    "    movie_data.columns = ['MovieID', 'Title', 'Genres']\n",
    "    rating_data.columns = ['UserID', 'MovieID', 'Rating', 'Timestamp']\n",
    "    user_data.columns = ['UserID', 'Gender', 'Age', 'Occupation', 'Zip-code']\n",
    "\n",
    "    # Merge datasets\n",
    "    df = pd.merge(rating_data, movie_data, on='MovieID', how='left')\n",
    "    df = pd.merge(df, user_data, on='UserID', how='left')\n",
    "\n",
    "    # Convert categorical variables\n",
    "    df['Gender'] = df['Gender'].map({'M': 0, 'F': 1})\n",
    "\n",
    "    # Create index mappings\n",
    "    users = df['UserID'].unique()\n",
    "    movies = df['MovieID'].unique()\n",
    "\n",
    "    user_to_idx = {user: idx for idx, user in enumerate(users)}\n",
    "    movie_to_idx = {movie: idx for idx, movie in enumerate(movies)}\n",
    "\n",
    "    # Add index columns\n",
    "    df['User_idx'] = df['UserID'].map(user_to_idx)\n",
    "    df['Movie_idx'] = df['MovieID'].map(movie_to_idx)\n",
    "\n",
    "    # Normalize age and occupation values to start from 0\n",
    "    df['Age'] = df['Age'] - df['Age'].min()\n",
    "    df['Occupation'] = df['Occupation'] - df['Occupation'].min()\n",
    "\n",
    "    return df, user_to_idx, movie_to_idx"
   ]
  },
  {
   "cell_type": "code",
   "execution_count": 5,
   "metadata": {},
   "outputs": [],
   "source": [
    "device = torch.device('mps' if torch.backends.mps.is_available() else 'cpu')\n",
    "device = torch.device('cuda') if torch.cuda.is_available() else device"
   ]
  },
  {
   "cell_type": "code",
   "execution_count": 6,
   "metadata": {},
   "outputs": [],
   "source": [
    "ncf_cnn_model = torch.jit.load(\n",
    "    'models/NCF_CNN_Enchanced.pt', map_location=device)"
   ]
  },
  {
   "cell_type": "code",
   "execution_count": 7,
   "metadata": {},
   "outputs": [],
   "source": [
    "data, user_to_idx, movie_to_idx = load_and_preprocess_data()\n",
    "idx_to_movie = {v: k for k, v in movie_to_idx.items()}\n",
    "idx_to_user = {v: k for k, v in user_to_idx.items()}"
   ]
  },
  {
   "cell_type": "code",
   "execution_count": 8,
   "metadata": {},
   "outputs": [],
   "source": [
    "def get_recommendations(user_id, model, data, user_to_idx, idx_to_movie, device, path='data/movies_grouplens/users.dat'):\n",
    "    user_data = pd.read_csv(path,\n",
    "                            delimiter='::', header=None, engine='python', encoding='latin1')\n",
    "\n",
    "    user_data.columns = ['UserID', 'Gender', 'Age', 'Occupation', 'Zip-code']\n",
    "    user_idx = user_to_idx[user_id]\n",
    "\n",
    "    user_data['Gender'] = user_data['Gender'].map({'M': 0, 'F': 1})\n",
    "    user_data['Age'] = user_data['Age'] - user_data['Age'].min()\n",
    "    user_data['Occupation'] = user_data['Occupation'] - \\\n",
    "        user_data['Occupation'].min()\n",
    "\n",
    "    ud = user_data[(user_data['UserID'] == user_id)].values\n",
    "    not_watched = []\n",
    "    list_ratings = []\n",
    "\n",
    "    movie_idxs = np.arange(data['Movie_idx'].min(),\n",
    "                           data['Movie_idx'].max()+1, 1)\n",
    "\n",
    "    for movie in movie_idxs:\n",
    "        if (not len(data[(data['User_idx'] == user_idx) & (data['Movie_idx'] == movie)]['Movie_idx'].to_list())):\n",
    "            not_watched.append(movie)\n",
    "        # else:\n",
    "        #     print(f'Already Wacthed {movie}')\n",
    "\n",
    "    for movie in not_watched:\n",
    "        movie_features = ['Title', 'Genres']\n",
    "        title, genres = data.iloc[data[data['Movie_idx']\n",
    "                                       == movie].index[0]][movie_features]\n",
    "        gender, age, occupation = ud[0][1:4]\n",
    "        # print(gender, age, occupation)\n",
    "        rating = model(torch.tensor([user_idx]).to(device), torch.tensor([movie]).to(device), torch.tensor(\n",
    "            [gender]).to(device), torch.tensor([age]).to(device), torch.tensor([occupation]).to(device))\n",
    "\n",
    "        list_ratings.append([user_id, idx_to_movie\n",
    "                             [movie], title,\n",
    "                            genres, gender, age, occupation, rating.item()])\n",
    "\n",
    "\n",
    "# Define the column names\n",
    "    column_names = ['UserID', 'MovieID', 'Title',\n",
    "                    'Genres', 'Gender', 'Age', 'Occupation', 'Rating']\n",
    "\n",
    "    # Create a DataFrame\n",
    "    df_list = pd.DataFrame(list_ratings, columns=column_names)\n",
    "    return df_list"
   ]
  },
  {
   "cell_type": "code",
   "execution_count": 9,
   "metadata": {},
   "outputs": [],
   "source": [
    "cf_recommendations = get_recommendations(user_id, ncf_cnn_model, data,\n",
    "                                         user_to_idx, idx_to_movie, device)"
   ]
  },
  {
   "cell_type": "markdown",
   "metadata": {},
   "source": [
    "## CBF\n"
   ]
  },
  {
   "cell_type": "code",
   "execution_count": 10,
   "metadata": {},
   "outputs": [],
   "source": [
    "from src.modules.CBF import CBF\n",
    "cbf = CBF()"
   ]
  },
  {
   "cell_type": "code",
   "execution_count": 11,
   "metadata": {},
   "outputs": [],
   "source": [
    "cbf_recommendations = cbf.cbf_recommend_movies(user_id)"
   ]
  },
  {
   "cell_type": "markdown",
   "metadata": {},
   "source": [
    "## Hybrid"
   ]
  },
  {
   "cell_type": "code",
   "execution_count": 12,
   "metadata": {},
   "outputs": [],
   "source": [
    "hybrid_recommendations = cf_recommendations.merge(\n",
    "    cbf_recommendations, on=['MovieID', 'Title', 'Genres'])"
   ]
  },
  {
   "cell_type": "code",
   "execution_count": 13,
   "metadata": {},
   "outputs": [],
   "source": [
    "hybrid_recommendations['Ensemble_Rating'] = 0.5 * \\\n",
    "    hybrid_recommendations['Rating'] + 0.5*hybrid_recommendations['Score']"
   ]
  },
  {
   "cell_type": "code",
   "execution_count": 14,
   "metadata": {},
   "outputs": [
    {
     "data": {
      "text/html": [
       "<div>\n",
       "<style scoped>\n",
       "    .dataframe tbody tr th:only-of-type {\n",
       "        vertical-align: middle;\n",
       "    }\n",
       "\n",
       "    .dataframe tbody tr th {\n",
       "        vertical-align: top;\n",
       "    }\n",
       "\n",
       "    .dataframe thead th {\n",
       "        text-align: right;\n",
       "    }\n",
       "</style>\n",
       "<table border=\"1\" class=\"dataframe\">\n",
       "  <thead>\n",
       "    <tr style=\"text-align: right;\">\n",
       "      <th></th>\n",
       "      <th>UserID</th>\n",
       "      <th>MovieID</th>\n",
       "      <th>Title</th>\n",
       "      <th>Genres</th>\n",
       "      <th>Gender</th>\n",
       "      <th>Age</th>\n",
       "      <th>Occupation</th>\n",
       "      <th>Rating</th>\n",
       "      <th>Score</th>\n",
       "      <th>Ensemble_Rating</th>\n",
       "    </tr>\n",
       "  </thead>\n",
       "  <tbody>\n",
       "    <tr>\n",
       "      <th>469</th>\n",
       "      <td>582</td>\n",
       "      <td>2324</td>\n",
       "      <td>Life Is Beautiful (La Vita è bella) (1997)</td>\n",
       "      <td>Comedy|Drama</td>\n",
       "      <td>0</td>\n",
       "      <td>17</td>\n",
       "      <td>4</td>\n",
       "      <td>4.639856</td>\n",
       "      <td>3.506560</td>\n",
       "      <td>4.073208</td>\n",
       "    </tr>\n",
       "    <tr>\n",
       "      <th>156</th>\n",
       "      <td>582</td>\n",
       "      <td>1968</td>\n",
       "      <td>Breakfast Club, The (1985)</td>\n",
       "      <td>Comedy|Drama</td>\n",
       "      <td>0</td>\n",
       "      <td>17</td>\n",
       "      <td>4</td>\n",
       "      <td>4.526640</td>\n",
       "      <td>3.506560</td>\n",
       "      <td>4.016600</td>\n",
       "    </tr>\n",
       "    <tr>\n",
       "      <th>120</th>\n",
       "      <td>582</td>\n",
       "      <td>2571</td>\n",
       "      <td>Matrix, The (1999)</td>\n",
       "      <td>Action|Sci-Fi|Thriller</td>\n",
       "      <td>0</td>\n",
       "      <td>17</td>\n",
       "      <td>4</td>\n",
       "      <td>4.820176</td>\n",
       "      <td>3.097833</td>\n",
       "      <td>3.959005</td>\n",
       "    </tr>\n",
       "    <tr>\n",
       "      <th>661</th>\n",
       "      <td>582</td>\n",
       "      <td>2431</td>\n",
       "      <td>Patch Adams (1998)</td>\n",
       "      <td>Comedy|Drama</td>\n",
       "      <td>0</td>\n",
       "      <td>17</td>\n",
       "      <td>4</td>\n",
       "      <td>4.377867</td>\n",
       "      <td>3.506560</td>\n",
       "      <td>3.942214</td>\n",
       "    </tr>\n",
       "    <tr>\n",
       "      <th>2162</th>\n",
       "      <td>582</td>\n",
       "      <td>2861</td>\n",
       "      <td>For Love of the Game (1999)</td>\n",
       "      <td>Comedy|Drama</td>\n",
       "      <td>0</td>\n",
       "      <td>17</td>\n",
       "      <td>4</td>\n",
       "      <td>4.350286</td>\n",
       "      <td>3.506560</td>\n",
       "      <td>3.928423</td>\n",
       "    </tr>\n",
       "    <tr>\n",
       "      <th>...</th>\n",
       "      <td>...</td>\n",
       "      <td>...</td>\n",
       "      <td>...</td>\n",
       "      <td>...</td>\n",
       "      <td>...</td>\n",
       "      <td>...</td>\n",
       "      <td>...</td>\n",
       "      <td>...</td>\n",
       "      <td>...</td>\n",
       "      <td>...</td>\n",
       "    </tr>\n",
       "    <tr>\n",
       "      <th>3513</th>\n",
       "      <td>582</td>\n",
       "      <td>3297</td>\n",
       "      <td>With Byrd at the South Pole (1930)</td>\n",
       "      <td>Documentary</td>\n",
       "      <td>0</td>\n",
       "      <td>17</td>\n",
       "      <td>4</td>\n",
       "      <td>2.971081</td>\n",
       "      <td>0.000000</td>\n",
       "      <td>1.485541</td>\n",
       "    </tr>\n",
       "    <tr>\n",
       "      <th>3439</th>\n",
       "      <td>582</td>\n",
       "      <td>1145</td>\n",
       "      <td>Snowriders (1996)</td>\n",
       "      <td>Documentary</td>\n",
       "      <td>0</td>\n",
       "      <td>17</td>\n",
       "      <td>4</td>\n",
       "      <td>2.966372</td>\n",
       "      <td>0.000000</td>\n",
       "      <td>1.483186</td>\n",
       "    </tr>\n",
       "    <tr>\n",
       "      <th>3602</th>\n",
       "      <td>582</td>\n",
       "      <td>134</td>\n",
       "      <td>Sonic Outlaws (1995)</td>\n",
       "      <td>Documentary</td>\n",
       "      <td>0</td>\n",
       "      <td>17</td>\n",
       "      <td>4</td>\n",
       "      <td>2.966291</td>\n",
       "      <td>0.000000</td>\n",
       "      <td>1.483145</td>\n",
       "    </tr>\n",
       "    <tr>\n",
       "      <th>3415</th>\n",
       "      <td>582</td>\n",
       "      <td>3303</td>\n",
       "      <td>Black Tar Heroin: The Dark End of the Street (...</td>\n",
       "      <td>Documentary</td>\n",
       "      <td>0</td>\n",
       "      <td>17</td>\n",
       "      <td>4</td>\n",
       "      <td>2.961620</td>\n",
       "      <td>0.000000</td>\n",
       "      <td>1.480810</td>\n",
       "    </tr>\n",
       "    <tr>\n",
       "      <th>3627</th>\n",
       "      <td>582</td>\n",
       "      <td>2909</td>\n",
       "      <td>Five Wives, Three Secretaries and Me (1998)</td>\n",
       "      <td>Documentary</td>\n",
       "      <td>0</td>\n",
       "      <td>17</td>\n",
       "      <td>4</td>\n",
       "      <td>2.957237</td>\n",
       "      <td>0.000000</td>\n",
       "      <td>1.478619</td>\n",
       "    </tr>\n",
       "  </tbody>\n",
       "</table>\n",
       "<p>3628 rows × 10 columns</p>\n",
       "</div>"
      ],
      "text/plain": [
       "      UserID  MovieID                                              Title  \\\n",
       "469      582     2324         Life Is Beautiful (La Vita è bella) (1997)   \n",
       "156      582     1968                         Breakfast Club, The (1985)   \n",
       "120      582     2571                                 Matrix, The (1999)   \n",
       "661      582     2431                                 Patch Adams (1998)   \n",
       "2162     582     2861                        For Love of the Game (1999)   \n",
       "...      ...      ...                                                ...   \n",
       "3513     582     3297                 With Byrd at the South Pole (1930)   \n",
       "3439     582     1145                                  Snowriders (1996)   \n",
       "3602     582      134                               Sonic Outlaws (1995)   \n",
       "3415     582     3303  Black Tar Heroin: The Dark End of the Street (...   \n",
       "3627     582     2909        Five Wives, Three Secretaries and Me (1998)   \n",
       "\n",
       "                      Genres  Gender  Age  Occupation    Rating     Score  \\\n",
       "469             Comedy|Drama       0   17           4  4.639856  3.506560   \n",
       "156             Comedy|Drama       0   17           4  4.526640  3.506560   \n",
       "120   Action|Sci-Fi|Thriller       0   17           4  4.820176  3.097833   \n",
       "661             Comedy|Drama       0   17           4  4.377867  3.506560   \n",
       "2162            Comedy|Drama       0   17           4  4.350286  3.506560   \n",
       "...                      ...     ...  ...         ...       ...       ...   \n",
       "3513             Documentary       0   17           4  2.971081  0.000000   \n",
       "3439             Documentary       0   17           4  2.966372  0.000000   \n",
       "3602             Documentary       0   17           4  2.966291  0.000000   \n",
       "3415             Documentary       0   17           4  2.961620  0.000000   \n",
       "3627             Documentary       0   17           4  2.957237  0.000000   \n",
       "\n",
       "      Ensemble_Rating  \n",
       "469          4.073208  \n",
       "156          4.016600  \n",
       "120          3.959005  \n",
       "661          3.942214  \n",
       "2162         3.928423  \n",
       "...               ...  \n",
       "3513         1.485541  \n",
       "3439         1.483186  \n",
       "3602         1.483145  \n",
       "3415         1.480810  \n",
       "3627         1.478619  \n",
       "\n",
       "[3628 rows x 10 columns]"
      ]
     },
     "execution_count": 14,
     "metadata": {},
     "output_type": "execute_result"
    }
   ],
   "source": [
    "hybrid_recommendations.sort_values(by='Ensemble_Rating', ascending=False)"
   ]
  },
  {
   "cell_type": "code",
   "execution_count": 15,
   "metadata": {},
   "outputs": [],
   "source": [
    "genres_list = list(data[(data['UserID'] == user_id) &\n",
    "                   (data['Rating'] > 4)]['Genres'].values)"
   ]
  },
  {
   "cell_type": "code",
   "execution_count": 16,
   "metadata": {},
   "outputs": [],
   "source": [
    "genres = [gen.split('|') for gen in genres_list]\n",
    "genres = [i for gen in genres for i in gen]"
   ]
  },
  {
   "cell_type": "code",
   "execution_count": 17,
   "metadata": {},
   "outputs": [],
   "source": [
    "from collections import Counter"
   ]
  },
  {
   "cell_type": "code",
   "execution_count": 18,
   "metadata": {},
   "outputs": [],
   "source": [
    "counts = Counter(genres)"
   ]
  },
  {
   "cell_type": "code",
   "execution_count": 19,
   "metadata": {},
   "outputs": [
    {
     "data": {
      "text/plain": [
       "Counter({'Drama': 17,\n",
       "         'Comedy': 12,\n",
       "         'Thriller': 11,\n",
       "         'Action': 9,\n",
       "         'Sci-Fi': 8,\n",
       "         'Adventure': 4,\n",
       "         'Animation': 2,\n",
       "         \"Children's\": 2,\n",
       "         'Horror': 2,\n",
       "         'Romance': 2,\n",
       "         'Crime': 2,\n",
       "         'War': 2,\n",
       "         'Film-Noir': 1,\n",
       "         'Fantasy': 1,\n",
       "         'Western': 1,\n",
       "         'Musical': 1})"
      ]
     },
     "execution_count": 19,
     "metadata": {},
     "output_type": "execute_result"
    }
   ],
   "source": [
    "counts"
   ]
  },
  {
   "cell_type": "code",
   "execution_count": 91,
   "metadata": {},
   "outputs": [],
   "source": [
    "cbf = CBF()\n",
    "\n",
    "\n",
    "def get_for_all_movies(ncf_cnn_model, cbf, data,\n",
    "                       user_to_idx, idx_to_movie, device, path='data/movies_grouplens/users.dat'):\n",
    "\n",
    "    user_data = pd.read_csv(path,\n",
    "                            delimiter='::', header=None, engine='python', encoding='latin1')\n",
    "\n",
    "    user_data.columns = ['UserID', 'Gender', 'Age', 'Occupation', 'Zip-code']\n",
    "\n",
    "    user_data['Gender'] = user_data['Gender'].map({'M': 0, 'F': 1})\n",
    "    user_data['Age'] = user_data['Age'] - user_data['Age'].min()\n",
    "    user_data['Occupation'] = user_data['Occupation'] - \\\n",
    "        user_data['Occupation'].min()\n",
    "\n",
    "    all_users = random.sample(range(1, 6041), 100)\n",
    "    all_movies = list(\n",
    "        range(data['Movie_idx'].min(), data['Movie_idx'].max() + 1))\n",
    "\n",
    "    all_ratings = {}\n",
    "    import time\n",
    "    st = time.time()\n",
    "    for user in all_users:\n",
    "        user_idx = user_to_idx[user]\n",
    "        ud = user_data[(user_data['UserID'] == user)].values\n",
    "        gender, age, occupation = ud[0][1:4]\n",
    "        cbf_recommendations = cbf.cbf_recommend_movies(user)\n",
    "        list_ratings = []\n",
    "        for movie in all_movies:\n",
    "            movie_features = ['Title', 'Genres']\n",
    "            title, genres = data.iloc[data[data['Movie_idx']\n",
    "                                           == movie].index[0]][movie_features]\n",
    "            rating = ncf_cnn_model(torch.tensor([user_idx]).to(device), torch.tensor([movie]).to(device), torch.tensor(\n",
    "                [gender]).to(device), torch.tensor([age]).to(device), torch.tensor([occupation]).to(device))\n",
    "            list_ratings.append([user, idx_to_movie\n",
    "                                 [movie], title,\n",
    "                                 genres, gender, age, occupation, rating.item()])\n",
    "        column_names = ['UserID', 'MovieID', 'Title',\n",
    "                        'Genres', 'Gender', 'Age', 'Occupation', 'Rating']\n",
    "\n",
    "        cf_recommendations = pd.DataFrame(list_ratings, columns=column_names)\n",
    "        hybrid_recommendations = cf_recommendations.merge(\n",
    "            cbf_recommendations, on=['MovieID', 'Title', 'Genres'])\n",
    "        hybrid_recommendations['Ensemble_Rating'] = 0.5 * \\\n",
    "            hybrid_recommendations['Rating'] + \\\n",
    "            0.5*hybrid_recommendations['Score']\n",
    "        # hybrid_recommendations.sort_values(\n",
    "        #     by='Ensemble_Rating', ascending=False)\n",
    "        all_ratings[user] = hybrid_recommendations.sort_values(\n",
    "            by='Ensemble_Rating', ascending=False)\n",
    "        print((len(all_ratings.keys()) / 100)*100)\n",
    "    return all_ratings"
   ]
  },
  {
   "cell_type": "code",
   "execution_count": 92,
   "metadata": {},
   "outputs": [
    {
     "name": "stdout",
     "output_type": "stream",
     "text": [
      "1.0\n",
      "2.0\n",
      "3.0\n",
      "4.0\n",
      "5.0\n",
      "6.0\n",
      "7.000000000000001\n",
      "8.0\n",
      "9.0\n",
      "10.0\n",
      "11.0\n",
      "12.0\n",
      "13.0\n",
      "14.000000000000002\n",
      "15.0\n",
      "16.0\n",
      "17.0\n",
      "18.0\n",
      "19.0\n",
      "20.0\n",
      "21.0\n",
      "22.0\n",
      "23.0\n",
      "24.0\n",
      "25.0\n",
      "26.0\n",
      "27.0\n",
      "28.000000000000004\n",
      "28.999999999999996\n",
      "30.0\n",
      "31.0\n",
      "32.0\n",
      "33.0\n",
      "34.0\n",
      "35.0\n",
      "36.0\n",
      "37.0\n",
      "38.0\n",
      "39.0\n",
      "40.0\n",
      "41.0\n",
      "42.0\n",
      "43.0\n",
      "44.0\n",
      "45.0\n",
      "46.0\n",
      "47.0\n",
      "48.0\n",
      "49.0\n",
      "50.0\n",
      "51.0\n",
      "52.0\n",
      "53.0\n",
      "54.0\n",
      "55.00000000000001\n",
      "56.00000000000001\n",
      "56.99999999999999\n",
      "57.99999999999999\n",
      "59.0\n",
      "60.0\n",
      "61.0\n",
      "62.0\n",
      "63.0\n",
      "64.0\n",
      "65.0\n",
      "66.0\n",
      "67.0\n",
      "68.0\n",
      "69.0\n",
      "70.0\n",
      "71.0\n",
      "72.0\n",
      "73.0\n",
      "74.0\n",
      "75.0\n",
      "76.0\n",
      "77.0\n",
      "78.0\n",
      "79.0\n",
      "80.0\n",
      "81.0\n",
      "82.0\n",
      "83.0\n",
      "84.0\n",
      "85.0\n",
      "86.0\n",
      "87.0\n",
      "88.0\n",
      "89.0\n",
      "90.0\n",
      "91.0\n",
      "92.0\n",
      "93.0\n",
      "94.0\n",
      "95.0\n",
      "96.0\n",
      "97.0\n",
      "98.0\n",
      "99.0\n",
      "100.0\n"
     ]
    }
   ],
   "source": [
    "test_ratings = get_for_all_movies(ncf_cnn_model, cbf, data,\n",
    "                                  user_to_idx, idx_to_movie, device)"
   ]
  },
  {
   "cell_type": "code",
   "execution_count": 94,
   "metadata": {},
   "outputs": [
    {
     "data": {
      "text/plain": [
       "array([ 719, 3792, 2053, 1265,  590,  597, 1411, 2071, 1416, 2082, 1440,\n",
       "       2247,  915, 2252, 1453,  780,  781, 1461, 2266, 2268, 2413, 1475,\n",
       "       2289, 1487, 2433, 1493, 3252, 3255, 3258, 3259, 3408, 1667, 3271,\n",
       "       3418, 1816, 1680, 2629, 1689, 1694, 3445,  230,  232,  249, 2668,\n",
       "       2671, 1876, 2828, 2683, 2686, 2688,  271,  276,  425, 1896,  437,\n",
       "        440, 3806, 3808, 3809, 3669,  454, 3812,  605,  608,  463,  471,\n",
       "        628,  485, 3845, 1306,  492, 1171, 1183, 3871, 3873, 1190,  813,\n",
       "       1358, 2302, 2303,  830, 1367,  840, 2324,  852, 1390, 1397, 2340,\n",
       "       1554, 1704, 2369, 1569, 2510, 1711, 1721, 1722,  110, 2529, 2384,\n",
       "       1584, 2396, 1597, 3343, 1758,  150,  151,  157,  300,  307,  308,\n",
       "       2724, 1784,  318,  339,  195,  199, 2757, 1018,   21,   25, 1027,\n",
       "        350,  356,   34,  357,   36, 3712, 2911, 1032,  360,  361,  508,\n",
       "        509,   48, 1041,  371,  377,  378,  380,  527,  529,  532,  537,\n",
       "        538,  539, 2012, 2015, 2953, 2023,   92, 3771, 1094,  708, 3780])"
      ]
     },
     "execution_count": 94,
     "metadata": {},
     "output_type": "execute_result"
    }
   ],
   "source": [
    "ud_rating = data[(data['Rating'] > 3) & (\n",
    "    data['UserID'] == 3328)]['MovieID'].values\n",
    "ud_rating"
   ]
  },
  {
   "cell_type": "code",
   "execution_count": 82,
   "metadata": {},
   "outputs": [
    {
     "name": "stdout",
     "output_type": "stream",
     "text": [
      "0.13333333333333333\n"
     ]
    }
   ],
   "source": [
    "relevant = 0\n",
    "k = 15\n",
    "\n",
    "for m in test_ratings[3328].head(k)['MovieID']:\n",
    "    if m in ud_rating:\n",
    "        relevant += 1\n",
    "\n",
    "print(relevant/k)"
   ]
  },
  {
   "cell_type": "code",
   "execution_count": 95,
   "metadata": {},
   "outputs": [],
   "source": [
    "def calculate_precision_at_k(test_ratings, data, ks=[1, 5, 10, 15, 20, 25, 30, 40, 50]):\n",
    "    precisions = []\n",
    "    for user_id in test_ratings.keys():\n",
    "        ud_rating = data[(data['Rating'] > 3) & (\n",
    "            data['UserID'] == user_id)]['MovieID'].values\n",
    "        prec = {}\n",
    "\n",
    "        for k in ks:\n",
    "            relevant = 0\n",
    "            for m in test_ratings[user_id].head(k)['MovieID']:\n",
    "                if m in ud_rating:\n",
    "                    relevant += 1\n",
    "\n",
    "            prec[k] = (relevant/k)\n",
    "\n",
    "        precisions.append(prec)\n",
    "\n",
    "    return precisions"
   ]
  },
  {
   "cell_type": "code",
   "execution_count": 96,
   "metadata": {},
   "outputs": [],
   "source": [
    "precisions = calculate_precision_at_k(test_ratings, data)"
   ]
  },
  {
   "cell_type": "code",
   "execution_count": 97,
   "metadata": {},
   "outputs": [],
   "source": [
    "ks = [1, 5, 10, 15, 20, 25, 30, 40, 50]\n",
    "avg_prec = {}\n",
    "n = len(test_ratings.keys())\n",
    "for k in ks:\n",
    "    total = 0\n",
    "    for e in precisions:\n",
    "        total += e[k]\n",
    "    avg_prec[k] = total/n"
   ]
  },
  {
   "cell_type": "code",
   "execution_count": 98,
   "metadata": {},
   "outputs": [
    {
     "data": {
      "text/plain": [
       "{1: 0.41,\n",
       " 5: 0.33399999999999985,\n",
       " 10: 0.32500000000000007,\n",
       " 15: 0.29399999999999976,\n",
       " 20: 0.27399999999999997,\n",
       " 25: 0.25559999999999994,\n",
       " 30: 0.24466666666666653,\n",
       " 40: 0.22275000000000006,\n",
       " 50: 0.20439999999999992}"
      ]
     },
     "execution_count": 98,
     "metadata": {},
     "output_type": "execute_result"
    }
   ],
   "source": [
    "avg_prec"
   ]
  },
  {
   "cell_type": "code",
   "execution_count": 99,
   "metadata": {},
   "outputs": [
    {
     "data": {
      "text/plain": [
       "[<matplotlib.lines.Line2D at 0x7f4b62f2ddf0>]"
      ]
     },
     "execution_count": 99,
     "metadata": {},
     "output_type": "execute_result"
    },
    {
     "data": {
      "image/png": "[encoded data removed]",
      "text/plain": [
       "<Figure size 640x480 with 1 Axes>"
      ]
     },
     "metadata": {},
     "output_type": "display_data"
    }
   ],
   "source": [
    "plt.plot(avg_prec.values())"
   ]
  }
 ],
 "metadata": {
  "kernelspec": {
   "display_name": ".venv",
   "language": "python",
   "name": "python3"
  },
  "language_info": {
   "codemirror_mode": {
    "name": "ipython",
    "version": 3
   },
   "file_extension": ".py",
   "mimetype": "text/x-python",
   "name": "python",
   "nbconvert_exporter": "python",
   "pygments_lexer": "ipython3",
   "version": "3.12.7"
  }
 },
 "nbformat": 4,
 "nbformat_minor": 2
}
