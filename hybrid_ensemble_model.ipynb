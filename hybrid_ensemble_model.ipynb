{
 "cells": [
  {
   "cell_type": "markdown",
   "metadata": {},
   "source": [
    "# Importing the Libraries"
   ]
  },
  {
   "cell_type": "code",
   "execution_count": 78,
   "metadata": {},
   "outputs": [],
   "source": [
    "import torch\n",
    "import random\n",
    "import pandas as pd\n",
    "import numpy as np\n",
    "import matplotlib.pyplot as plt"
   ]
  },
  {
   "cell_type": "markdown",
   "metadata": {},
   "source": [
    "# Defining a user for testing"
   ]
  },
  {
   "cell_type": "code",
   "execution_count": 79,
   "metadata": {},
   "outputs": [],
   "source": [
    "user_id = 582"
   ]
  },
  {
   "cell_type": "markdown",
   "metadata": {},
   "source": [
    "# Loading and Pre-processing"
   ]
  },
  {
   "cell_type": "code",
   "execution_count": 80,
   "metadata": {},
   "outputs": [],
   "source": [
    "def load_and_preprocess_data():\n",
    "    # Load data\n",
    "    movie_data = pd.read_csv('data/movies_grouplens/movies.dat',\n",
    "                             delimiter='::', header=None, engine='python', encoding='latin1')\n",
    "    rating_data = pd.read_csv('data/movies_grouplens/ratings.dat',\n",
    "                              delimiter='::', header=None, engine='python', encoding='latin1')\n",
    "    user_data = pd.read_csv('data/movies_grouplens/users.dat',\n",
    "                            delimiter='::', header=None, engine='python', encoding='latin1')\n",
    "\n",
    "    # Set column names\n",
    "    movie_data.columns = ['MovieID', 'Title', 'Genres']\n",
    "    rating_data.columns = ['UserID', 'MovieID', 'Rating', 'Timestamp']\n",
    "    user_data.columns = ['UserID', 'Gender', 'Age', 'Occupation', 'Zip-code']\n",
    "\n",
    "    # Merge datasets\n",
    "    df = pd.merge(rating_data, movie_data, on='MovieID', how='left')\n",
    "    df = pd.merge(df, user_data, on='UserID', how='left')\n",
    "\n",
    "    # Convert categorical variables\n",
    "    df['Gender'] = df['Gender'].map({'M': 0, 'F': 1})\n",
    "\n",
    "    # Create index mappings\n",
    "    users = df['UserID'].unique()\n",
    "    movies = df['MovieID'].unique()\n",
    "\n",
    "    user_to_idx = {user: idx for idx, user in enumerate(users)}\n",
    "    movie_to_idx = {movie: idx for idx, movie in enumerate(movies)}\n",
    "\n",
    "    # Add index columns\n",
    "    df['User_idx'] = df['UserID'].map(user_to_idx)\n",
    "    df['Movie_idx'] = df['MovieID'].map(movie_to_idx)\n",
    "\n",
    "    # Normalize age and occupation values to start from 0\n",
    "    df['Age'] = df['Age'] - df['Age'].min()\n",
    "    df['Occupation'] = df['Occupation'] - df['Occupation'].min()\n",
    "\n",
    "    return df, user_to_idx, movie_to_idx"
   ]
  },
  {
   "cell_type": "markdown",
   "metadata": {},
   "source": [
    "### Defining the device"
   ]
  },
  {
   "cell_type": "code",
   "execution_count": 81,
   "metadata": {},
   "outputs": [],
   "source": [
    "device = torch.device('mps' if torch.backends.mps.is_available() else 'cpu')\n",
    "device = torch.device('cuda') if torch.cuda.is_available() else device"
   ]
  },
  {
   "cell_type": "markdown",
   "metadata": {},
   "source": [
    "### Loading the Model"
   ]
  },
  {
   "cell_type": "code",
   "execution_count": 82,
   "metadata": {},
   "outputs": [],
   "source": [
    "ncf_cnn_model = torch.jit.load(\n",
    "    'models/NCF_CNN_Enchanced_more_epoch.pt', map_location=device)"
   ]
  },
  {
   "cell_type": "code",
   "execution_count": 83,
   "metadata": {},
   "outputs": [],
   "source": [
    "data, user_to_idx, movie_to_idx = load_and_preprocess_data()\n",
    "idx_to_movie = {v: k for k, v in movie_to_idx.items()}\n",
    "idx_to_user = {v: k for k, v in user_to_idx.items()}"
   ]
  },
  {
   "cell_type": "markdown",
   "metadata": {},
   "source": [
    "# Generating Recommendations"
   ]
  },
  {
   "cell_type": "code",
   "execution_count": 84,
   "metadata": {},
   "outputs": [],
   "source": [
    "def get_recommendations(user_id, model, data, user_to_idx, idx_to_movie, device, path='data/movies_grouplens/users.dat'):\n",
    "    user_data = pd.read_csv(path,\n",
    "                            delimiter='::', header=None, engine='python', encoding='latin1')\n",
    "\n",
    "    user_data.columns = ['UserID', 'Gender', 'Age', 'Occupation', 'Zip-code']\n",
    "    user_idx = user_to_idx[user_id]\n",
    "\n",
    "    user_data['Gender'] = user_data['Gender'].map({'M': 0, 'F': 1})\n",
    "    user_data['Age'] = user_data['Age'] - user_data['Age'].min()\n",
    "    user_data['Occupation'] = user_data['Occupation'] - \\\n",
    "        user_data['Occupation'].min()\n",
    "\n",
    "    ud = user_data[(user_data['UserID'] == user_id)].values\n",
    "    not_watched = []\n",
    "    list_ratings = []\n",
    "\n",
    "    movie_idxs = np.arange(data['Movie_idx'].min(),\n",
    "                           data['Movie_idx'].max()+1, 1)\n",
    "\n",
    "    for movie in movie_idxs:\n",
    "        if (not len(data[(data['User_idx'] == user_idx) & (data['Movie_idx'] == movie)]['Movie_idx'].to_list())):\n",
    "            not_watched.append(movie)\n",
    "        # else:\n",
    "        #     print(f'Already Wacthed {movie}')\n",
    "\n",
    "    for movie in not_watched:\n",
    "        movie_features = ['Title', 'Genres']\n",
    "        title, genres = data.iloc[data[data['Movie_idx']\n",
    "                                       == movie].index[0]][movie_features]\n",
    "        gender, age, occupation = ud[0][1:4]\n",
    "        # print(gender, age, occupation)\n",
    "        rating = model(torch.tensor([user_idx]).to(device), torch.tensor([movie]).to(device), torch.tensor(\n",
    "            [gender]).to(device), torch.tensor([age]).to(device), torch.tensor([occupation]).to(device))\n",
    "\n",
    "        list_ratings.append([user_id, idx_to_movie\n",
    "                             [movie], title,\n",
    "                            genres, gender, age, occupation, rating.item()])\n",
    "\n",
    "\n",
    "# Define the column names\n",
    "    column_names = ['UserID', 'MovieID', 'Title',\n",
    "                    'Genres', 'Gender', 'Age', 'Occupation', 'Rating']\n",
    "\n",
    "    # Create a DataFrame\n",
    "    df_list = pd.DataFrame(list_ratings, columns=column_names)\n",
    "    return df_list"
   ]
  },
  {
   "cell_type": "markdown",
   "metadata": {},
   "source": [
    "## CF"
   ]
  },
  {
   "cell_type": "code",
   "execution_count": 85,
   "metadata": {},
   "outputs": [],
   "source": [
    "cf_recommendations = get_recommendations(user_id, ncf_cnn_model, data,\n",
    "                                         user_to_idx, idx_to_movie, device)"
   ]
  },
  {
   "cell_type": "markdown",
   "metadata": {},
   "source": [
    "## CBF\n"
   ]
  },
  {
   "cell_type": "code",
   "execution_count": 86,
   "metadata": {},
   "outputs": [],
   "source": [
    "from src.modules.CBF import CBF\n",
    "cbf = CBF()"
   ]
  },
  {
   "cell_type": "code",
   "execution_count": 87,
   "metadata": {},
   "outputs": [],
   "source": [
    "cbf_recommendations = cbf.cbf_recommend_movies(user_id)"
   ]
  },
  {
   "cell_type": "markdown",
   "metadata": {},
   "source": [
    "## Generating Hybrid Recommendations"
   ]
  },
  {
   "cell_type": "code",
   "execution_count": 88,
   "metadata": {},
   "outputs": [],
   "source": [
    "hybrid_recommendations = cf_recommendations.merge(\n",
    "    cbf_recommendations, on=['MovieID', 'Title', 'Genres'])"
   ]
  },
  {
   "cell_type": "code",
   "execution_count": 89,
   "metadata": {},
   "outputs": [],
   "source": [
    "hybrid_recommendations['Ensemble_Rating'] = 0.9 * \\\n",
    "    hybrid_recommendations['Rating'] + 0.1*hybrid_recommendations['Score']"
   ]
  },
  {
   "cell_type": "code",
   "execution_count": 90,
   "metadata": {},
   "outputs": [
    {
     "data": {
      "text/html": [
       "<div>\n",
       "<style scoped>\n",
       "    .dataframe tbody tr th:only-of-type {\n",
       "        vertical-align: middle;\n",
       "    }\n",
       "\n",
       "    .dataframe tbody tr th {\n",
       "        vertical-align: top;\n",
       "    }\n",
       "\n",
       "    .dataframe thead th {\n",
       "        text-align: right;\n",
       "    }\n",
       "</style>\n",
       "<table border=\"1\" class=\"dataframe\">\n",
       "  <thead>\n",
       "    <tr style=\"text-align: right;\">\n",
       "      <th></th>\n",
       "      <th>UserID</th>\n",
       "      <th>MovieID</th>\n",
       "      <th>Title</th>\n",
       "      <th>Genres</th>\n",
       "      <th>Gender</th>\n",
       "      <th>Age</th>\n",
       "      <th>Occupation</th>\n",
       "      <th>Rating</th>\n",
       "      <th>Score</th>\n",
       "      <th>Ensemble_Rating</th>\n",
       "    </tr>\n",
       "  </thead>\n",
       "  <tbody>\n",
       "    <tr>\n",
       "      <th>120</th>\n",
       "      <td>582</td>\n",
       "      <td>2571</td>\n",
       "      <td>Matrix, The (1999)</td>\n",
       "      <td>Action|Sci-Fi|Thriller</td>\n",
       "      <td>0</td>\n",
       "      <td>17</td>\n",
       "      <td>4</td>\n",
       "      <td>4.867780</td>\n",
       "      <td>3.097833</td>\n",
       "      <td>4.690785</td>\n",
       "    </tr>\n",
       "    <tr>\n",
       "      <th>155</th>\n",
       "      <td>582</td>\n",
       "      <td>318</td>\n",
       "      <td>Shawshank Redemption, The (1994)</td>\n",
       "      <td>Drama</td>\n",
       "      <td>0</td>\n",
       "      <td>17</td>\n",
       "      <td>4</td>\n",
       "      <td>4.864639</td>\n",
       "      <td>2.168978</td>\n",
       "      <td>4.595073</td>\n",
       "    </tr>\n",
       "    <tr>\n",
       "      <th>76</th>\n",
       "      <td>582</td>\n",
       "      <td>3147</td>\n",
       "      <td>Green Mile, The (1999)</td>\n",
       "      <td>Drama|Thriller</td>\n",
       "      <td>0</td>\n",
       "      <td>17</td>\n",
       "      <td>4</td>\n",
       "      <td>4.743875</td>\n",
       "      <td>3.137508</td>\n",
       "      <td>4.583238</td>\n",
       "    </tr>\n",
       "    <tr>\n",
       "      <th>83</th>\n",
       "      <td>582</td>\n",
       "      <td>110</td>\n",
       "      <td>Braveheart (1995)</td>\n",
       "      <td>Action|Drama|War</td>\n",
       "      <td>0</td>\n",
       "      <td>17</td>\n",
       "      <td>4</td>\n",
       "      <td>4.895135</td>\n",
       "      <td>1.587770</td>\n",
       "      <td>4.564398</td>\n",
       "    </tr>\n",
       "    <tr>\n",
       "      <th>148</th>\n",
       "      <td>582</td>\n",
       "      <td>780</td>\n",
       "      <td>Independence Day (ID4) (1996)</td>\n",
       "      <td>Action|Sci-Fi|War</td>\n",
       "      <td>0</td>\n",
       "      <td>17</td>\n",
       "      <td>4</td>\n",
       "      <td>4.848354</td>\n",
       "      <td>1.970547</td>\n",
       "      <td>4.560574</td>\n",
       "    </tr>\n",
       "    <tr>\n",
       "      <th>...</th>\n",
       "      <td>...</td>\n",
       "      <td>...</td>\n",
       "      <td>...</td>\n",
       "      <td>...</td>\n",
       "      <td>...</td>\n",
       "      <td>...</td>\n",
       "      <td>...</td>\n",
       "      <td>...</td>\n",
       "      <td>...</td>\n",
       "      <td>...</td>\n",
       "    </tr>\n",
       "    <tr>\n",
       "      <th>2222</th>\n",
       "      <td>582</td>\n",
       "      <td>3837</td>\n",
       "      <td>Phantasm II (1988)</td>\n",
       "      <td>Horror</td>\n",
       "      <td>0</td>\n",
       "      <td>17</td>\n",
       "      <td>4</td>\n",
       "      <td>2.793230</td>\n",
       "      <td>0.841308</td>\n",
       "      <td>2.598038</td>\n",
       "    </tr>\n",
       "    <tr>\n",
       "      <th>2124</th>\n",
       "      <td>582</td>\n",
       "      <td>181</td>\n",
       "      <td>Mighty Morphin Power Rangers: The Movie (1995)</td>\n",
       "      <td>Action|Children's</td>\n",
       "      <td>0</td>\n",
       "      <td>17</td>\n",
       "      <td>4</td>\n",
       "      <td>2.760911</td>\n",
       "      <td>1.050032</td>\n",
       "      <td>2.589823</td>\n",
       "    </tr>\n",
       "    <tr>\n",
       "      <th>1755</th>\n",
       "      <td>582</td>\n",
       "      <td>829</td>\n",
       "      <td>Joe's Apartment (1996)</td>\n",
       "      <td>Comedy|Musical</td>\n",
       "      <td>0</td>\n",
       "      <td>17</td>\n",
       "      <td>4</td>\n",
       "      <td>2.706766</td>\n",
       "      <td>1.333718</td>\n",
       "      <td>2.569461</td>\n",
       "    </tr>\n",
       "    <tr>\n",
       "      <th>2289</th>\n",
       "      <td>582</td>\n",
       "      <td>2525</td>\n",
       "      <td>Alligator (1980)</td>\n",
       "      <td>Action|Horror|Sci-Fi</td>\n",
       "      <td>0</td>\n",
       "      <td>17</td>\n",
       "      <td>4</td>\n",
       "      <td>2.551721</td>\n",
       "      <td>2.394043</td>\n",
       "      <td>2.535954</td>\n",
       "    </tr>\n",
       "    <tr>\n",
       "      <th>2195</th>\n",
       "      <td>582</td>\n",
       "      <td>810</td>\n",
       "      <td>Kazaam (1996)</td>\n",
       "      <td>Children's|Comedy|Fantasy</td>\n",
       "      <td>0</td>\n",
       "      <td>17</td>\n",
       "      <td>4</td>\n",
       "      <td>2.595944</td>\n",
       "      <td>1.150770</td>\n",
       "      <td>2.451427</td>\n",
       "    </tr>\n",
       "  </tbody>\n",
       "</table>\n",
       "<p>3628 rows × 10 columns</p>\n",
       "</div>"
      ],
      "text/plain": [
       "      UserID  MovieID                                           Title  \\\n",
       "120      582     2571                              Matrix, The (1999)   \n",
       "155      582      318                Shawshank Redemption, The (1994)   \n",
       "76       582     3147                          Green Mile, The (1999)   \n",
       "83       582      110                               Braveheart (1995)   \n",
       "148      582      780                   Independence Day (ID4) (1996)   \n",
       "...      ...      ...                                             ...   \n",
       "2222     582     3837                              Phantasm II (1988)   \n",
       "2124     582      181  Mighty Morphin Power Rangers: The Movie (1995)   \n",
       "1755     582      829                          Joe's Apartment (1996)   \n",
       "2289     582     2525                                Alligator (1980)   \n",
       "2195     582      810                                   Kazaam (1996)   \n",
       "\n",
       "                         Genres  Gender  Age  Occupation    Rating     Score  \\\n",
       "120      Action|Sci-Fi|Thriller       0   17           4  4.867780  3.097833   \n",
       "155                       Drama       0   17           4  4.864639  2.168978   \n",
       "76               Drama|Thriller       0   17           4  4.743875  3.137508   \n",
       "83             Action|Drama|War       0   17           4  4.895135  1.587770   \n",
       "148           Action|Sci-Fi|War       0   17           4  4.848354  1.970547   \n",
       "...                         ...     ...  ...         ...       ...       ...   \n",
       "2222                     Horror       0   17           4  2.793230  0.841308   \n",
       "2124          Action|Children's       0   17           4  2.760911  1.050032   \n",
       "1755             Comedy|Musical       0   17           4  2.706766  1.333718   \n",
       "2289       Action|Horror|Sci-Fi       0   17           4  2.551721  2.394043   \n",
       "2195  Children's|Comedy|Fantasy       0   17           4  2.595944  1.150770   \n",
       "\n",
       "      Ensemble_Rating  \n",
       "120          4.690785  \n",
       "155          4.595073  \n",
       "76           4.583238  \n",
       "83           4.564398  \n",
       "148          4.560574  \n",
       "...               ...  \n",
       "2222         2.598038  \n",
       "2124         2.589823  \n",
       "1755         2.569461  \n",
       "2289         2.535954  \n",
       "2195         2.451427  \n",
       "\n",
       "[3628 rows x 10 columns]"
      ]
     },
     "execution_count": 90,
     "metadata": {},
     "output_type": "execute_result"
    }
   ],
   "source": [
    "hybrid_recommendations.sort_values(by='Ensemble_Rating', ascending=False)"
   ]
  },
  {
   "cell_type": "code",
   "execution_count": 91,
   "metadata": {},
   "outputs": [
    {
     "data": {
      "text/plain": [
       "array([2987, 2050, 3793, 3798, 3005, 1270, 2093, 3081, 2428, 3409, 3273,\n",
       "       2478, 2490, 2491, 2806, 3617, 3471, 2672, 2676, 3623, 2826, 2683,\n",
       "       2694, 2840, 2841, 2858, 1127, 3826, 2888, 3857, 3863, 1193, 2169,\n",
       "       3113, 3114, 1513, 3155, 2355, 3300, 2502, 3174, 3175, 3177, 2541,\n",
       "       3354, 2700, 2701, 2702, 2706, 2707, 2710, 2713, 1911, 2716, 2719,\n",
       "       2722, 2723, 2581, 2734, 2599,   24, 2762, 1961,   36, 3717, 2772,\n",
       "       3578,   42, 3593,   69, 1210, 3752, 3753, 2959,   86, 2976, 1093,\n",
       "       1246])"
      ]
     },
     "execution_count": 91,
     "metadata": {},
     "output_type": "execute_result"
    }
   ],
   "source": [
    "watched_list = data[(data['UserID'] == user_id)]['MovieID'].values\n",
    "watched_list"
   ]
  },
  {
   "cell_type": "markdown",
   "metadata": {},
   "source": [
    "## Ablation Study"
   ]
  },
  {
   "cell_type": "code",
   "execution_count": 92,
   "metadata": {},
   "outputs": [
    {
     "name": "stdout",
     "output_type": "stream",
     "text": [
      "The average RMSE at CF 0.0 and CBF at 1.0 is: 1.6551545878134617\n",
      "The average RMSE at CF 0.1 and CBF at 0.9 is: 1.526250861068207\n",
      "The average RMSE at CF 0.2 and CBF at 0.8 is: 1.407184724483647\n",
      "The average RMSE at CF 0.3 and CBF at 0.7 is: 1.2994061185368122\n",
      "The average RMSE at CF 0.4 and CBF at 0.6 is: 1.2028644635133918\n",
      "The average RMSE at CF 0.5 and CBF at 0.5 is: 1.1207184373895223\n",
      "The average RMSE at CF 0.6 and CBF at 0.4 is: 1.0552551501940701\n",
      "The average RMSE at CF 0.7 and CBF at 0.3 is: 1.0073462359285363\n",
      "The average RMSE at CF 0.8 and CBF at 0.2 is: 0.9808892192950792\n",
      "The average RMSE at CF 0.9 and CBF at 0.1 is: 0.9739669588081202\n",
      "The average RMSE at CF 1.0 and CBF at 0.0 is: 0.9910498802296513\n"
     ]
    }
   ],
   "source": [
    "\n",
    "for i in range(0, 11):\n",
    "    avg_rmse = 0\n",
    "    rmse = []\n",
    "    hybrid_recommendations['Ensemble_Rating'] = (0.1 * i) * \\\n",
    "        hybrid_recommendations['Rating'] + \\\n",
    "        (1 - (0.1*i))*hybrid_recommendations['Score']\n",
    "    for movie_id in hybrid_recommendations['MovieID'].values:\n",
    "\n",
    "        rat = hybrid_recommendations[hybrid_recommendations['MovieID']\n",
    "                                     == movie_id]['Ensemble_Rating'].values[0]\n",
    "        or_rat = data[data['MovieID'] == movie_id]['Rating'].values[0]\n",
    "\n",
    "        rmse.append(np.sqrt((or_rat-rat)**2))\n",
    "\n",
    "    avg_rmse = np.mean(rmse)\n",
    "    print(f'The average RMSE at CF {\n",
    "          round(0.1 * i, 1)} and CBF at {round(1 - (0.1*i), 1)} is: {avg_rmse}')"
   ]
  },
  {
   "cell_type": "markdown",
   "metadata": {},
   "source": [
    "## Results of the Ablation Study:\n",
    "The above study shows the importance of both the componenets, as can be seen there are 3 general cases, which can be made:\n",
    "- **Case 1**:\n",
    "    -   When the Collborative Filtering component is zero and Content Based Filtering is the only one working (CF: 0.0 and CBF: 1.0)\n",
    "- **Case 2**:\n",
    "    -   When the Collborative Filtering component is zero and Content Based Filtering is the only one working (CF: 1.0 and CBF: 0.0)\n",
    "- **Case 3**:\n",
    "    -   When the Collborative Filtering component is non-zero and Content Based Filtering is also non-zero (CF: 0.9 and CBF: 0.1)\n",
    "\n",
    "It can be infered from the above conclusion that the hybrid recommendation system performs better than the indiviual components, and the best combination for the user with UID: 582 is {CF: 0.9 and CBF: 0.1}."
   ]
  },
  {
   "cell_type": "code",
   "execution_count": 93,
   "metadata": {},
   "outputs": [
    {
     "data": {
      "text/plain": [
       "0        661\n",
       "1        914\n",
       "2       3408\n",
       "3       1197\n",
       "4       1287\n",
       "        ... \n",
       "3623    2198\n",
       "3624    2703\n",
       "3625    2845\n",
       "3626    3607\n",
       "3627    2909\n",
       "Name: MovieID, Length: 3628, dtype: int64"
      ]
     },
     "execution_count": 93,
     "metadata": {},
     "output_type": "execute_result"
    }
   ],
   "source": [
    "hybrid_recommendations['MovieID']"
   ]
  },
  {
   "cell_type": "markdown",
   "metadata": {},
   "source": [
    "## Precision Calculations"
   ]
  },
  {
   "cell_type": "code",
   "execution_count": 100,
   "metadata": {},
   "outputs": [],
   "source": [
    "cbf = CBF()\n",
    "\n",
    "\n",
    "def get_for_all_movies(ncf_cnn_model, cbf, data,\n",
    "                       user_to_idx, idx_to_movie, device, path='data/movies_grouplens/users.dat'):\n",
    "\n",
    "    user_data = pd.read_csv(path,\n",
    "                            delimiter='::', header=None, engine='python', encoding='latin1')\n",
    "\n",
    "    user_data.columns = ['UserID', 'Gender', 'Age', 'Occupation', 'Zip-code']\n",
    "\n",
    "    user_data['Gender'] = user_data['Gender'].map({'M': 0, 'F': 1})\n",
    "    user_data['Age'] = user_data['Age'] - user_data['Age'].min()\n",
    "    user_data['Occupation'] = user_data['Occupation'] - \\\n",
    "        user_data['Occupation'].min()\n",
    "\n",
    "    all_users = random.sample(range(1, 6041), 100)\n",
    "    all_movies = list(\n",
    "        range(data['Movie_idx'].min(), data['Movie_idx'].max() + 1))\n",
    "\n",
    "    all_ratings = {}\n",
    "    import time\n",
    "    st = time.time()\n",
    "    for user in all_users:\n",
    "        user_idx = user_to_idx[user]\n",
    "        ud = user_data[(user_data['UserID'] == user)].values\n",
    "        gender, age, occupation = ud[0][1:4]\n",
    "        cbf_recommendations = cbf.cbf_recommend_movies(user)\n",
    "        list_ratings = []\n",
    "        for movie in all_movies:\n",
    "            movie_features = ['Title', 'Genres']\n",
    "            title, genres = data.iloc[data[data['Movie_idx']\n",
    "                                           == movie].index[0]][movie_features]\n",
    "            rating = ncf_cnn_model(torch.tensor([user_idx]).to(device), torch.tensor([movie]).to(device), torch.tensor(\n",
    "                [gender]).to(device), torch.tensor([age]).to(device), torch.tensor([occupation]).to(device))\n",
    "            list_ratings.append([user, idx_to_movie\n",
    "                                 [movie], title,\n",
    "                                 genres, gender, age, occupation, rating.item()])\n",
    "        column_names = ['UserID', 'MovieID', 'Title',\n",
    "                        'Genres', 'Gender', 'Age', 'Occupation', 'Rating']\n",
    "\n",
    "        cf_recommendations = pd.DataFrame(list_ratings, columns=column_names)\n",
    "        hybrid_recommendations = cf_recommendations.merge(\n",
    "            cbf_recommendations, on=['MovieID', 'Title', 'Genres'])\n",
    "        hybrid_recommendations['Ensemble_Rating'] = 0.5 * \\\n",
    "            hybrid_recommendations['Rating'] + \\\n",
    "            0.5*hybrid_recommendations['Score']\n",
    "        # hybrid_recommendations.sort_values(\n",
    "        #     by='Ensemble_Rating', ascending=False)\n",
    "        all_ratings[user] = hybrid_recommendations.sort_values(\n",
    "            by='Ensemble_Rating', ascending=False)\n",
    "        print(round((len(all_ratings.keys()) / 100)*100, 1), '%')\n",
    "    return all_ratings"
   ]
  },
  {
   "cell_type": "code",
   "execution_count": 102,
   "metadata": {},
   "outputs": [
    {
     "name": "stdout",
     "output_type": "stream",
     "text": [
      "Precision Calculation Progress ->\n",
      "1.0 %\n",
      "2.0 %\n",
      "3.0 %\n",
      "4.0 %\n",
      "5.0 %\n",
      "6.0 %\n",
      "7.0 %\n",
      "8.0 %\n",
      "9.0 %\n",
      "10.0 %\n",
      "11.0 %\n",
      "12.0 %\n",
      "13.0 %\n",
      "14.0 %\n",
      "15.0 %\n",
      "16.0 %\n",
      "17.0 %\n",
      "18.0 %\n",
      "19.0 %\n",
      "20.0 %\n",
      "21.0 %\n",
      "22.0 %\n",
      "23.0 %\n",
      "24.0 %\n",
      "25.0 %\n",
      "26.0 %\n",
      "27.0 %\n",
      "28.0 %\n",
      "29.0 %\n",
      "30.0 %\n",
      "31.0 %\n",
      "32.0 %\n",
      "33.0 %\n",
      "34.0 %\n",
      "35.0 %\n",
      "36.0 %\n",
      "37.0 %\n",
      "38.0 %\n",
      "39.0 %\n",
      "40.0 %\n",
      "41.0 %\n",
      "42.0 %\n",
      "43.0 %\n",
      "44.0 %\n",
      "45.0 %\n",
      "46.0 %\n",
      "47.0 %\n",
      "48.0 %\n",
      "49.0 %\n",
      "50.0 %\n",
      "51.0 %\n",
      "52.0 %\n",
      "53.0 %\n",
      "54.0 %\n",
      "55.0 %\n",
      "56.0 %\n",
      "57.0 %\n",
      "58.0 %\n",
      "59.0 %\n",
      "60.0 %\n",
      "61.0 %\n",
      "62.0 %\n",
      "63.0 %\n",
      "64.0 %\n",
      "65.0 %\n",
      "66.0 %\n",
      "67.0 %\n",
      "68.0 %\n",
      "69.0 %\n",
      "70.0 %\n",
      "71.0 %\n",
      "72.0 %\n",
      "73.0 %\n",
      "74.0 %\n",
      "75.0 %\n",
      "76.0 %\n",
      "77.0 %\n",
      "78.0 %\n",
      "79.0 %\n",
      "80.0 %\n",
      "81.0 %\n",
      "82.0 %\n",
      "83.0 %\n",
      "84.0 %\n",
      "85.0 %\n",
      "86.0 %\n",
      "87.0 %\n",
      "88.0 %\n",
      "89.0 %\n",
      "90.0 %\n",
      "91.0 %\n",
      "92.0 %\n",
      "93.0 %\n",
      "94.0 %\n",
      "95.0 %\n",
      "96.0 %\n",
      "97.0 %\n",
      "98.0 %\n",
      "99.0 %\n",
      "100.0 %\n"
     ]
    }
   ],
   "source": [
    "print('Precision Calculation Progress ->')\n",
    "test_ratings = get_for_all_movies(ncf_cnn_model, cbf, data,\n",
    "                                  user_to_idx, idx_to_movie, device)"
   ]
  },
  {
   "cell_type": "code",
   "execution_count": 103,
   "metadata": {},
   "outputs": [],
   "source": [
    "def calculate_precision_at_k(test_ratings, data, ks=[1, 5, 10, 15, 20, 25, 30, 40, 50]):\n",
    "    precisions = []\n",
    "    for user_id in test_ratings.keys():\n",
    "        ud_rating = data[(data['Rating'] > 3) & (\n",
    "            data['UserID'] == user_id)]['MovieID'].values\n",
    "        prec = {}\n",
    "\n",
    "        for k in ks:\n",
    "            relevant = 0\n",
    "            for m in test_ratings[user_id].head(k)['MovieID']:\n",
    "                if m in ud_rating:\n",
    "                    relevant += 1\n",
    "\n",
    "            prec[k] = (relevant/k)\n",
    "\n",
    "        precisions.append(prec)\n",
    "\n",
    "    return precisions"
   ]
  },
  {
   "cell_type": "code",
   "execution_count": 104,
   "metadata": {},
   "outputs": [],
   "source": [
    "precisions = calculate_precision_at_k(test_ratings, data)"
   ]
  },
  {
   "cell_type": "code",
   "execution_count": 105,
   "metadata": {},
   "outputs": [],
   "source": [
    "ks = [1, 5, 10, 15, 20, 25, 30, 40, 50]\n",
    "avg_prec = {}\n",
    "n = len(test_ratings.keys())\n",
    "for k in ks:\n",
    "    total = 0\n",
    "    for e in precisions:\n",
    "        total += e[k]\n",
    "    avg_prec[k] = total/n"
   ]
  },
  {
   "cell_type": "code",
   "execution_count": 117,
   "metadata": {},
   "outputs": [
    {
     "data": {
      "image/png": "[encoded data removed]",
      "text/plain": [
       "<Figure size 800x500 with 1 Axes>"
      ]
     },
     "metadata": {},
     "output_type": "display_data"
    }
   ],
   "source": [
    "import seaborn as sns\n",
    "import matplotlib.pyplot as plt\n",
    "\n",
    "# Data\n",
    "data = {1: 0.46,\n",
    "        5: 0.35400000000000004,\n",
    "        10: 0.2900000000000001,\n",
    "        15: 0.27399999999999997,\n",
    "        20: 0.2615,\n",
    "        25: 0.24679999999999994,\n",
    "        30: 0.2396666666666667,\n",
    "        40: 0.22075,\n",
    "        50: 0.20439999999999997}\n",
    "\n",
    "# Preparing data for plotting\n",
    "x = list(data.keys())\n",
    "y = list(data.values())\n",
    "\n",
    "# Set the style\n",
    "sns.set(style=\"whitegrid\")\n",
    "\n",
    "# Create the plot\n",
    "plt.figure(figsize=(8, 5))\n",
    "sns.lineplot(x=x, y=y, marker='o', linewidth=2.5, color='b')\n",
    "sns.lineplot(x=x, y=y, marker='o', linewidth=2.5, color='b')\n",
    "\n",
    "\n",
    "# Add titles and labels\n",
    "plt.title(\"Data Trend Visualization\", fontsize=16)\n",
    "plt.xlabel(\"X-axis\", fontsize=14)\n",
    "plt.ylabel(\"Y-axis\", fontsize=14)\n",
    "\n",
    "# Show the plot\n",
    "plt.show()"
   ]
  },
  {
   "cell_type": "code",
   "execution_count": 116,
   "metadata": {},
   "outputs": [
    {
     "ename": "TypeError",
     "evalue": "'function' object is not subscriptable",
     "output_type": "error",
     "traceback": [
      "\u001b[0;31m---------------------------------------------------------------------------\u001b[0m",
      "\u001b[0;31mTypeError\u001b[0m                                 Traceback (most recent call last)",
      "Cell \u001b[0;32mIn[116], line 3\u001b[0m\n\u001b[1;32m      1\u001b[0m plt\u001b[38;5;241m.\u001b[39mplot(avg_prec\u001b[38;5;241m.\u001b[39mvalues())\n\u001b[1;32m      2\u001b[0m plt\u001b[38;5;241m.\u001b[39mxticks(\u001b[38;5;28mlist\u001b[39m(avg_prec\u001b[38;5;241m.\u001b[39mkeys()))\n\u001b[0;32m----> 3\u001b[0m \u001b[43mplt\u001b[49m\u001b[38;5;241;43m.\u001b[39;49m\u001b[43myticks\u001b[49m\u001b[43m[\u001b[49m\u001b[43m[\u001b[49m\u001b[38;5;241;43m0\u001b[39;49m\u001b[43m,\u001b[49m\u001b[38;5;241;43m1\u001b[39;49m\u001b[43m]\u001b[49m\u001b[43m]\u001b[49m\n",
      "\u001b[0;31mTypeError\u001b[0m: 'function' object is not subscriptable"
     ]
    },
    {
     "data": {
      "image/png": "[encoded data removed]",
      "text/plain": [
       "<Figure size 640x480 with 1 Axes>"
      ]
     },
     "metadata": {},
     "output_type": "display_data"
    }
   ],
   "source": []
  },
  {
   "cell_type": "code",
   "execution_count": 108,
   "metadata": {},
   "outputs": [],
   "source": [
    "import pandas as pd\n",
    "older_vals = pd.read_csv('./hybrid_precision_results.csv').values[0][1:]"
   ]
  },
  {
   "cell_type": "code",
   "execution_count": 109,
   "metadata": {},
   "outputs": [
    {
     "name": "stderr",
     "output_type": "stream",
     "text": [
      "/tmp/ipykernel_54790/2674889604.py:3: UserWarning: No artists with labels found to put in legend.  Note that artists whose label start with an underscore are ignored when legend() is called with no argument.\n",
      "  plt.legend()\n"
     ]
    },
    {
     "data": {
      "text/plain": [
       "<matplotlib.legend.Legend at 0x7f1011fdf050>"
      ]
     },
     "execution_count": 109,
     "metadata": {},
     "output_type": "execute_result"
    },
    {
     "data": {
      "image/png": "[encoded data removed]",
      "text/plain": [
       "<Figure size 640x480 with 1 Axes>"
      ]
     },
     "metadata": {},
     "output_type": "display_data"
    }
   ],
   "source": [
    "plt.plot(older_vals)\n",
    "plt.plot(avg_prec.values())\n",
    "plt.legend()"
   ]
  },
  {
   "cell_type": "code",
   "execution_count": 110,
   "metadata": {},
   "outputs": [],
   "source": [
    "import pandas as pd\n",
    "# d = {1: 0.41, # Old\n",
    "#      5: 0.33399999999999985,\n",
    "#      10: 0.32500000000000007,\n",
    "#      15: 0.29399999999999976,\n",
    "#      20: 0.27399999999999997,\n",
    "#      25: 0.25559999999999994,\n",
    "#      30: 0.24466666666666653,\n",
    "#      40: 0.22275000000000006,\n",
    "#      50: 0.20439999999999992}\n",
    "\n",
    "# d = {1: 0.46, # New 1\n",
    "#      5: 0.35400000000000004,\n",
    "#      10: 0.2900000000000001,\n",
    "#      15: 0.27399999999999997,\n",
    "#      20: 0.2615,\n",
    "#      25: 0.24679999999999994,\n",
    "#      30: 0.2396666666666667,\n",
    "#      40: 0.22075,\n",
    "#      50: 0.20439999999999997}\n",
    "\n",
    "d = avg_prec\n",
    "df = pd.DataFrame(d, index=['Precision'])\n",
    "df.to_csv('hybrid_precision_results_new.csv')"
   ]
  }
 ],
 "metadata": {
  "kernelspec": {
   "display_name": ".venv",
   "language": "python",
   "name": "python3"
  },
  "language_info": {
   "codemirror_mode": {
    "name": "ipython",
    "version": 3
   },
   "file_extension": ".py",
   "mimetype": "text/x-python",
   "name": "python",
   "nbconvert_exporter": "python",
   "pygments_lexer": "ipython3",
   "version": "3.12.7"
  }
 },
 "nbformat": 4,
 "nbformat_minor": 2
}
