{
 "cells": [
  {
   "cell_type": "code",
   "execution_count": 30,
   "metadata": {},
   "outputs": [],
   "source": [
    "import numpy as np\n",
    "import pandas as pd\n",
    "from sklearn.feature_extraction.text import TfidfVectorizer\n",
    "from sklearn.metrics.pairwise import cosine_similarity\n",
    "from sklearn.metrics import mean_squared_error\n",
    "from math import sqrt"
   ]
  },
  {
   "cell_type": "code",
   "execution_count": 31,
   "metadata": {},
   "outputs": [],
   "source": [
    "movie_data = pd.read_csv('data/movies_grouplens/movies.dat', delimiter='::', header=None, engine='python', encoding='latin1')\n",
    "rating_data = pd.read_csv('data/movies_grouplens/ratings.dat', delimiter='::', header=None, engine='python', encoding='latin1')\n",
    "user_data = pd.read_csv('data/movies_grouplens/users.dat', delimiter='::', header=None, engine='python', encoding='latin1')"
   ]
  },
  {
   "cell_type": "code",
   "execution_count": 32,
   "metadata": {},
   "outputs": [],
   "source": [
    "movie_data.columns = ['MovieID', 'Title', 'Genres']\n",
    "rating_data.columns = ['UserID', 'MovieID', 'Rating', 'Timestamp']\n",
    "user_data.columns = ['UserID', 'Gender', 'Age', 'Occupation', 'Zip-code']"
   ]
  },
  {
   "cell_type": "code",
   "execution_count": 33,
   "metadata": {},
   "outputs": [],
   "source": [
    "movie_data['Genres'] = movie_data['Genres'].fillna('')\n",
    "\n",
    "tfidf = TfidfVectorizer(stop_words='english')\n",
    "tfidf_matrix = tfidf.fit_transform(movie_data['Genres'])"
   ]
  },
  {
   "cell_type": "code",
   "execution_count": 34,
   "metadata": {},
   "outputs": [],
   "source": [
    "user_movie_data = rating_data.merge(movie_data, on='MovieID')"
   ]
  },
  {
   "cell_type": "code",
   "execution_count": 35,
   "metadata": {},
   "outputs": [],
   "source": [
    "movie_index = pd.Series(movie_data.index, index=movie_data['MovieID']).drop_duplicates()"
   ]
  },
  {
   "cell_type": "code",
   "execution_count": 36,
   "metadata": {},
   "outputs": [],
   "source": [
    "user_profiles = {}"
   ]
  },
  {
   "cell_type": "code",
   "execution_count": 37,
   "metadata": {},
   "outputs": [],
   "source": [
    "for user_id in rating_data['UserID'].unique():\n",
    "    user_ratings = user_movie_data[user_movie_data['UserID'] == user_id]\n",
    "    \n",
    "    tfidf_weights = tfidf_matrix[user_ratings['MovieID'].apply(lambda x: movie_index[x])]\n",
    "    user_profile = np.dot(user_ratings['Rating'], tfidf_weights.toarray()) / user_ratings['Rating'].sum()\n",
    "    \n",
    "    user_profile = user_profile / np.linalg.norm(user_profile)\n",
    "    \n",
    "    user_profiles[user_id] = user_profile"
   ]
  },
  {
   "cell_type": "code",
   "execution_count": 38,
   "metadata": {},
   "outputs": [],
   "source": [
    "def recommend_movies_for_user(user_id, top_n=10):\n",
    "    user_profile = user_profiles[user_id]\n",
    "    \n",
    "    sim_scores = cosine_similarity([user_profile], tfidf_matrix)[0]\n",
    "    \n",
    "    movie_indices = sim_scores.argsort()[-top_n:][::-1]\n",
    "    \n",
    "    return movie_data['Title'].iloc[movie_indices]"
   ]
  },
  {
   "cell_type": "code",
   "execution_count": 39,
   "metadata": {},
   "outputs": [
    {
     "name": "stdout",
     "output_type": "stream",
     "text": [
      "Recommendations for User 54:\n",
      "2703             Detroit Rock City (1999)\n",
      "2349             Nothing in Common (1986)\n",
      "3377                   Funny Bones (1995)\n",
      "340     Ace Ventura: Pet Detective (1994)\n",
      "943               Bringing Up Baby (1938)\n",
      "344          Bullets Over Broadway (1994)\n",
      "348                       Crooklyn (1994)\n",
      "939                His Girl Friday (1940)\n",
      "2367            Tea with Mussolini (1999)\n",
      "935                 My Man Godfrey (1936)\n",
      "Name: Title, dtype: object\n"
     ]
    }
   ],
   "source": [
    "user_id = 54\n",
    "print(f\"Recommendations for User {user_id}:\")\n",
    "print(recommend_movies_for_user(user_id))"
   ]
  }
 ],
 "metadata": {
  "kernelspec": {
   "display_name": "Python 3",
   "language": "python",
   "name": "python3"
  },
  "language_info": {
   "codemirror_mode": {
    "name": "ipython",
    "version": 3
   },
   "file_extension": ".py",
   "mimetype": "text/x-python",
   "name": "python",
   "nbconvert_exporter": "python",
   "pygments_lexer": "ipython3",
   "version": "3.12.4"
  }
 },
 "nbformat": 4,
 "nbformat_minor": 2
}
