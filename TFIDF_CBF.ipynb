{
 "cells": [
  {
   "cell_type": "code",
   "execution_count": 25,
   "metadata": {},
   "outputs": [],
   "source": [
    "import numpy as np\n",
    "import pandas as pd\n",
    "from sklearn.feature_extraction.text import TfidfVectorizer\n",
    "from sklearn.metrics.pairwise import cosine_similarity\n",
    "from sklearn.metrics import mean_squared_error"
   ]
  },
  {
   "cell_type": "code",
   "execution_count": 11,
   "metadata": {},
   "outputs": [],
   "source": [
    "movie_data = pd.read_csv('data/movies_grouplens/movies.dat', delimiter='::', header=None, engine='python', encoding='latin1')\n",
    "rating_data = pd.read_csv('data/movies_grouplens/ratings.dat', delimiter='::', header=None, engine='python', encoding='latin1')\n",
    "user_data = pd.read_csv('data/movies_grouplens/users.dat', delimiter='::', header=None, engine='python', encoding='latin1')"
   ]
  },
  {
   "cell_type": "code",
   "execution_count": 12,
   "metadata": {},
   "outputs": [],
   "source": [
    "movie_data.columns = ['MovieID', 'Title', 'Genres']\n",
    "rating_data.columns = ['UserID', 'MovieID', 'Rating', 'Timestamp']\n",
    "user_data.columns = ['UserID', 'Gender', 'Age', 'Occupation', 'Zip-code']"
   ]
  },
  {
   "cell_type": "code",
   "execution_count": 13,
   "metadata": {},
   "outputs": [],
   "source": [
    "movie_data['Genres'] = movie_data['Genres'].fillna('')\n",
    "\n",
    "tfidf = TfidfVectorizer(stop_words='english')\n",
    "tfidf_matrix = tfidf.fit_transform(movie_data['Genres'])"
   ]
  },
  {
   "cell_type": "code",
   "execution_count": 14,
   "metadata": {},
   "outputs": [],
   "source": [
    "user_movie_data = rating_data.merge(movie_data, on='MovieID')"
   ]
  },
  {
   "cell_type": "code",
   "execution_count": 15,
   "metadata": {},
   "outputs": [],
   "source": [
    "movie_index = pd.Series(movie_data.index, index=movie_data['MovieID']).drop_duplicates()"
   ]
  },
  {
   "cell_type": "code",
   "execution_count": 16,
   "metadata": {},
   "outputs": [],
   "source": [
    "user_profiles = {}"
   ]
  },
  {
   "cell_type": "code",
   "execution_count": 17,
   "metadata": {},
   "outputs": [],
   "source": [
    "for user_id in rating_data['UserID'].unique():\n",
    "    user_ratings = user_movie_data[user_movie_data['UserID'] == user_id]\n",
    "    \n",
    "    tfidf_weights = tfidf_matrix[user_ratings['MovieID'].apply(lambda x: movie_index[x])]\n",
    "    user_profile = np.dot(user_ratings['Rating'], tfidf_weights.toarray()) / user_ratings['Rating'].sum()\n",
    "    \n",
    "    user_profile = user_profile / np.linalg.norm(user_profile)\n",
    "    \n",
    "    user_profiles[user_id] = user_profile"
   ]
  },
  {
   "cell_type": "code",
   "execution_count": 19,
   "metadata": {},
   "outputs": [],
   "source": [
    "def recommend_movies_for_user(user_id, top_n=10):\n",
    "    user_profile = user_profiles[user_id]\n",
    "    \n",
    "    sim_scores = cosine_similarity([user_profile], tfidf_matrix)[0]\n",
    "    \n",
    "    movie_indices = sim_scores.argsort()[-top_n:][::-1]\n",
    "    \n",
    "    return movie_data['Title'].iloc[movie_indices]"
   ]
  },
  {
   "cell_type": "code",
   "execution_count": null,
   "metadata": {},
   "outputs": [],
   "source": [
    "def calculate_mse_for_user(user_id):\n",
    "    user_ratings = user_movie_data[user_movie_data['UserID'] == user_id]\n",
    "    mse_scores = []\n",
    "    \n",
    "    for movie_id in user_ratings['MovieID']:\n",
    "        movie_tfidf = tfidf_matrix[movie_index[movie_id]].toarray()[0]\n",
    "        user_profile = user_profiles[user_id]\n",
    "        \n",
    "        mse = mean_squared_error(user_profile, movie_tfidf)\n",
    "        mse_scores.append(mse)\n",
    "    \n",
    "    return np.mean(mse_scores)"
   ]
  },
  {
   "cell_type": "code",
   "execution_count": 24,
   "metadata": {},
   "outputs": [
    {
     "name": "stdout",
     "output_type": "stream",
     "text": [
      "Recommendations for User 181:\n",
      "1847                                    Buffalo 66 (1998)\n",
      "20                                      Get Shorty (1995)\n",
      "386                   Faster Pussycat! Kill! Kill! (1965)\n",
      "1445                                      Best Men (1997)\n",
      "1931                                 Lethal Weapon (1987)\n",
      "1932                               Lethal Weapon 2 (1989)\n",
      "1933                               Lethal Weapon 3 (1992)\n",
      "1849                               Lethal Weapon 4 (1998)\n",
      "3197    Man Bites Dog (C'est arrivé près de chez vous)...\n",
      "3115                                       Montana (1998)\n",
      "Name: Title, dtype: object\n"
     ]
    }
   ],
   "source": [
    "user_id = 181\n",
    "print(f\"Recommendations for User {user_id}:\")\n",
    "print(recommend_movies_for_user(user_id))"
   ]
  }
 ],
 "metadata": {
  "kernelspec": {
   "display_name": "Python 3",
   "language": "python",
   "name": "python3"
  },
  "language_info": {
   "codemirror_mode": {
    "name": "ipython",
    "version": 3
   },
   "file_extension": ".py",
   "mimetype": "text/x-python",
   "name": "python",
   "nbconvert_exporter": "python",
   "pygments_lexer": "ipython3",
   "version": "3.12.4"
  }
 },
 "nbformat": 4,
 "nbformat_minor": 2
}
