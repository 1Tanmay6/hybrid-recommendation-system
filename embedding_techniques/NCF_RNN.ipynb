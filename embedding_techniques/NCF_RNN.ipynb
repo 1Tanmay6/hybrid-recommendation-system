{
 "cells": [
  {
   "cell_type": "markdown",
   "metadata": {},
   "source": [
    "### 1. Importing Libraries"
   ]
  },
  {
   "cell_type": "code",
   "execution_count": 1,
   "metadata": {},
   "outputs": [],
   "source": [
    "import os\n",
    "import time\n",
    "import random\n",
    "import numpy as np\n",
    "import pandas as pd\n",
    "import torch\n",
    "import torch.nn as nn\n",
    "import torch.optim as optim\n",
    "import torch.nn.functional as F\n",
    "from torch.utils.data import DataLoader, Dataset\n",
    "import matplotlib.pyplot as plt\n",
    "from sklearn.model_selection import train_test_split"
   ]
  },
  {
   "cell_type": "markdown",
   "metadata": {},
   "source": [
    "### 2. Loading Data"
   ]
  },
  {
   "cell_type": "code",
   "execution_count": 2,
   "metadata": {},
   "outputs": [],
   "source": [
    "data = pd.read_table('../data/u.data')"
   ]
  },
  {
   "cell_type": "code",
   "execution_count": 3,
   "metadata": {},
   "outputs": [
    {
     "data": {
      "text/html": [
       "<div>\n",
       "<style scoped>\n",
       "    .dataframe tbody tr th:only-of-type {\n",
       "        vertical-align: middle;\n",
       "    }\n",
       "\n",
       "    .dataframe tbody tr th {\n",
       "        vertical-align: top;\n",
       "    }\n",
       "\n",
       "    .dataframe thead th {\n",
       "        text-align: right;\n",
       "    }\n",
       "</style>\n",
       "<table border=\"1\" class=\"dataframe\">\n",
       "  <thead>\n",
       "    <tr style=\"text-align: right;\">\n",
       "      <th></th>\n",
       "      <th>user</th>\n",
       "      <th>event</th>\n",
       "      <th>rating</th>\n",
       "      <th>timestamp</th>\n",
       "    </tr>\n",
       "  </thead>\n",
       "  <tbody>\n",
       "    <tr>\n",
       "      <th>0</th>\n",
       "      <td>196</td>\n",
       "      <td>242</td>\n",
       "      <td>3</td>\n",
       "      <td>881250949</td>\n",
       "    </tr>\n",
       "    <tr>\n",
       "      <th>1</th>\n",
       "      <td>186</td>\n",
       "      <td>302</td>\n",
       "      <td>3</td>\n",
       "      <td>891717742</td>\n",
       "    </tr>\n",
       "    <tr>\n",
       "      <th>2</th>\n",
       "      <td>22</td>\n",
       "      <td>377</td>\n",
       "      <td>1</td>\n",
       "      <td>878887116</td>\n",
       "    </tr>\n",
       "    <tr>\n",
       "      <th>3</th>\n",
       "      <td>244</td>\n",
       "      <td>51</td>\n",
       "      <td>2</td>\n",
       "      <td>880606923</td>\n",
       "    </tr>\n",
       "    <tr>\n",
       "      <th>4</th>\n",
       "      <td>166</td>\n",
       "      <td>346</td>\n",
       "      <td>1</td>\n",
       "      <td>886397596</td>\n",
       "    </tr>\n",
       "  </tbody>\n",
       "</table>\n",
       "</div>"
      ],
      "text/plain": [
       "   user  event  rating  timestamp\n",
       "0   196    242       3  881250949\n",
       "1   186    302       3  891717742\n",
       "2    22    377       1  878887116\n",
       "3   244     51       2  880606923\n",
       "4   166    346       1  886397596"
      ]
     },
     "execution_count": 3,
     "metadata": {},
     "output_type": "execute_result"
    }
   ],
   "source": [
    "data.head()"
   ]
  },
  {
   "cell_type": "markdown",
   "metadata": {},
   "source": [
    "### Pre-processing the data"
   ]
  },
  {
   "cell_type": "markdown",
   "metadata": {},
   "source": [
    "#### 3.1 Finding all unique values from data for events and users"
   ]
  },
  {
   "cell_type": "code",
   "execution_count": 4,
   "metadata": {},
   "outputs": [
    {
     "data": {
      "text/plain": [
       "(array([242, 302, 377,  51, 346, 474, 265, 465, 451,  86]),\n",
       " array([196, 186,  22, 244, 166, 298, 115, 253, 305,   6]))"
      ]
     },
     "execution_count": 4,
     "metadata": {},
     "output_type": "execute_result"
    }
   ],
   "source": [
    "users = data['user'].unique()\n",
    "events = data['event'].unique()\n",
    "\n",
    "events[:10], users[:10]"
   ]
  },
  {
   "cell_type": "markdown",
   "metadata": {},
   "source": [
    "#### 3.2 Assigning idx's to unique users and events"
   ]
  },
  {
   "cell_type": "code",
   "execution_count": 5,
   "metadata": {},
   "outputs": [
    {
     "name": "stdout",
     "output_type": "stream",
     "text": [
      "User: 196, assigned index: 0\n",
      "Event: 242, assigned index: 0\n"
     ]
    }
   ],
   "source": [
    "user_to_idx = {user: idx for idx, user in enumerate(users)}\n",
    "event_to_idx = {event: idx for idx, event in enumerate(events)}\n",
    "idx_to_user = {idx: user for user, idx in user_to_idx.items()} # For reverse lookup\n",
    "idx_to_event = {idx: event for event, idx in event_to_idx.items()} # For reverse lookup\n",
    "\n",
    "for key, value in user_to_idx.items():\n",
    "    if value == 0:\n",
    "        print(f'User: {key}, assigned index: {value}')\n",
    "\n",
    "for key, value in event_to_idx.items():\n",
    "    if value == 0:\n",
    "        print(f'Event: {key}, assigned index: {value}')"
   ]
  },
  {
   "cell_type": "markdown",
   "metadata": {},
   "source": [
    "#### 3.3 Using the idx to add column in dataframe"
   ]
  },
  {
   "cell_type": "code",
   "execution_count": 6,
   "metadata": {},
   "outputs": [
    {
     "data": {
      "text/html": [
       "<div>\n",
       "<style scoped>\n",
       "    .dataframe tbody tr th:only-of-type {\n",
       "        vertical-align: middle;\n",
       "    }\n",
       "\n",
       "    .dataframe tbody tr th {\n",
       "        vertical-align: top;\n",
       "    }\n",
       "\n",
       "    .dataframe thead th {\n",
       "        text-align: right;\n",
       "    }\n",
       "</style>\n",
       "<table border=\"1\" class=\"dataframe\">\n",
       "  <thead>\n",
       "    <tr style=\"text-align: right;\">\n",
       "      <th></th>\n",
       "      <th>user</th>\n",
       "      <th>event</th>\n",
       "      <th>rating</th>\n",
       "      <th>timestamp</th>\n",
       "      <th>user_idx</th>\n",
       "      <th>event_idx</th>\n",
       "    </tr>\n",
       "  </thead>\n",
       "  <tbody>\n",
       "    <tr>\n",
       "      <th>0</th>\n",
       "      <td>196</td>\n",
       "      <td>242</td>\n",
       "      <td>3</td>\n",
       "      <td>881250949</td>\n",
       "      <td>0</td>\n",
       "      <td>0</td>\n",
       "    </tr>\n",
       "    <tr>\n",
       "      <th>1</th>\n",
       "      <td>186</td>\n",
       "      <td>302</td>\n",
       "      <td>3</td>\n",
       "      <td>891717742</td>\n",
       "      <td>1</td>\n",
       "      <td>1</td>\n",
       "    </tr>\n",
       "    <tr>\n",
       "      <th>2</th>\n",
       "      <td>22</td>\n",
       "      <td>377</td>\n",
       "      <td>1</td>\n",
       "      <td>878887116</td>\n",
       "      <td>2</td>\n",
       "      <td>2</td>\n",
       "    </tr>\n",
       "    <tr>\n",
       "      <th>3</th>\n",
       "      <td>244</td>\n",
       "      <td>51</td>\n",
       "      <td>2</td>\n",
       "      <td>880606923</td>\n",
       "      <td>3</td>\n",
       "      <td>3</td>\n",
       "    </tr>\n",
       "    <tr>\n",
       "      <th>4</th>\n",
       "      <td>166</td>\n",
       "      <td>346</td>\n",
       "      <td>1</td>\n",
       "      <td>886397596</td>\n",
       "      <td>4</td>\n",
       "      <td>4</td>\n",
       "    </tr>\n",
       "  </tbody>\n",
       "</table>\n",
       "</div>"
      ],
      "text/plain": [
       "   user  event  rating  timestamp  user_idx  event_idx\n",
       "0   196    242       3  881250949         0          0\n",
       "1   186    302       3  891717742         1          1\n",
       "2    22    377       1  878887116         2          2\n",
       "3   244     51       2  880606923         3          3\n",
       "4   166    346       1  886397596         4          4"
      ]
     },
     "execution_count": 6,
     "metadata": {},
     "output_type": "execute_result"
    }
   ],
   "source": [
    "data['user_idx'] = data['user'].map(user_to_idx)\n",
    "data['event_idx'] = data['event'].map(event_to_idx)\n",
    "\n",
    "data.head()"
   ]
  },
  {
   "cell_type": "markdown",
   "metadata": {},
   "source": [
    "#### 3.4 Splitting the data into training and testing"
   ]
  },
  {
   "cell_type": "code",
   "execution_count": 7,
   "metadata": {},
   "outputs": [
    {
     "data": {
      "text/plain": [
       "(60000, 20000, 20000)"
      ]
     },
     "execution_count": 7,
     "metadata": {},
     "output_type": "execute_result"
    }
   ],
   "source": [
    "train_data, test_data = train_test_split(data, test_size=0.2, random_state=21, shuffle=True)\n",
    "train_data, val_data = train_test_split(train_data, test_size=0.25, random_state=21, shuffle=True)\n",
    "len(train_data), len(val_data), len(test_data)"
   ]
  },
  {
   "cell_type": "code",
   "execution_count": 8,
   "metadata": {},
   "outputs": [
    {
     "data": {
      "text/html": [
       "<div>\n",
       "<style scoped>\n",
       "    .dataframe tbody tr th:only-of-type {\n",
       "        vertical-align: middle;\n",
       "    }\n",
       "\n",
       "    .dataframe tbody tr th {\n",
       "        vertical-align: top;\n",
       "    }\n",
       "\n",
       "    .dataframe thead th {\n",
       "        text-align: right;\n",
       "    }\n",
       "</style>\n",
       "<table border=\"1\" class=\"dataframe\">\n",
       "  <thead>\n",
       "    <tr style=\"text-align: right;\">\n",
       "      <th></th>\n",
       "      <th>user</th>\n",
       "      <th>event</th>\n",
       "      <th>rating</th>\n",
       "      <th>timestamp</th>\n",
       "      <th>user_idx</th>\n",
       "      <th>event_idx</th>\n",
       "    </tr>\n",
       "  </thead>\n",
       "  <tbody>\n",
       "    <tr>\n",
       "      <th>38585</th>\n",
       "      <td>519</td>\n",
       "      <td>878</td>\n",
       "      <td>5</td>\n",
       "      <td>884545961</td>\n",
       "      <td>521</td>\n",
       "      <td>995</td>\n",
       "    </tr>\n",
       "    <tr>\n",
       "      <th>57464</th>\n",
       "      <td>758</td>\n",
       "      <td>121</td>\n",
       "      <td>2</td>\n",
       "      <td>881978864</td>\n",
       "      <td>752</td>\n",
       "      <td>403</td>\n",
       "    </tr>\n",
       "    <tr>\n",
       "      <th>16125</th>\n",
       "      <td>277</td>\n",
       "      <td>872</td>\n",
       "      <td>3</td>\n",
       "      <td>879543768</td>\n",
       "      <td>261</td>\n",
       "      <td>223</td>\n",
       "    </tr>\n",
       "    <tr>\n",
       "      <th>16767</th>\n",
       "      <td>343</td>\n",
       "      <td>147</td>\n",
       "      <td>4</td>\n",
       "      <td>876402814</td>\n",
       "      <td>339</td>\n",
       "      <td>452</td>\n",
       "    </tr>\n",
       "    <tr>\n",
       "      <th>90032</th>\n",
       "      <td>686</td>\n",
       "      <td>50</td>\n",
       "      <td>4</td>\n",
       "      <td>879545413</td>\n",
       "      <td>684</td>\n",
       "      <td>357</td>\n",
       "    </tr>\n",
       "  </tbody>\n",
       "</table>\n",
       "</div>"
      ],
      "text/plain": [
       "       user  event  rating  timestamp  user_idx  event_idx\n",
       "38585   519    878       5  884545961       521        995\n",
       "57464   758    121       2  881978864       752        403\n",
       "16125   277    872       3  879543768       261        223\n",
       "16767   343    147       4  876402814       339        452\n",
       "90032   686     50       4  879545413       684        357"
      ]
     },
     "execution_count": 8,
     "metadata": {},
     "output_type": "execute_result"
    }
   ],
   "source": [
    "train_data.head()"
   ]
  },
  {
   "cell_type": "code",
   "execution_count": 9,
   "metadata": {},
   "outputs": [
    {
     "data": {
      "text/html": [
       "<div>\n",
       "<style scoped>\n",
       "    .dataframe tbody tr th:only-of-type {\n",
       "        vertical-align: middle;\n",
       "    }\n",
       "\n",
       "    .dataframe tbody tr th {\n",
       "        vertical-align: top;\n",
       "    }\n",
       "\n",
       "    .dataframe thead th {\n",
       "        text-align: right;\n",
       "    }\n",
       "</style>\n",
       "<table border=\"1\" class=\"dataframe\">\n",
       "  <thead>\n",
       "    <tr style=\"text-align: right;\">\n",
       "      <th></th>\n",
       "      <th>user</th>\n",
       "      <th>event</th>\n",
       "      <th>rating</th>\n",
       "      <th>timestamp</th>\n",
       "      <th>user_idx</th>\n",
       "      <th>event_idx</th>\n",
       "    </tr>\n",
       "  </thead>\n",
       "  <tbody>\n",
       "    <tr>\n",
       "      <th>39544</th>\n",
       "      <td>591</td>\n",
       "      <td>235</td>\n",
       "      <td>3</td>\n",
       "      <td>891039676</td>\n",
       "      <td>582</td>\n",
       "      <td>181</td>\n",
       "    </tr>\n",
       "    <tr>\n",
       "      <th>24258</th>\n",
       "      <td>450</td>\n",
       "      <td>689</td>\n",
       "      <td>3</td>\n",
       "      <td>882216026</td>\n",
       "      <td>442</td>\n",
       "      <td>890</td>\n",
       "    </tr>\n",
       "    <tr>\n",
       "      <th>23442</th>\n",
       "      <td>13</td>\n",
       "      <td>462</td>\n",
       "      <td>5</td>\n",
       "      <td>882140487</td>\n",
       "      <td>58</td>\n",
       "      <td>299</td>\n",
       "    </tr>\n",
       "    <tr>\n",
       "      <th>35853</th>\n",
       "      <td>159</td>\n",
       "      <td>1013</td>\n",
       "      <td>4</td>\n",
       "      <td>880557170</td>\n",
       "      <td>233</td>\n",
       "      <td>1013</td>\n",
       "    </tr>\n",
       "    <tr>\n",
       "      <th>35928</th>\n",
       "      <td>515</td>\n",
       "      <td>307</td>\n",
       "      <td>4</td>\n",
       "      <td>887659123</td>\n",
       "      <td>507</td>\n",
       "      <td>104</td>\n",
       "    </tr>\n",
       "  </tbody>\n",
       "</table>\n",
       "</div>"
      ],
      "text/plain": [
       "       user  event  rating  timestamp  user_idx  event_idx\n",
       "39544   591    235       3  891039676       582        181\n",
       "24258   450    689       3  882216026       442        890\n",
       "23442    13    462       5  882140487        58        299\n",
       "35853   159   1013       4  880557170       233       1013\n",
       "35928   515    307       4  887659123       507        104"
      ]
     },
     "execution_count": 9,
     "metadata": {},
     "output_type": "execute_result"
    }
   ],
   "source": [
    "test_data.head()"
   ]
  },
  {
   "cell_type": "markdown",
   "metadata": {},
   "source": [
    "#### 3.5 Creating the train and test dataloaders"
   ]
  },
  {
   "cell_type": "code",
   "execution_count": 10,
   "metadata": {},
   "outputs": [],
   "source": [
    "train_dataloader = DataLoader(train_data[['user_idx', 'event_idx', 'rating']].values, batch_size=64, shuffle=True)\n",
    "val_dataloader = DataLoader(val_data[['user_idx', 'event_idx', 'rating']].values, batch_size=64, shuffle=False)\n",
    "test_dataloader = DataLoader(test_data[['user_idx', 'event_idx', 'rating']].values, batch_size=64, shuffle=False)"
   ]
  },
  {
   "cell_type": "code",
   "execution_count": 11,
   "metadata": {},
   "outputs": [
    {
     "name": "stdout",
     "output_type": "stream",
     "text": [
      "Example batch:  tensor([[ 529, 1200,    5],\n",
      "        [ 847,   47,    2],\n",
      "        [ 720,  158,    3],\n",
      "        [ 927,  136,    5],\n",
      "        [ 387,  684,    3],\n",
      "        [  45,  452,    5],\n",
      "        [ 590,  700,    2],\n",
      "        [ 253,    9,    3],\n",
      "        [ 128,   94,    5],\n",
      "        [  65,  548,    3]])\n",
      "\n",
      "Len of a batch:  64\n"
     ]
    }
   ],
   "source": [
    "for batch in train_dataloader:\n",
    "    print('Example batch: ', batch[:10])\n",
    "    print()\n",
    "    print('Len of a batch: ', len(batch))\n",
    "    break"
   ]
  },
  {
   "cell_type": "markdown",
   "metadata": {},
   "source": [
    "### 4. Defining the model"
   ]
  },
  {
   "cell_type": "code",
   "execution_count": 12,
   "metadata": {},
   "outputs": [],
   "source": [
    "class NCF(nn.Module):\n",
    "    def __init__(self, num_users, num_items, embedding_dim=96, hidden_dim=64):\n",
    "        super(NCF, self).__init__()\n",
    "        self.user_embedding = nn.Embedding(num_users, embedding_dim)\n",
    "        self.item_embedding = nn.Embedding(num_items, embedding_dim)\n",
    "        \n",
    "        # RNN layers\n",
    "        self.user_rnn = nn.RNN(embedding_dim, hidden_dim, batch_first=True)\n",
    "        self.item_rnn = nn.RNN(embedding_dim, hidden_dim, batch_first=True)\n",
    "        \n",
    "        # Fully connected layers\n",
    "        self.fc1 = nn.Linear(hidden_dim * 2, hidden_dim)\n",
    "        self.fc2 = nn.Linear(hidden_dim, 1)\n",
    "        \n",
    "    def forward(self, user, item):\n",
    "        # Embedding lookups\n",
    "        user_embedded = self.user_embedding(user).unsqueeze(1)  # Add sequence dimension\n",
    "        item_embedded = self.item_embedding(item).unsqueeze(1)  # Add sequence dimension\n",
    "        \n",
    "        # Pass through RNNs\n",
    "        _, user_hidden = self.user_rnn(user_embedded)\n",
    "        _, item_hidden = self.item_rnn(item_embedded)\n",
    "        \n",
    "        # Concatenate RNN outputs\n",
    "        x = torch.cat([user_hidden.squeeze(0), item_hidden.squeeze(0)], dim=-1)\n",
    "        \n",
    "        # Pass through fully connected layers\n",
    "        x = F.relu(self.fc1(x))\n",
    "        x = self.fc2(x)\n",
    "        return x\n"
   ]
  },
  {
   "cell_type": "code",
   "execution_count": 13,
   "metadata": {},
   "outputs": [],
   "source": [
    "class EarlyStopper:\n",
    "    def __init__(self, patience=1, min_delta=0):\n",
    "        self.patience = patience\n",
    "        self.min_delta = min_delta\n",
    "        self.counter = 0\n",
    "        self.min_validation_loss = float('inf')\n",
    "\n",
    "    def early_stop(self, validation_loss):\n",
    "        if validation_loss < self.min_validation_loss:\n",
    "            self.min_validation_loss = validation_loss\n",
    "            self.counter = 0\n",
    "        elif validation_loss > (self.min_validation_loss + self.min_delta):\n",
    "            self.counter += 1\n",
    "            if self.counter >= self.patience:\n",
    "                return True\n",
    "        return False"
   ]
  },
  {
   "cell_type": "markdown",
   "metadata": {},
   "source": [
    "### 5. Defining the hyperparamters"
   ]
  },
  {
   "cell_type": "code",
   "execution_count": 14,
   "metadata": {},
   "outputs": [],
   "source": [
    "device = torch.device('cuda' if torch.cuda.is_available() else 'cpu')\n",
    "num_users = len(users)\n",
    "num_events = len(events)\n",
    "model = NCF(num_users, num_events).to(device)\n",
    "num_epochs = 10\n",
    "lr = 1e-3\n",
    "optimizer = optim.Adam(model.parameters(), lr=lr)\n",
    "criterion = nn.MSELoss()\n",
    "early_stopper = EarlyStopper(patience=3, min_delta=10)"
   ]
  },
  {
   "cell_type": "code",
   "execution_count": 15,
   "metadata": {},
   "outputs": [],
   "source": [
    "def train(model, train_dataloader, val_dataloader, optimizer, criterion, device, num_epochs=10):\n",
    "    train_losses = []\n",
    "    val_losses = []\n",
    "    train_mae = []\n",
    "    val_mae = []\n",
    "    train_rmse = []\n",
    "    val_rmse = []\n",
    "\n",
    "    for epoch in range(num_epochs):\n",
    "        model.train()  # Set the model to training mode\n",
    "        total_loss = 0\n",
    "        total_val_loss = 0\n",
    "        total_mae = 0\n",
    "        total_val_mae = 0\n",
    "\n",
    "        # Training Loop\n",
    "        for batch in train_dataloader:\n",
    "            user, event, target = batch[:, 0].to(device), batch[:, 1].to(device), batch[:, 2].float().to(device)\n",
    "            optimizer.zero_grad()\n",
    "            output = model(user, event).squeeze()\n",
    "            loss = criterion(output, target)\n",
    "            loss.backward()\n",
    "            optimizer.step()\n",
    "            total_loss += loss.item()\n",
    "            total_mae += torch.mean(torch.abs(output - target)).item()\n",
    "\n",
    "        # Validation Loop\n",
    "        model.eval()  # Set the model to evaluation mode before validation\n",
    "        with torch.no_grad():\n",
    "            for batch in val_dataloader:\n",
    "                user, event, target = batch[:, 0].to(device), batch[:, 1].to(device), batch[:, 2].float().to(device)\n",
    "                output = model(user, event).squeeze()\n",
    "                val_loss = criterion(output, target)\n",
    "                total_val_loss += val_loss.item()\n",
    "                total_val_mae += torch.mean(torch.abs(output - target)).item()\n",
    "\n",
    "        avg_train_loss = total_loss / len(train_dataloader)\n",
    "        avg_val_loss = total_val_loss / len(val_dataloader)\n",
    "        avg_train_mae = total_mae / len(train_dataloader)\n",
    "        avg_val_mae = total_val_mae / len(val_dataloader)\n",
    "        avg_train_rmse = np.sqrt(avg_train_loss)\n",
    "        avg_val_rmse = np.sqrt(avg_val_loss)\n",
    "\n",
    "        train_losses.append(avg_train_loss)\n",
    "        val_losses.append(avg_val_loss)\n",
    "        train_mae.append(avg_train_mae)\n",
    "        val_mae.append(avg_val_mae)\n",
    "        train_rmse.append(avg_train_rmse)\n",
    "        val_rmse.append(avg_val_rmse)\n",
    "\n",
    "        print(f'Epoch: {epoch+1} -> MSE Loss: {avg_train_loss} | RMSE Loss: {avg_train_rmse} | MAE: {avg_train_mae} | Val Loss: {avg_val_loss} | Val RMSE Loss: {avg_val_rmse} | Val MAE: {avg_val_mae}')\n",
    "\n",
    "        if early_stopper.early_stop(avg_val_loss):\n",
    "            break\n",
    "\n",
    "    return train_losses, val_losses, train_mae, val_mae, train_rmse, val_rmse"
   ]
  },
  {
   "cell_type": "code",
   "execution_count": 16,
   "metadata": {},
   "outputs": [
    {
     "name": "stdout",
     "output_type": "stream",
     "text": [
      "Epoch: 1 -> MSE Loss: 1.6092376871658032 | RMSE Loss: 1.268557325139784 | MAE: 0.9662076675815623 | Val Loss: 1.00621250624093 | Val RMSE Loss: 1.0031014436441261 | Val MAE: 0.8035314606782347\n",
      "Epoch: 2 -> MSE Loss: 0.9673606085179965 | RMSE Loss: 0.9835449194205603 | MAE: 0.7839005974564217 | Val Loss: 0.9597323733015944 | Val RMSE Loss: 0.979659314915953 | Val MAE: 0.7819480871240171\n",
      "Epoch: 3 -> MSE Loss: 0.9184774930543228 | RMSE Loss: 0.9583723144239522 | MAE: 0.7609560612930673 | Val Loss: 0.9364457951186184 | Val RMSE Loss: 0.9677012943665098 | Val MAE: 0.7661654583562296\n",
      "Epoch: 4 -> MSE Loss: 0.8940194733043724 | RMSE Loss: 0.9455260299454332 | MAE: 0.7494968288997089 | Val Loss: 0.9500961118993668 | Val RMSE Loss: 0.9747287375979877 | Val MAE: 0.76547596496515\n",
      "Epoch: 5 -> MSE Loss: 0.8765327859598436 | RMSE Loss: 0.936233296758796 | MAE: 0.7414759909674558 | Val Loss: 0.9305129424451639 | Val RMSE Loss: 0.9646309877073014 | Val MAE: 0.766931509247984\n",
      "Epoch: 6 -> MSE Loss: 0.8569567303286433 | RMSE Loss: 0.9257195743467043 | MAE: 0.732884966996687 | Val Loss: 0.9405555477538429 | Val RMSE Loss: 0.9698224310428394 | Val MAE: 0.7597270232800859\n",
      "Epoch: 7 -> MSE Loss: 0.8361638579795609 | RMSE Loss: 0.9144199571201194 | MAE: 0.7233753034682162 | Val Loss: 0.9511177957819673 | Val RMSE Loss: 0.9752526830426909 | Val MAE: 0.780628257475722\n",
      "Epoch: 8 -> MSE Loss: 0.8132602633761444 | RMSE Loss: 0.9018094385046901 | MAE: 0.7121134291071374 | Val Loss: 0.947939312115264 | Val RMSE Loss: 0.9736217500216725 | Val MAE: 0.7711873860024034\n",
      "Epoch: 9 -> MSE Loss: 0.7917028053927777 | RMSE Loss: 0.8897768289817272 | MAE: 0.7020419596481934 | Val Loss: 0.9687155035737985 | Val RMSE Loss: 0.9842334598934332 | Val MAE: 0.7860192405149198\n",
      "Epoch: 10 -> MSE Loss: 0.7687029829348074 | RMSE Loss: 0.8767570831962564 | MAE: 0.6919944099843629 | Val Loss: 0.9597874005762533 | Val RMSE Loss: 0.9796873994169024 | Val MAE: 0.7725272947987809\n"
     ]
    }
   ],
   "source": [
    "train_losses, val_losses, train_mae, val_mae, train_rmse, val_rmse = train(model, train_dataloader, val_dataloader, optimizer, criterion, device, num_epochs)"
   ]
  },
  {
   "cell_type": "code",
   "execution_count": 21,
   "metadata": {},
   "outputs": [
    {
     "data": {
      "image/png": "[encoded data removed]",
      "text/plain": [
       "<Figure size 1800x600 with 3 Axes>"
      ]
     },
     "metadata": {},
     "output_type": "display_data"
    }
   ],
   "source": [
    "# Plotting\n",
    "epochs = range(1, len(train_losses) + 1)\n",
    "\n",
    "plt.figure(figsize=(18, 6))\n",
    "\n",
    "# Plot Losses\n",
    "plt.subplot(1, 3, 1)\n",
    "plt.plot(epochs, train_losses, 'b', label='Training Loss')\n",
    "plt.plot(epochs, val_losses, 'r', label='Validation Loss')\n",
    "plt.title('MSE Loss')\n",
    "plt.xlabel('Epochs')\n",
    "plt.ylabel('Loss')\n",
    "plt.legend()\n",
    "\n",
    "# Plot MAE\n",
    "plt.subplot(1, 3, 2)\n",
    "plt.plot(epochs, train_mae, 'b', label='Training MAE')\n",
    "plt.plot(epochs, val_mae, 'r', label='Validation MAE')\n",
    "plt.title('Mean Absolute Error (MAE)')\n",
    "plt.xlabel('Epochs')\n",
    "plt.ylabel('MAE')\n",
    "plt.legend()\n",
    "\n",
    "# Plot RMSE\n",
    "plt.subplot(1, 3, 3)\n",
    "plt.plot(epochs, train_rmse, 'b', label='Training RMSE')\n",
    "plt.plot(epochs, val_rmse, 'r', label='Validation RMSE')\n",
    "plt.title('Root Mean Square Error (RMSE)')\n",
    "plt.xlabel('Epochs')\n",
    "plt.ylabel('RMSE')\n",
    "plt.legend()\n",
    "\n",
    "plt.tight_layout()\n",
    "plt.show()\n"
   ]
  },
  {
   "cell_type": "code",
   "execution_count": 18,
   "metadata": {},
   "outputs": [
    {
     "data": {
      "text/plain": [
       "tensor([[4.1460]], device='cuda:0', grad_fn=<AddmmBackward0>)"
      ]
     },
     "execution_count": 18,
     "metadata": {},
     "output_type": "execute_result"
    }
   ],
   "source": [
    "sample = [808, 881]\n",
    "user = torch.tensor([user_to_idx[sample[0]]]).to(device)\n",
    "event = torch.tensor([event_to_idx[sample[1]]]).to(device)\n",
    "model.eval()\n",
    "model(user, event)"
   ]
  },
  {
   "cell_type": "code",
   "execution_count": 19,
   "metadata": {},
   "outputs": [],
   "source": [
    "def evaluate(model, dataloader, criterion, device):\n",
    "    model.eval()\n",
    "    total_loss = 0\n",
    "    total_mae = 0\n",
    "    with torch.no_grad():\n",
    "        for batch in dataloader:\n",
    "            user, event, target = batch[:, 0].to(device), batch[:, 1].to(device), batch[:, 2].float().to(device)\n",
    "            output = model(user, event).squeeze()\n",
    "            loss = criterion(output, target)\n",
    "            total_loss += loss.item()\n",
    "            total_mae += torch.mean(torch.abs(output - target)).item()\n",
    "    \n",
    "    avg_loss = total_loss / len(dataloader)\n",
    "    avg_mae = total_mae / len(dataloader)\n",
    "    avg_rmse = np.sqrt(avg_loss)\n",
    "    \n",
    "    print(f'Test MSE Loss: {avg_loss} | Test RMSE: {avg_rmse} | Test MAE: {avg_mae}')\n",
    "    \n",
    "    return avg_loss, avg_rmse, avg_mae"
   ]
  },
  {
   "cell_type": "code",
   "execution_count": 20,
   "metadata": {},
   "outputs": [
    {
     "name": "stdout",
     "output_type": "stream",
     "text": [
      "Test MSE Loss: 0.949821580141878 | Test RMSE: 0.9745879027270337 | Test MAE: 0.7672696197375702\n"
     ]
    }
   ],
   "source": [
    "test_loss, test_rmse, test_mae = evaluate(model, test_dataloader, criterion, device)"
   ]
  }
 ],
 "metadata": {
  "kernelspec": {
   "display_name": "torch",
   "language": "python",
   "name": "python3"
  },
  "language_info": {
   "codemirror_mode": {
    "name": "ipython",
    "version": 3
   },
   "file_extension": ".py",
   "mimetype": "text/x-python",
   "name": "python",
   "nbconvert_exporter": "python",
   "pygments_lexer": "ipython3",
   "version": "3.9.19"
  }
 },
 "nbformat": 4,
 "nbformat_minor": 2
}
