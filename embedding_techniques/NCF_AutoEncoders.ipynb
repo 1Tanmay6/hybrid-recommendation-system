{
 "cells": [
  {
   "cell_type": "code",
   "execution_count": null,
   "metadata": {},
   "outputs": [],
   "source": [
    "import torch\n",
    "import torch.nn as nn\n",
    "import torch.optim as optim\n",
    "import torch.nn.functional as F\n",
    "from torch.utils.data import DataLoader\n",
    "import pandas as pd\n",
    "from sklearn.model_selection import train_test_split\n",
    "from matplotlib import pyplot as plt"
   ]
  },
  {
   "cell_type": "code",
   "execution_count": null,
   "metadata": {},
   "outputs": [
    {
     "data": {
      "text/html": [
       "<div>\n",
       "<style scoped>\n",
       "    .dataframe tbody tr th:only-of-type {\n",
       "        vertical-align: middle;\n",
       "    }\n",
       "\n",
       "    .dataframe tbody tr th {\n",
       "        vertical-align: top;\n",
       "    }\n",
       "\n",
       "    .dataframe thead th {\n",
       "        text-align: right;\n",
       "    }\n",
       "</style>\n",
       "<table border=\"1\" class=\"dataframe\">\n",
       "  <thead>\n",
       "    <tr style=\"text-align: right;\">\n",
       "      <th></th>\n",
       "      <th>user</th>\n",
       "      <th>event</th>\n",
       "      <th>rating</th>\n",
       "      <th>timestamp</th>\n",
       "    </tr>\n",
       "  </thead>\n",
       "  <tbody>\n",
       "    <tr>\n",
       "      <th>0</th>\n",
       "      <td>196</td>\n",
       "      <td>242</td>\n",
       "      <td>3</td>\n",
       "      <td>881250949</td>\n",
       "    </tr>\n",
       "    <tr>\n",
       "      <th>1</th>\n",
       "      <td>186</td>\n",
       "      <td>302</td>\n",
       "      <td>3</td>\n",
       "      <td>891717742</td>\n",
       "    </tr>\n",
       "    <tr>\n",
       "      <th>2</th>\n",
       "      <td>22</td>\n",
       "      <td>377</td>\n",
       "      <td>1</td>\n",
       "      <td>878887116</td>\n",
       "    </tr>\n",
       "    <tr>\n",
       "      <th>3</th>\n",
       "      <td>244</td>\n",
       "      <td>51</td>\n",
       "      <td>2</td>\n",
       "      <td>880606923</td>\n",
       "    </tr>\n",
       "    <tr>\n",
       "      <th>4</th>\n",
       "      <td>166</td>\n",
       "      <td>346</td>\n",
       "      <td>1</td>\n",
       "      <td>886397596</td>\n",
       "    </tr>\n",
       "  </tbody>\n",
       "</table>\n",
       "</div>"
      ],
      "text/plain": [
       "   user  event  rating  timestamp\n",
       "0   196    242       3  881250949\n",
       "1   186    302       3  891717742\n",
       "2    22    377       1  878887116\n",
       "3   244     51       2  880606923\n",
       "4   166    346       1  886397596"
      ]
     },
     "metadata": {},
     "output_type": "display_data"
    }
   ],
   "source": [
    "data = pd.read_table('../data/u.data')\n",
    "data.head()"
   ]
  },
  {
   "cell_type": "markdown",
   "metadata": {},
   "source": [
    "### Pre-processing the data"
   ]
  },
  {
   "cell_type": "markdown",
   "metadata": {},
   "source": [
    "#### 3.1 Finding all unique values from data for events and users"
   ]
  },
  {
   "cell_type": "code",
   "execution_count": null,
   "metadata": {},
   "outputs": [
    {
     "data": {
      "text/plain": [
       "(array([242, 302, 377,  51, 346, 474, 265, 465, 451,  86]),\n",
       " array([196, 186,  22, 244, 166, 298, 115, 253, 305,   6]))"
      ]
     },
     "metadata": {},
     "output_type": "display_data"
    }
   ],
   "source": [
    "users = data['user'].unique()\n",
    "events = data['event'].unique()\n",
    "\n",
    "events[:10], users[:10]"
   ]
  },
  {
   "cell_type": "markdown",
   "metadata": {},
   "source": [
    "#### 3.2 Assigning idx's to unique users and events"
   ]
  },
  {
   "cell_type": "code",
   "execution_count": null,
   "metadata": {},
   "outputs": [
    {
     "name": "stdout",
     "output_type": "stream",
     "text": [
      "User: 196, assigned index: 0\n",
      "Event: 242, assigned index: 0\n"
     ]
    }
   ],
   "source": [
    "user_to_idx = {user: idx for idx, user in enumerate(users)}\n",
    "event_to_idx = {event: idx for idx, event in enumerate(events)}\n",
    "idx_to_user = {idx: user for user, idx in user_to_idx.items()} # For reverse lookup\n",
    "idx_to_event = {idx: event for event, idx in event_to_idx.items()} # For reverse lookup\n",
    "\n",
    "for key, value in user_to_idx.items():\n",
    "    if value == 0:\n",
    "        print(f'User: {key}, assigned index: {value}')\n",
    "\n",
    "for key, value in event_to_idx.items():\n",
    "    if value == 0:\n",
    "        print(f'Event: {key}, assigned index: {value}')"
   ]
  },
  {
   "cell_type": "markdown",
   "metadata": {},
   "source": [
    "#### 3.3 Using the idx to add column in dataframe"
   ]
  },
  {
   "cell_type": "code",
   "execution_count": null,
   "metadata": {},
   "outputs": [
    {
     "data": {
      "text/html": [
       "<div>\n",
       "<style scoped>\n",
       "    .dataframe tbody tr th:only-of-type {\n",
       "        vertical-align: middle;\n",
       "    }\n",
       "\n",
       "    .dataframe tbody tr th {\n",
       "        vertical-align: top;\n",
       "    }\n",
       "\n",
       "    .dataframe thead th {\n",
       "        text-align: right;\n",
       "    }\n",
       "</style>\n",
       "<table border=\"1\" class=\"dataframe\">\n",
       "  <thead>\n",
       "    <tr style=\"text-align: right;\">\n",
       "      <th></th>\n",
       "      <th>user</th>\n",
       "      <th>event</th>\n",
       "      <th>rating</th>\n",
       "      <th>timestamp</th>\n",
       "      <th>user_idx</th>\n",
       "      <th>event_idx</th>\n",
       "    </tr>\n",
       "  </thead>\n",
       "  <tbody>\n",
       "    <tr>\n",
       "      <th>0</th>\n",
       "      <td>196</td>\n",
       "      <td>242</td>\n",
       "      <td>3</td>\n",
       "      <td>881250949</td>\n",
       "      <td>0</td>\n",
       "      <td>0</td>\n",
       "    </tr>\n",
       "    <tr>\n",
       "      <th>1</th>\n",
       "      <td>186</td>\n",
       "      <td>302</td>\n",
       "      <td>3</td>\n",
       "      <td>891717742</td>\n",
       "      <td>1</td>\n",
       "      <td>1</td>\n",
       "    </tr>\n",
       "    <tr>\n",
       "      <th>2</th>\n",
       "      <td>22</td>\n",
       "      <td>377</td>\n",
       "      <td>1</td>\n",
       "      <td>878887116</td>\n",
       "      <td>2</td>\n",
       "      <td>2</td>\n",
       "    </tr>\n",
       "    <tr>\n",
       "      <th>3</th>\n",
       "      <td>244</td>\n",
       "      <td>51</td>\n",
       "      <td>2</td>\n",
       "      <td>880606923</td>\n",
       "      <td>3</td>\n",
       "      <td>3</td>\n",
       "    </tr>\n",
       "    <tr>\n",
       "      <th>4</th>\n",
       "      <td>166</td>\n",
       "      <td>346</td>\n",
       "      <td>1</td>\n",
       "      <td>886397596</td>\n",
       "      <td>4</td>\n",
       "      <td>4</td>\n",
       "    </tr>\n",
       "  </tbody>\n",
       "</table>\n",
       "</div>"
      ],
      "text/plain": [
       "   user  event  rating  timestamp  user_idx  event_idx\n",
       "0   196    242       3  881250949         0          0\n",
       "1   186    302       3  891717742         1          1\n",
       "2    22    377       1  878887116         2          2\n",
       "3   244     51       2  880606923         3          3\n",
       "4   166    346       1  886397596         4          4"
      ]
     },
     "metadata": {},
     "output_type": "display_data"
    }
   ],
   "source": [
    "data['user_idx'] = data['user'].map(user_to_idx)\n",
    "data['event_idx'] = data['event'].map(event_to_idx)\n",
    "\n",
    "data.head()"
   ]
  },
  {
   "cell_type": "markdown",
   "metadata": {},
   "source": [
    "#### 3.4 Splitting the data into training and testing"
   ]
  },
  {
   "cell_type": "code",
   "execution_count": null,
   "metadata": {},
   "outputs": [
    {
     "data": {
      "text/plain": [
       "(60000, 20000, 20000)"
      ]
     },
     "metadata": {},
     "output_type": "display_data"
    }
   ],
   "source": [
    "train_data, test_data = train_test_split(data, test_size=0.2, random_state=21, shuffle=True)\n",
    "train_data, val_data = train_test_split(train_data, test_size=0.25, random_state=21, shuffle=True)\n",
    "len(train_data), len(val_data), len(test_data)"
   ]
  },
  {
   "cell_type": "markdown",
   "metadata": {},
   "source": [
    "#### 3.5 Creating the train and test dataloaders"
   ]
  },
  {
   "cell_type": "code",
   "execution_count": null,
   "metadata": {},
   "outputs": [],
   "source": [
    "train_dataloader = DataLoader(train_data[['user_idx', 'event_idx', 'rating']].values, batch_size=64, shuffle=True)\n",
    "val_dataloader = DataLoader(val_data[['user_idx', 'event_idx', 'rating']].values, batch_size=64, shuffle=False)\n",
    "test_dataloader = DataLoader(test_data[['user_idx', 'event_idx', 'rating']].values, batch_size=64, shuffle=False)"
   ]
  },
  {
   "cell_type": "code",
   "execution_count": null,
   "metadata": {},
   "outputs": [],
   "source": [
    "class Autoencoder(nn.Module):\n",
    "    def __init__(self, input_dim, embedding_dim):\n",
    "        super(Autoencoder, self).__init__()\n",
    "        self.encoder = nn.Sequential(\n",
    "            nn.Linear(input_dim, 128),\n",
    "            nn.ReLU(),\n",
    "            nn.Linear(128, embedding_dim)\n",
    "        )\n",
    "        self.decoder = nn.Sequential(\n",
    "            nn.Linear(embedding_dim, 128),\n",
    "            nn.ReLU(),\n",
    "            nn.Linear(128, input_dim)\n",
    "        )\n",
    "    \n",
    "    def forward(self, x):\n",
    "        encoded = self.encoder(x)\n",
    "        decoded = self.decoder(encoded)\n",
    "        return encoded, decoded\n"
   ]
  },
  {
   "cell_type": "code",
   "execution_count": null,
   "metadata": {},
   "outputs": [],
   "source": [
    "class NCF(nn.Module):\n",
    "    def __init__(self, num_users, num_items, embedding_dim=96, hidden_dim=64):\n",
    "        super(NCF, self).__init__()\n",
    "        self.user_autoencoder = Autoencoder(num_users, embedding_dim)\n",
    "        self.item_autoencoder = Autoencoder(num_items, embedding_dim)\n",
    "        self.fc1 = nn.Linear(embedding_dim * 2, hidden_dim)\n",
    "        self.fc2 = nn.Linear(hidden_dim, 1)\n",
    "        \n",
    "    def forward(self, user, item):\n",
    "        user_onehot = F.one_hot(user, num_classes=self.user_autoencoder.encoder[0].in_features).float()\n",
    "        item_onehot = F.one_hot(item, num_classes=self.item_autoencoder.encoder[0].in_features).float()\n",
    "        \n",
    "        user_embedded, _ = self.user_autoencoder(user_onehot)\n",
    "        item_embedded, _ = self.item_autoencoder(item_onehot)\n",
    "        \n",
    "        x = torch.cat([user_embedded, item_embedded], dim=-1)\n",
    "        x = F.relu(self.fc1(x))\n",
    "        x = self.fc2(x)\n",
    "        return x"
   ]
  },
  {
   "cell_type": "code",
   "execution_count": null,
   "metadata": {},
   "outputs": [],
   "source": [
    "def train_autoencoder(autoencoder, dataloader, num_epochs=10, lr=1e-3):\n",
    "    optimizer = optim.Adam(autoencoder.parameters(), lr=lr)\n",
    "    criterion = nn.MSELoss()\n",
    "    \n",
    "    for epoch in range(num_epochs):\n",
    "        total_loss = 0\n",
    "        for batch in dataloader:\n",
    "            optimizer.zero_grad()\n",
    "            _, decoded = autoencoder(batch)\n",
    "            loss = criterion(decoded, batch)\n",
    "            loss.backward()\n",
    "            optimizer.step()\n",
    "            total_loss += loss.item()\n",
    "        print(f'Epoch {epoch+1}/{num_epochs}, Loss: {total_loss/len(dataloader)}')\n"
   ]
  },
  {
   "cell_type": "code",
   "execution_count": null,
   "metadata": {},
   "outputs": [],
   "source": [
    "class EarlyStopper:\n",
    "    def __init__(self, patience=1, min_delta=0):\n",
    "        self.patience = patience\n",
    "        self.min_delta = min_delta\n",
    "        self.counter = 0\n",
    "        self.min_validation_loss = float('inf')\n",
    "\n",
    "    def early_stop(self, validation_loss):\n",
    "        if validation_loss < self.min_validation_loss:\n",
    "            self.min_validation_loss = validation_loss\n",
    "            self.counter = 0\n",
    "        elif validation_loss > (self.min_validation_loss + self.min_delta):\n",
    "            self.counter += 1\n",
    "            if self.counter >= self.patience:\n",
    "                return True\n",
    "        return False"
   ]
  },
  {
   "cell_type": "code",
   "execution_count": null,
   "metadata": {},
   "outputs": [],
   "source": [
    "def train(model, train_dataloader, val_dataloader, optimizer, criterion, device, num_epochs=10):\n",
    "    model.train()\n",
    "    early_stopper = EarlyStopper(patience=3, min_delta=10)\n",
    "    l2_lambda = 1e-4\n",
    "\n",
    "    train_losses, val_losses, train_mae, val_mae, train_rmse, val_rmse = [], [], [], [], [], []\n",
    "\n",
    "    for epoch in range(num_epochs):\n",
    "        total_loss = 0\n",
    "        total_val_loss = 0\n",
    "        total_train_mae = 0\n",
    "        total_val_mae = 0\n",
    "        total_train_rmse = 0\n",
    "        total_val_rmse = 0\n",
    "\n",
    "        for batch in train_dataloader:\n",
    "            user, item, target = batch[:, 0].to(device), batch[:, 1].to(device), batch[:, 2].float().to(device)\n",
    "            optimizer.zero_grad()\n",
    "            output = model(user, item).squeeze()\n",
    "            loss = criterion(output, target) + l2_lambda * (model.fc1.weight.norm() + model.fc2.weight.norm())\n",
    "            loss.backward()\n",
    "            optimizer.step()\n",
    "            total_loss += loss.item()\n",
    "\n",
    "            total_train_mae += torch.abs(output - target).mean().item()\n",
    "            total_train_rmse += torch.sqrt(torch.mean((output - target) ** 2)).item()\n",
    "\n",
    "        model.eval()\n",
    "        with torch.no_grad():\n",
    "            for batch in val_dataloader:\n",
    "                user, item, target = batch[:, 0].to(device), batch[:, 1].to(device), batch[:, 2].float().to(device)\n",
    "                output = model(user, item).squeeze()\n",
    "                val_loss = criterion(output, target)\n",
    "                total_val_loss += val_loss.item()\n",
    "\n",
    "                total_val_mae += torch.abs(output - target).mean().item()\n",
    "                total_val_rmse += torch.sqrt(torch.mean((output - target) ** 2)).item()\n",
    "\n",
    "        avg_train_loss = total_loss / len(train_dataloader)\n",
    "        avg_val_loss = total_val_loss / len(val_dataloader)\n",
    "        avg_train_mae = total_train_mae / len(train_dataloader)\n",
    "        avg_val_mae = total_val_mae / len(val_dataloader)\n",
    "        avg_train_rmse = total_train_rmse / len(train_dataloader)\n",
    "        avg_val_rmse = total_val_rmse / len(val_dataloader)\n",
    "\n",
    "        train_losses.append(avg_train_loss)\n",
    "        val_losses.append(avg_val_loss)\n",
    "        train_mae.append(avg_train_mae)\n",
    "        val_mae.append(avg_val_mae)\n",
    "        train_rmse.append(avg_train_rmse)\n",
    "        val_rmse.append(avg_val_rmse)\n",
    "\n",
    "        if early_stopper.early_stop(avg_val_loss):\n",
    "            print(f\"Early stopping at epoch {epoch+1}\")\n",
    "            break\n",
    "\n",
    "        print(f'Epoch: {epoch+1} -> Train Loss: {avg_train_loss:.4f} | Val Loss: {avg_val_loss:.4f} | Train MAE: {avg_train_mae:.4f} | Val MAE: {avg_val_mae:.4f} | Train RMSE: {avg_train_rmse:.4f} | Val RMSE: {avg_val_rmse:.4f}')\n",
    "\n",
    "    return train_losses, val_losses, train_mae, val_mae, train_rmse, val_rmse"
   ]
  },
  {
   "cell_type": "code",
   "execution_count": null,
   "metadata": {},
   "outputs": [],
   "source": [
    "device = torch.device('cuda' if torch.cuda.is_available() else 'cpu')\n",
    "num_users = len(users)\n",
    "num_items = len(events)\n",
    "embedding_dim = 96"
   ]
  },
  {
   "cell_type": "code",
   "execution_count": null,
   "metadata": {},
   "outputs": [],
   "source": [
    "user_autoencoder = Autoencoder(num_users, embedding_dim).to(device)\n",
    "item_autoencoder = Autoencoder(num_items, embedding_dim).to(device)\n",
    "\n",
    "user_dataloader = DataLoader(torch.eye(num_users).to(device), batch_size=64, shuffle=True)\n",
    "item_dataloader = DataLoader(torch.eye(num_items).to(device), batch_size=64, shuffle=True)"
   ]
  },
  {
   "cell_type": "code",
   "execution_count": null,
   "metadata": {},
   "outputs": [
    {
     "name": "stdout",
     "output_type": "stream",
     "text": [
      "Training User Autoencoder:\n",
      "Epoch 1/10, Loss: 0.0023194567610820135\n",
      "Epoch 2/10, Loss: 0.0011412668041884898\n",
      "Epoch 3/10, Loss: 0.0010762024748449525\n",
      "Epoch 4/10, Loss: 0.0010598533243561783\n",
      "Epoch 5/10, Loss: 0.0010548903374001384\n",
      "Epoch 6/10, Loss: 0.0010518170427531004\n",
      "Epoch 7/10, Loss: 0.0010491991338009636\n",
      "Epoch 8/10, Loss: 0.0010466828399027387\n",
      "Epoch 9/10, Loss: 0.001043823299308618\n",
      "Epoch 10/10, Loss: 0.0010410123815139136\n",
      "\n",
      "Training Item Autoencoder:\n",
      "Epoch 1/10, Loss: 0.0014418758305341558\n",
      "Epoch 2/10, Loss: 0.0006119534610425708\n",
      "Epoch 3/10, Loss: 0.0005953932737207247\n",
      "Epoch 4/10, Loss: 0.0005933003181039736\n",
      "Epoch 5/10, Loss: 0.0005922730800833691\n",
      "Epoch 6/10, Loss: 0.0005913278135402059\n",
      "Epoch 7/10, Loss: 0.000590417156841054\n",
      "Epoch 8/10, Loss: 0.0005895959739400833\n",
      "Epoch 9/10, Loss: 0.0005885995363954593\n",
      "Epoch 10/10, Loss: 0.0005876977100140519\n"
     ]
    }
   ],
   "source": [
    "print(\"Training User Autoencoder:\")\n",
    "train_autoencoder(user_autoencoder, user_dataloader)\n",
    "print(\"\\nTraining Item Autoencoder:\")\n",
    "train_autoencoder(item_autoencoder, item_dataloader)"
   ]
  },
  {
   "cell_type": "code",
   "execution_count": null,
   "metadata": {},
   "outputs": [
    {
     "data": {
      "text/plain": [
       "<All keys matched successfully>"
      ]
     },
     "metadata": {},
     "output_type": "display_data"
    }
   ],
   "source": [
    "model = NCF(num_users, num_items, embedding_dim).to(device)\n",
    "model.user_autoencoder.load_state_dict(user_autoencoder.state_dict())\n",
    "model.item_autoencoder.load_state_dict(item_autoencoder.state_dict())"
   ]
  },
  {
   "cell_type": "code",
   "execution_count": null,
   "metadata": {},
   "outputs": [],
   "source": [
    "optimizer = optim.Adam(model.parameters(), lr=1e-3)\n",
    "criterion = nn.MSELoss()"
   ]
  },
  {
   "cell_type": "code",
   "execution_count": null,
   "metadata": {},
   "outputs": [
    {
     "name": "stdout",
     "output_type": "stream",
     "text": [
      "Epoch: 1 -> Train Loss: 1.2822 | Val Loss: 0.9388 | Train MAE: 0.8629 | Val MAE: 0.7607 | Train RMSE: 1.0600 | Val RMSE: 0.9645\n",
      "Epoch: 2 -> Train Loss: 0.9089 | Val Loss: 0.9187 | Train MAE: 0.7576 | Val MAE: 0.7663 | Train RMSE: 0.9489 | Val RMSE: 0.9549\n",
      "Epoch: 3 -> Train Loss: 0.8944 | Val Loss: 0.9314 | Train MAE: 0.7507 | Val MAE: 0.7783 | Train RMSE: 0.9413 | Val RMSE: 0.9618\n",
      "Epoch: 4 -> Train Loss: 0.8835 | Val Loss: 0.9152 | Train MAE: 0.7457 | Val MAE: 0.7500 | Train RMSE: 0.9359 | Val RMSE: 0.9522\n",
      "Epoch: 5 -> Train Loss: 0.8793 | Val Loss: 0.9091 | Train MAE: 0.7430 | Val MAE: 0.7623 | Train RMSE: 0.9335 | Val RMSE: 0.9499\n",
      "Epoch: 6 -> Train Loss: 0.8773 | Val Loss: 0.9041 | Train MAE: 0.7419 | Val MAE: 0.7539 | Train RMSE: 0.9323 | Val RMSE: 0.9470\n",
      "Epoch: 7 -> Train Loss: 0.8745 | Val Loss: 0.9009 | Train MAE: 0.7409 | Val MAE: 0.7496 | Train RMSE: 0.9309 | Val RMSE: 0.9452\n",
      "Epoch: 8 -> Train Loss: 0.8707 | Val Loss: 0.9019 | Train MAE: 0.7386 | Val MAE: 0.7535 | Train RMSE: 0.9286 | Val RMSE: 0.9458\n",
      "Epoch: 9 -> Train Loss: 0.8675 | Val Loss: 0.9244 | Train MAE: 0.7372 | Val MAE: 0.7498 | Train RMSE: 0.9274 | Val RMSE: 0.9568\n",
      "Epoch: 10 -> Train Loss: 0.8651 | Val Loss: 0.9014 | Train MAE: 0.7360 | Val MAE: 0.7555 | Train RMSE: 0.9258 | Val RMSE: 0.9456\n"
     ]
    }
   ],
   "source": [
    "train_losses, val_losses, train_mae, val_mae, train_rmse, val_rmse = train(\n",
    "    model, train_dataloader, val_dataloader, optimizer, criterion, device, num_epochs=10\n",
    ")"
   ]
  },
  {
   "cell_type": "code",
   "execution_count": null,
   "metadata": {},
   "outputs": [],
   "source": [
    "def evaluate(model, dataloader, device):\n",
    "    model.eval()\n",
    "    total_loss = 0\n",
    "    total_mae = 0\n",
    "    total_rmse = 0\n",
    "    with torch.no_grad():\n",
    "        for batch in dataloader:\n",
    "            user, event, target = batch[:, 0].to(device), batch[:, 1].to(device), batch[:, 2].float().to(device)\n",
    "            output = model(user, event).squeeze()\n",
    "            loss = criterion(output, target)\n",
    "            total_loss += loss.item()\n",
    "            total_mae += torch.abs(output - target).mean().item()\n",
    "            total_rmse += torch.sqrt(torch.mean((output - target) ** 2)).item()\n",
    "\n",
    "    avg_loss = total_loss / len(dataloader)\n",
    "    avg_mae = total_mae / len(dataloader)\n",
    "    avg_rmse = total_rmse / len(dataloader)\n",
    "    return avg_loss, avg_mae, avg_rmse"
   ]
  },
  {
   "cell_type": "code",
   "execution_count": null,
   "metadata": {},
   "outputs": [
    {
     "data": {
      "image/png": "[encoded data removed]",
      "text/plain": [
       "<Figure size 1800x400 with 3 Axes>"
      ]
     },
     "metadata": {},
     "output_type": "display_data"
    }
   ],
   "source": [
    "epochs = range(1, len(train_losses) + 1)\n",
    "\n",
    "plt.figure(figsize=(18, 4))\n",
    "\n",
    "plt.subplot(1, 3, 1)\n",
    "plt.plot(epochs, train_losses,  label='Train Loss')\n",
    "plt.plot(epochs, val_losses,  label='Val Loss')\n",
    "plt.title('Loss over Epochs')\n",
    "plt.xlabel('Epochs')\n",
    "plt.ylabel('Loss')\n",
    "plt.legend()\n",
    "\n",
    "plt.subplot(1, 3, 2)\n",
    "plt.plot(epochs, train_mae,  label='Train MAE')\n",
    "plt.plot(epochs, val_mae,  label='Val MAE')\n",
    "plt.title('MAE over Epochs')\n",
    "plt.xlabel('Epochs')\n",
    "plt.ylabel('MAE')\n",
    "plt.legend()\n",
    "\n",
    "plt.subplot(1, 3, 3)\n",
    "plt.plot(epochs, train_rmse,  label='Train RMSE')\n",
    "plt.plot(epochs, val_rmse,  label='Val RMSE')\n",
    "plt.title('RMSE over Epochs')\n",
    "plt.xlabel('Epochs')\n",
    "plt.ylabel('RMSE')\n",
    "plt.legend()\n",
    "\n",
    "plt.tight_layout()\n",
    "plt.show()"
   ]
  },
  {
   "cell_type": "code",
   "execution_count": null,
   "metadata": {},
   "outputs": [
    {
     "name": "stdout",
     "output_type": "stream",
     "text": [
      "\n",
      "Test Loss: 0.8964 | Test MAE: 0.7531 | Test RMSE: 0.9429\n"
     ]
    }
   ],
   "source": [
    "test_loss, test_mae, test_rmse = evaluate(model, test_dataloader, device)\n",
    "print(f\"\\nTest Loss: {test_loss:.4f} | Test MAE: {test_mae:.4f} | Test RMSE: {test_rmse:.4f}\")"
   ]
  }
 ],
 "metadata": {
  "language_info": {
   "name": "python"
  }
 },
 "nbformat": 4,
 "nbformat_minor": 2
}
