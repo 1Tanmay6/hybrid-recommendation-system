{
 "cells": [
  {
   "cell_type": "code",
   "execution_count": 1,
   "metadata": {},
   "outputs": [],
   "source": [
    "import torch\n",
    "import torch.nn as nn\n",
    "import torch.optim as optim\n",
    "import torch.nn.functional as F\n",
    "from torch.utils.data import DataLoader, Dataset\n",
    "import pandas as pd\n",
    "from sklearn.model_selection import train_test_split\n",
    "import matplotlib.pyplot as plt"
   ]
  },
  {
   "cell_type": "code",
   "execution_count": 2,
   "metadata": {},
   "outputs": [],
   "source": [
    "data = pd.read_table('../data/u.data')"
   ]
  },
  {
   "cell_type": "code",
   "execution_count": 3,
   "metadata": {},
   "outputs": [
    {
     "data": {
      "text/html": [
       "<div>\n",
       "<style scoped>\n",
       "    .dataframe tbody tr th:only-of-type {\n",
       "        vertical-align: middle;\n",
       "    }\n",
       "\n",
       "    .dataframe tbody tr th {\n",
       "        vertical-align: top;\n",
       "    }\n",
       "\n",
       "    .dataframe thead th {\n",
       "        text-align: right;\n",
       "    }\n",
       "</style>\n",
       "<table border=\"1\" class=\"dataframe\">\n",
       "  <thead>\n",
       "    <tr style=\"text-align: right;\">\n",
       "      <th></th>\n",
       "      <th>user</th>\n",
       "      <th>event</th>\n",
       "      <th>rating</th>\n",
       "      <th>timestamp</th>\n",
       "    </tr>\n",
       "  </thead>\n",
       "  <tbody>\n",
       "    <tr>\n",
       "      <th>0</th>\n",
       "      <td>196</td>\n",
       "      <td>242</td>\n",
       "      <td>3</td>\n",
       "      <td>881250949</td>\n",
       "    </tr>\n",
       "    <tr>\n",
       "      <th>1</th>\n",
       "      <td>186</td>\n",
       "      <td>302</td>\n",
       "      <td>3</td>\n",
       "      <td>891717742</td>\n",
       "    </tr>\n",
       "    <tr>\n",
       "      <th>2</th>\n",
       "      <td>22</td>\n",
       "      <td>377</td>\n",
       "      <td>1</td>\n",
       "      <td>878887116</td>\n",
       "    </tr>\n",
       "    <tr>\n",
       "      <th>3</th>\n",
       "      <td>244</td>\n",
       "      <td>51</td>\n",
       "      <td>2</td>\n",
       "      <td>880606923</td>\n",
       "    </tr>\n",
       "    <tr>\n",
       "      <th>4</th>\n",
       "      <td>166</td>\n",
       "      <td>346</td>\n",
       "      <td>1</td>\n",
       "      <td>886397596</td>\n",
       "    </tr>\n",
       "  </tbody>\n",
       "</table>\n",
       "</div>"
      ],
      "text/plain": [
       "   user  event  rating  timestamp\n",
       "0   196    242       3  881250949\n",
       "1   186    302       3  891717742\n",
       "2    22    377       1  878887116\n",
       "3   244     51       2  880606923\n",
       "4   166    346       1  886397596"
      ]
     },
     "execution_count": 3,
     "metadata": {},
     "output_type": "execute_result"
    }
   ],
   "source": [
    "data.head()"
   ]
  },
  {
   "cell_type": "markdown",
   "metadata": {},
   "source": [
    "### Pre-processing the data"
   ]
  },
  {
   "cell_type": "markdown",
   "metadata": {},
   "source": [
    "#### 3.1 Finding all unique values from data for events and users"
   ]
  },
  {
   "cell_type": "code",
   "execution_count": 4,
   "metadata": {},
   "outputs": [
    {
     "data": {
      "text/plain": [
       "(array([242, 302, 377,  51, 346, 474, 265, 465, 451,  86]),\n",
       " array([196, 186,  22, 244, 166, 298, 115, 253, 305,   6]))"
      ]
     },
     "execution_count": 4,
     "metadata": {},
     "output_type": "execute_result"
    }
   ],
   "source": [
    "users = data['user'].unique()\n",
    "events = data['event'].unique()\n",
    "\n",
    "events[:10], users[:10]"
   ]
  },
  {
   "cell_type": "markdown",
   "metadata": {},
   "source": [
    "#### 3.2 Assigning idx's to unique users and events"
   ]
  },
  {
   "cell_type": "code",
   "execution_count": 5,
   "metadata": {},
   "outputs": [
    {
     "name": "stdout",
     "output_type": "stream",
     "text": [
      "User: 196, assigned index: 0\n",
      "Event: 242, assigned index: 0\n"
     ]
    }
   ],
   "source": [
    "user_to_idx = {user: idx for idx, user in enumerate(users)}\n",
    "event_to_idx = {event: idx for idx, event in enumerate(events)}\n",
    "idx_to_user = {idx: user for user, idx in user_to_idx.items()} # For reverse lookup\n",
    "idx_to_event = {idx: event for event, idx in event_to_idx.items()} # For reverse lookup\n",
    "\n",
    "for key, value in user_to_idx.items():\n",
    "    if value == 0:\n",
    "        print(f'User: {key}, assigned index: {value}')\n",
    "\n",
    "for key, value in event_to_idx.items():\n",
    "    if value == 0:\n",
    "        print(f'Event: {key}, assigned index: {value}')"
   ]
  },
  {
   "cell_type": "markdown",
   "metadata": {},
   "source": [
    "#### 3.3 Using the idx to add column in dataframe"
   ]
  },
  {
   "cell_type": "code",
   "execution_count": 6,
   "metadata": {},
   "outputs": [
    {
     "data": {
      "text/html": [
       "<div>\n",
       "<style scoped>\n",
       "    .dataframe tbody tr th:only-of-type {\n",
       "        vertical-align: middle;\n",
       "    }\n",
       "\n",
       "    .dataframe tbody tr th {\n",
       "        vertical-align: top;\n",
       "    }\n",
       "\n",
       "    .dataframe thead th {\n",
       "        text-align: right;\n",
       "    }\n",
       "</style>\n",
       "<table border=\"1\" class=\"dataframe\">\n",
       "  <thead>\n",
       "    <tr style=\"text-align: right;\">\n",
       "      <th></th>\n",
       "      <th>user</th>\n",
       "      <th>event</th>\n",
       "      <th>rating</th>\n",
       "      <th>timestamp</th>\n",
       "      <th>user_idx</th>\n",
       "      <th>event_idx</th>\n",
       "    </tr>\n",
       "  </thead>\n",
       "  <tbody>\n",
       "    <tr>\n",
       "      <th>0</th>\n",
       "      <td>196</td>\n",
       "      <td>242</td>\n",
       "      <td>3</td>\n",
       "      <td>881250949</td>\n",
       "      <td>0</td>\n",
       "      <td>0</td>\n",
       "    </tr>\n",
       "    <tr>\n",
       "      <th>1</th>\n",
       "      <td>186</td>\n",
       "      <td>302</td>\n",
       "      <td>3</td>\n",
       "      <td>891717742</td>\n",
       "      <td>1</td>\n",
       "      <td>1</td>\n",
       "    </tr>\n",
       "    <tr>\n",
       "      <th>2</th>\n",
       "      <td>22</td>\n",
       "      <td>377</td>\n",
       "      <td>1</td>\n",
       "      <td>878887116</td>\n",
       "      <td>2</td>\n",
       "      <td>2</td>\n",
       "    </tr>\n",
       "    <tr>\n",
       "      <th>3</th>\n",
       "      <td>244</td>\n",
       "      <td>51</td>\n",
       "      <td>2</td>\n",
       "      <td>880606923</td>\n",
       "      <td>3</td>\n",
       "      <td>3</td>\n",
       "    </tr>\n",
       "    <tr>\n",
       "      <th>4</th>\n",
       "      <td>166</td>\n",
       "      <td>346</td>\n",
       "      <td>1</td>\n",
       "      <td>886397596</td>\n",
       "      <td>4</td>\n",
       "      <td>4</td>\n",
       "    </tr>\n",
       "  </tbody>\n",
       "</table>\n",
       "</div>"
      ],
      "text/plain": [
       "   user  event  rating  timestamp  user_idx  event_idx\n",
       "0   196    242       3  881250949         0          0\n",
       "1   186    302       3  891717742         1          1\n",
       "2    22    377       1  878887116         2          2\n",
       "3   244     51       2  880606923         3          3\n",
       "4   166    346       1  886397596         4          4"
      ]
     },
     "execution_count": 6,
     "metadata": {},
     "output_type": "execute_result"
    }
   ],
   "source": [
    "data['user_idx'] = data['user'].map(user_to_idx)\n",
    "data['event_idx'] = data['event'].map(event_to_idx)\n",
    "\n",
    "data.head()"
   ]
  },
  {
   "cell_type": "markdown",
   "metadata": {},
   "source": [
    "#### 3.4 Splitting the data into training and testing"
   ]
  },
  {
   "cell_type": "code",
   "execution_count": 7,
   "metadata": {},
   "outputs": [
    {
     "data": {
      "text/plain": [
       "(60000, 20000, 20000)"
      ]
     },
     "execution_count": 7,
     "metadata": {},
     "output_type": "execute_result"
    }
   ],
   "source": [
    "train_data, test_data = train_test_split(data, test_size=0.2, random_state=21, shuffle=True)\n",
    "train_data, val_data = train_test_split(train_data, test_size=0.25, random_state=21, shuffle=True)\n",
    "len(train_data), len(val_data), len(test_data)"
   ]
  },
  {
   "cell_type": "code",
   "execution_count": 8,
   "metadata": {},
   "outputs": [
    {
     "data": {
      "text/html": [
       "<div>\n",
       "<style scoped>\n",
       "    .dataframe tbody tr th:only-of-type {\n",
       "        vertical-align: middle;\n",
       "    }\n",
       "\n",
       "    .dataframe tbody tr th {\n",
       "        vertical-align: top;\n",
       "    }\n",
       "\n",
       "    .dataframe thead th {\n",
       "        text-align: right;\n",
       "    }\n",
       "</style>\n",
       "<table border=\"1\" class=\"dataframe\">\n",
       "  <thead>\n",
       "    <tr style=\"text-align: right;\">\n",
       "      <th></th>\n",
       "      <th>user</th>\n",
       "      <th>event</th>\n",
       "      <th>rating</th>\n",
       "      <th>timestamp</th>\n",
       "      <th>user_idx</th>\n",
       "      <th>event_idx</th>\n",
       "    </tr>\n",
       "  </thead>\n",
       "  <tbody>\n",
       "    <tr>\n",
       "      <th>38585</th>\n",
       "      <td>519</td>\n",
       "      <td>878</td>\n",
       "      <td>5</td>\n",
       "      <td>884545961</td>\n",
       "      <td>521</td>\n",
       "      <td>995</td>\n",
       "    </tr>\n",
       "    <tr>\n",
       "      <th>57464</th>\n",
       "      <td>758</td>\n",
       "      <td>121</td>\n",
       "      <td>2</td>\n",
       "      <td>881978864</td>\n",
       "      <td>752</td>\n",
       "      <td>403</td>\n",
       "    </tr>\n",
       "    <tr>\n",
       "      <th>16125</th>\n",
       "      <td>277</td>\n",
       "      <td>872</td>\n",
       "      <td>3</td>\n",
       "      <td>879543768</td>\n",
       "      <td>261</td>\n",
       "      <td>223</td>\n",
       "    </tr>\n",
       "    <tr>\n",
       "      <th>16767</th>\n",
       "      <td>343</td>\n",
       "      <td>147</td>\n",
       "      <td>4</td>\n",
       "      <td>876402814</td>\n",
       "      <td>339</td>\n",
       "      <td>452</td>\n",
       "    </tr>\n",
       "    <tr>\n",
       "      <th>90032</th>\n",
       "      <td>686</td>\n",
       "      <td>50</td>\n",
       "      <td>4</td>\n",
       "      <td>879545413</td>\n",
       "      <td>684</td>\n",
       "      <td>357</td>\n",
       "    </tr>\n",
       "  </tbody>\n",
       "</table>\n",
       "</div>"
      ],
      "text/plain": [
       "       user  event  rating  timestamp  user_idx  event_idx\n",
       "38585   519    878       5  884545961       521        995\n",
       "57464   758    121       2  881978864       752        403\n",
       "16125   277    872       3  879543768       261        223\n",
       "16767   343    147       4  876402814       339        452\n",
       "90032   686     50       4  879545413       684        357"
      ]
     },
     "execution_count": 8,
     "metadata": {},
     "output_type": "execute_result"
    }
   ],
   "source": [
    "train_data.head()"
   ]
  },
  {
   "cell_type": "code",
   "execution_count": 9,
   "metadata": {},
   "outputs": [
    {
     "data": {
      "text/html": [
       "<div>\n",
       "<style scoped>\n",
       "    .dataframe tbody tr th:only-of-type {\n",
       "        vertical-align: middle;\n",
       "    }\n",
       "\n",
       "    .dataframe tbody tr th {\n",
       "        vertical-align: top;\n",
       "    }\n",
       "\n",
       "    .dataframe thead th {\n",
       "        text-align: right;\n",
       "    }\n",
       "</style>\n",
       "<table border=\"1\" class=\"dataframe\">\n",
       "  <thead>\n",
       "    <tr style=\"text-align: right;\">\n",
       "      <th></th>\n",
       "      <th>user</th>\n",
       "      <th>event</th>\n",
       "      <th>rating</th>\n",
       "      <th>timestamp</th>\n",
       "      <th>user_idx</th>\n",
       "      <th>event_idx</th>\n",
       "    </tr>\n",
       "  </thead>\n",
       "  <tbody>\n",
       "    <tr>\n",
       "      <th>39544</th>\n",
       "      <td>591</td>\n",
       "      <td>235</td>\n",
       "      <td>3</td>\n",
       "      <td>891039676</td>\n",
       "      <td>582</td>\n",
       "      <td>181</td>\n",
       "    </tr>\n",
       "    <tr>\n",
       "      <th>24258</th>\n",
       "      <td>450</td>\n",
       "      <td>689</td>\n",
       "      <td>3</td>\n",
       "      <td>882216026</td>\n",
       "      <td>442</td>\n",
       "      <td>890</td>\n",
       "    </tr>\n",
       "    <tr>\n",
       "      <th>23442</th>\n",
       "      <td>13</td>\n",
       "      <td>462</td>\n",
       "      <td>5</td>\n",
       "      <td>882140487</td>\n",
       "      <td>58</td>\n",
       "      <td>299</td>\n",
       "    </tr>\n",
       "    <tr>\n",
       "      <th>35853</th>\n",
       "      <td>159</td>\n",
       "      <td>1013</td>\n",
       "      <td>4</td>\n",
       "      <td>880557170</td>\n",
       "      <td>233</td>\n",
       "      <td>1013</td>\n",
       "    </tr>\n",
       "    <tr>\n",
       "      <th>35928</th>\n",
       "      <td>515</td>\n",
       "      <td>307</td>\n",
       "      <td>4</td>\n",
       "      <td>887659123</td>\n",
       "      <td>507</td>\n",
       "      <td>104</td>\n",
       "    </tr>\n",
       "  </tbody>\n",
       "</table>\n",
       "</div>"
      ],
      "text/plain": [
       "       user  event  rating  timestamp  user_idx  event_idx\n",
       "39544   591    235       3  891039676       582        181\n",
       "24258   450    689       3  882216026       442        890\n",
       "23442    13    462       5  882140487        58        299\n",
       "35853   159   1013       4  880557170       233       1013\n",
       "35928   515    307       4  887659123       507        104"
      ]
     },
     "execution_count": 9,
     "metadata": {},
     "output_type": "execute_result"
    }
   ],
   "source": [
    "test_data.head()"
   ]
  },
  {
   "cell_type": "markdown",
   "metadata": {},
   "source": [
    "#### 3.5 Creating the train and test dataloaders"
   ]
  },
  {
   "cell_type": "code",
   "execution_count": 10,
   "metadata": {},
   "outputs": [],
   "source": [
    "train_dataloader = DataLoader(train_data[['user_idx', 'event_idx', 'rating']].values, batch_size=64, shuffle=True)\n",
    "val_dataloader = DataLoader(val_data[['user_idx', 'event_idx', 'rating']].values, batch_size=64, shuffle=False)\n",
    "test_dataloader = DataLoader(test_data[['user_idx', 'event_idx', 'rating']].values, batch_size=64, shuffle=False)"
   ]
  },
  {
   "cell_type": "code",
   "execution_count": 11,
   "metadata": {},
   "outputs": [
    {
     "name": "stdout",
     "output_type": "stream",
     "text": [
      "Example batch:  tensor([[111, 663,   3],\n",
      "        [310, 101,   4],\n",
      "        [442, 124,   3],\n",
      "        [258, 280,   5],\n",
      "        [404, 244,   3],\n",
      "        [ 11, 432,   2],\n",
      "        [939,  24,   4],\n",
      "        [862, 506,   5],\n",
      "        [ 55, 748,   4],\n",
      "        [131, 251,   3]])\n",
      "\n",
      "Len of a batch:  64\n"
     ]
    }
   ],
   "source": [
    "for batch in train_dataloader:\n",
    "    print('Example batch: ', batch[:10])\n",
    "    print()\n",
    "    print('Len of a batch: ', len(batch))\n",
    "    break"
   ]
  },
  {
   "cell_type": "code",
   "execution_count": 12,
   "metadata": {},
   "outputs": [],
   "source": [
    "class VariationalAutoencoder(nn.Module):\n",
    "    def __init__(self, input_dim, latent_dim):\n",
    "        super(VariationalAutoencoder, self).__init__()\n",
    "        \n",
    "        hidden_dim = min(input_dim, 1024)  # Limit hidden dimension size\n",
    "        \n",
    "        # Encoder\n",
    "        self.encoder = nn.Sequential(\n",
    "            nn.Linear(input_dim, hidden_dim),\n",
    "            nn.LayerNorm(hidden_dim),\n",
    "            nn.ReLU(),\n",
    "            nn.Linear(hidden_dim, hidden_dim // 2),\n",
    "            nn.LayerNorm(hidden_dim // 2),\n",
    "            nn.ReLU()\n",
    "        )\n",
    "        self.fc_mu = nn.Linear(hidden_dim // 2, latent_dim)\n",
    "        self.fc_logvar = nn.Linear(hidden_dim // 2, latent_dim)\n",
    "        \n",
    "        # Decoder\n",
    "        self.decoder = nn.Sequential(\n",
    "            nn.Linear(latent_dim, hidden_dim // 2),\n",
    "            nn.LayerNorm(hidden_dim // 2),\n",
    "            nn.ReLU(),\n",
    "            nn.Linear(hidden_dim // 2, hidden_dim),\n",
    "            nn.LayerNorm(hidden_dim),\n",
    "            nn.ReLU(),\n",
    "            nn.Linear(hidden_dim, input_dim),\n",
    "            nn.Sigmoid()\n",
    "        )\n",
    "    \n",
    "    def encode(self, x):\n",
    "        h = self.encoder(x)\n",
    "        return self.fc_mu(h), self.fc_logvar(h)\n",
    "    \n",
    "    def reparameterize(self, mu, logvar):\n",
    "        std = torch.exp(0.5 * logvar)\n",
    "        eps = torch.randn_like(std)\n",
    "        return mu + eps * std\n",
    "    \n",
    "    def decode(self, z):\n",
    "        return self.decoder(z)\n",
    "    \n",
    "    def forward(self, x):\n",
    "        mu, logvar = self.encode(x)\n",
    "        z = self.reparameterize(mu, logvar)\n",
    "        return self.decode(z), mu, logvar\n"
   ]
  },
  {
   "cell_type": "code",
   "execution_count": 13,
   "metadata": {},
   "outputs": [],
   "source": [
    "def vae_loss(recon_x, x, mu, logvar, beta=0.1):\n",
    "    BCE = F.binary_cross_entropy(recon_x, x, reduction='sum')\n",
    "    KLD = -0.5 * torch.sum(1 + logvar - mu.pow(2) - logvar.exp())\n",
    "    return BCE + beta * KLD\n",
    "\n",
    "def train_vae(vae, dataloader, num_epochs=20, lr=1e-4):\n",
    "    optimizer = optim.Adam(vae.parameters(), lr=lr, weight_decay=1e-5)\n",
    "    scheduler = optim.lr_scheduler.ReduceLROnPlateau(optimizer, 'min', patience=3, factor=0.5)\n",
    "    \n",
    "    for epoch in range(num_epochs):\n",
    "        total_loss = 0\n",
    "        for batch in dataloader:\n",
    "            optimizer.zero_grad()\n",
    "            recon_batch, mu, logvar = vae(batch)\n",
    "            loss = vae_loss(recon_batch, batch, mu, logvar)\n",
    "            loss.backward()\n",
    "            torch.nn.utils.clip_grad_norm_(vae.parameters(), 1.0)  # Gradient clipping\n",
    "            optimizer.step()\n",
    "            total_loss += loss.item()\n",
    "        \n",
    "        avg_loss = total_loss / len(dataloader)\n",
    "        scheduler.step(avg_loss)\n",
    "        print(f'Epoch {epoch+1}/{num_epochs}, Loss: {avg_loss:.4f}')\n"
   ]
  },
  {
   "cell_type": "code",
   "execution_count": 14,
   "metadata": {},
   "outputs": [],
   "source": [
    "class NCF(nn.Module):\n",
    "    def __init__(self, num_users, num_items, embedding_dim=96, hidden_dim=64):\n",
    "        super(NCF, self).__init__()\n",
    "        self.user_vae = VariationalAutoencoder(num_users, embedding_dim)\n",
    "        self.item_vae = VariationalAutoencoder(num_items, embedding_dim)\n",
    "        self.fc1 = nn.Linear(embedding_dim * 2, hidden_dim)\n",
    "        self.fc2 = nn.Linear(hidden_dim, hidden_dim // 2)\n",
    "        self.fc3 = nn.Linear(hidden_dim // 2, 1)\n",
    "        self.dropout = nn.Dropout(0.3)\n",
    "        \n",
    "    def forward(self, user, item):\n",
    "        user_onehot = F.one_hot(user, num_classes=self.user_vae.encoder[0].in_features).float()\n",
    "        item_onehot = F.one_hot(item, num_classes=self.item_vae.encoder[0].in_features).float()\n",
    "        \n",
    "        _, user_embedded, _ = self.user_vae(user_onehot)\n",
    "        _, item_embedded, _ = self.item_vae(item_onehot)\n",
    "        \n",
    "        x = torch.cat([user_embedded, item_embedded], dim=-1)\n",
    "        x = F.relu(self.fc1(x))\n",
    "        x = self.dropout(x)\n",
    "        x = F.relu(self.fc2(x))\n",
    "        x = self.dropout(x)\n",
    "        x = self.fc3(x)\n",
    "        return x"
   ]
  },
  {
   "cell_type": "code",
   "execution_count": 15,
   "metadata": {},
   "outputs": [],
   "source": [
    "class EarlyStopper:\n",
    "    def __init__(self, patience=1, min_delta=0):\n",
    "        self.patience = patience\n",
    "        self.min_delta = min_delta\n",
    "        self.counter = 0\n",
    "        self.min_validation_loss = float('inf')\n",
    "\n",
    "    def early_stop(self, validation_loss):\n",
    "        if validation_loss < self.min_validation_loss:\n",
    "            self.min_validation_loss = validation_loss\n",
    "            self.counter = 0\n",
    "        elif validation_loss > (self.min_validation_loss + self.min_delta):\n",
    "            self.counter += 1\n",
    "            if self.counter >= self.patience:\n",
    "                return True\n",
    "        return False"
   ]
  },
  {
   "cell_type": "code",
   "execution_count": 16,
   "metadata": {},
   "outputs": [],
   "source": [
    "\n",
    "def train(model, train_dataloader, val_dataloader, optimizer, criterion, device, num_epochs=20):\n",
    "    model.train()\n",
    "    early_stopper = EarlyStopper(patience=5, min_delta=0.001)\n",
    "    scheduler = optim.lr_scheduler.ReduceLROnPlateau(optimizer, 'min', patience=3, factor=0.5)\n",
    "    l2 = 1e-3\n",
    "    \n",
    "    train_losses = []\n",
    "    val_losses = []\n",
    "    train_maes = []\n",
    "    val_maes = []\n",
    "    train_rmses = []\n",
    "    val_rmses = []\n",
    "\n",
    "    for epoch in range(num_epochs):\n",
    "        total_loss = 0\n",
    "        total_val_loss = 0\n",
    "        total_mae = 0\n",
    "        total_val_mae = 0\n",
    "        total_rmse = 0\n",
    "        total_val_rmse = 0\n",
    "\n",
    "        for batch in train_dataloader:\n",
    "            user, item, target = batch[:, 0].to(device), batch[:, 1].to(device), batch[:, 2].float().to(device)\n",
    "            optimizer.zero_grad()\n",
    "            output = model(user, item).squeeze()\n",
    "            loss = criterion(output, target) + l2 * sum(p.pow(2.0).sum() for p in model.parameters())\n",
    "            loss.backward()\n",
    "            torch.nn.utils.clip_grad_norm_(model.parameters(), 1.0)  # Gradient clipping\n",
    "            optimizer.step()\n",
    "            total_loss += loss.item()\n",
    "\n",
    "            # Calculate MAE and RMSE for training\n",
    "            mae = torch.abs(output - target).mean().item()\n",
    "            rmse = torch.sqrt(((output - target) ** 2).mean()).item()\n",
    "            total_mae += mae\n",
    "            total_rmse += rmse\n",
    "        \n",
    "        model.eval()\n",
    "        with torch.no_grad():\n",
    "            for batch in val_dataloader:\n",
    "                user, item, target = batch[:, 0].to(device), batch[:, 1].to(device), batch[:, 2].float().to(device)\n",
    "                output = model(user, item).squeeze()\n",
    "                val_loss = criterion(output, target)\n",
    "                total_val_loss += val_loss.item()\n",
    "\n",
    "                # Calculate MAE and RMSE for validation\n",
    "                val_mae = torch.abs(output - target).mean().item()\n",
    "                val_rmse = torch.sqrt(((output - target) ** 2).mean()).item()\n",
    "                total_val_mae += val_mae\n",
    "                total_val_rmse += val_rmse\n",
    "\n",
    "        avg_train_loss = total_loss / len(train_dataloader)\n",
    "        avg_val_loss = total_val_loss / len(val_dataloader)\n",
    "        avg_train_mae = total_mae / len(train_dataloader)\n",
    "        avg_val_mae = total_val_mae / len(val_dataloader)\n",
    "        avg_train_rmse = total_rmse / len(train_dataloader)\n",
    "        avg_val_rmse = total_val_rmse / len(val_dataloader)\n",
    "        \n",
    "        train_losses.append(avg_train_loss)\n",
    "        val_losses.append(avg_val_loss)\n",
    "        train_maes.append(avg_train_mae)\n",
    "        val_maes.append(avg_val_mae)\n",
    "        train_rmses.append(avg_train_rmse)\n",
    "        val_rmses.append(avg_val_rmse)\n",
    "        \n",
    "        scheduler.step(avg_val_loss)\n",
    "\n",
    "        if early_stopper.early_stop(avg_val_loss):\n",
    "            print(f\"Early stopping at epoch {epoch+1}\")\n",
    "            break\n",
    "        \n",
    "        print(f'Epoch: {epoch+1} -> Train Loss: {avg_train_loss:.4f} | Val Loss: {avg_val_loss:.4f} | Train MAE: {avg_train_mae:.4f} | Val MAE: {avg_val_mae:.4f} | Train RMSE: {avg_train_rmse:.4f} | Val RMSE: {avg_val_rmse:.4f}')\n",
    "\n",
    "    return train_losses, val_losses, train_maes, val_maes, train_rmses, val_rmses"
   ]
  },
  {
   "cell_type": "code",
   "execution_count": 17,
   "metadata": {},
   "outputs": [],
   "source": [
    "device = torch.device('cuda' if torch.cuda.is_available() else 'cpu')\n",
    "num_users = len(users)\n",
    "num_items = len(events)\n",
    "embedding_dim = 64"
   ]
  },
  {
   "cell_type": "code",
   "execution_count": 18,
   "metadata": {},
   "outputs": [],
   "source": [
    "user_vae = VariationalAutoencoder(num_users, embedding_dim).to(device)\n",
    "item_vae = VariationalAutoencoder(num_items, embedding_dim).to(device)\n",
    "\n",
    "user_dataloader = DataLoader(torch.eye(num_users).to(device), batch_size=128, shuffle=True)\n",
    "item_dataloader = DataLoader(torch.eye(num_items).to(device), batch_size=128, shuffle=True)"
   ]
  },
  {
   "cell_type": "code",
   "execution_count": 19,
   "metadata": {},
   "outputs": [
    {
     "name": "stdout",
     "output_type": "stream",
     "text": [
      "Training User VAE:\n",
      "Epoch 1/20, Loss: 70319.1274\n",
      "Epoch 2/20, Loss: 52181.9517\n",
      "Epoch 3/20, Loss: 37823.0879\n",
      "Epoch 4/20, Loss: 26376.6836\n",
      "Epoch 5/20, Loss: 17996.7709\n",
      "Epoch 6/20, Loss: 12301.0218\n",
      "Epoch 7/20, Loss: 8463.3616\n",
      "Epoch 8/20, Loss: 5892.5544\n",
      "Epoch 9/20, Loss: 4187.6408\n",
      "Epoch 10/20, Loss: 3042.8182\n",
      "Epoch 11/20, Loss: 2272.8486\n",
      "Epoch 12/20, Loss: 1761.3267\n",
      "Epoch 13/20, Loss: 1423.1839\n",
      "Epoch 14/20, Loss: 1211.8294\n",
      "Epoch 15/20, Loss: 1081.2327\n",
      "Epoch 16/20, Loss: 1007.0785\n",
      "Epoch 17/20, Loss: 967.6478\n",
      "Epoch 18/20, Loss: 948.0619\n",
      "Epoch 19/20, Loss: 937.6188\n",
      "Epoch 20/20, Loss: 933.1549\n",
      "\n",
      "Training Item VAE:\n",
      "Epoch 1/20, Loss: 116188.5556\n",
      "Epoch 2/20, Loss: 64621.2270\n",
      "Epoch 3/20, Loss: 31654.6179\n",
      "Epoch 4/20, Loss: 15140.4992\n",
      "Epoch 5/20, Loss: 7446.1638\n",
      "Epoch 6/20, Loss: 3922.1805\n",
      "Epoch 7/20, Loss: 2275.0630\n",
      "Epoch 8/20, Loss: 1521.4403\n",
      "Epoch 9/20, Loss: 1198.8036\n",
      "Epoch 10/20, Loss: 1077.4625\n",
      "Epoch 11/20, Loss: 1038.1379\n",
      "Epoch 12/20, Loss: 1024.9992\n",
      "Epoch 13/20, Loss: 1020.5363\n",
      "Epoch 14/20, Loss: 1018.8836\n",
      "Epoch 15/20, Loss: 1018.2503\n",
      "Epoch 16/20, Loss: 1017.6419\n",
      "Epoch 17/20, Loss: 1017.6219\n",
      "Epoch 18/20, Loss: 1017.0102\n",
      "Epoch 19/20, Loss: 1017.1535\n",
      "Epoch 20/20, Loss: 1017.4161\n"
     ]
    }
   ],
   "source": [
    "print(\"Training User VAE:\")\n",
    "train_vae(user_vae, user_dataloader)\n",
    "print(\"\\nTraining Item VAE:\")\n",
    "train_vae(item_vae, item_dataloader)"
   ]
  },
  {
   "cell_type": "code",
   "execution_count": 20,
   "metadata": {},
   "outputs": [
    {
     "data": {
      "text/plain": [
       "<All keys matched successfully>"
      ]
     },
     "execution_count": 20,
     "metadata": {},
     "output_type": "execute_result"
    }
   ],
   "source": [
    "model = NCF(num_users, num_items, embedding_dim).to(device)\n",
    "model.user_vae.load_state_dict(user_vae.state_dict())\n",
    "model.item_vae.load_state_dict(item_vae.state_dict())"
   ]
  },
  {
   "cell_type": "code",
   "execution_count": 21,
   "metadata": {},
   "outputs": [],
   "source": [
    "optimizer = optim.Adam(model.parameters(), lr=1e-3, weight_decay=1e-5) # Added L2 regularization\n",
    "criterion = nn.MSELoss()"
   ]
  },
  {
   "cell_type": "code",
   "execution_count": 22,
   "metadata": {},
   "outputs": [
    {
     "name": "stdout",
     "output_type": "stream",
     "text": [
      "\n",
      "Training NCF Model:\n",
      "Epoch: 1 -> Train Loss: 4.1684 | Val Loss: 1.1299 | Train MAE: 1.0049 | Val MAE: 0.8729 | Train RMSE: 1.2374 | Val RMSE: 1.0602\n",
      "Epoch: 2 -> Train Loss: 1.1829 | Val Loss: 0.9662 | Train MAE: 0.7836 | Val MAE: 0.8003 | Train RMSE: 0.9804 | Val RMSE: 0.9800\n",
      "Epoch: 3 -> Train Loss: 1.0054 | Val Loss: 0.9277 | Train MAE: 0.7628 | Val MAE: 0.7738 | Train RMSE: 0.9560 | Val RMSE: 0.9597\n",
      "Epoch: 4 -> Train Loss: 0.9678 | Val Loss: 0.9341 | Train MAE: 0.7540 | Val MAE: 0.7800 | Train RMSE: 0.9462 | Val RMSE: 0.9633\n",
      "Epoch: 5 -> Train Loss: 0.9482 | Val Loss: 0.9125 | Train MAE: 0.7492 | Val MAE: 0.7480 | Train RMSE: 0.9405 | Val RMSE: 0.9508\n",
      "Epoch: 6 -> Train Loss: 0.9382 | Val Loss: 0.9195 | Train MAE: 0.7455 | Val MAE: 0.7699 | Train RMSE: 0.9374 | Val RMSE: 0.9555\n",
      "Epoch: 7 -> Train Loss: 0.9350 | Val Loss: 0.9016 | Train MAE: 0.7465 | Val MAE: 0.7492 | Train RMSE: 0.9374 | Val RMSE: 0.9455\n",
      "Epoch: 8 -> Train Loss: 0.9269 | Val Loss: 0.8972 | Train MAE: 0.7433 | Val MAE: 0.7508 | Train RMSE: 0.9347 | Val RMSE: 0.9434\n",
      "Epoch: 9 -> Train Loss: 0.9249 | Val Loss: 0.9009 | Train MAE: 0.7428 | Val MAE: 0.7529 | Train RMSE: 0.9342 | Val RMSE: 0.9452\n",
      "Epoch: 10 -> Train Loss: 0.9189 | Val Loss: 0.9113 | Train MAE: 0.7408 | Val MAE: 0.7613 | Train RMSE: 0.9317 | Val RMSE: 0.9509\n"
     ]
    }
   ],
   "source": [
    "print(\"\\nTraining NCF Model:\")\n",
    "train_losses, val_losses, train_maes, val_maes, train_rmses, val_rmses = train(model, train_dataloader, val_dataloader, optimizer, criterion, device, num_epochs=10)"
   ]
  },
  {
   "cell_type": "code",
   "execution_count": 23,
   "metadata": {},
   "outputs": [
    {
     "data": {
      "image/png": "[encoded data removed]",
      "text/plain": [
       "<Figure size 1800x600 with 3 Axes>"
      ]
     },
     "metadata": {},
     "output_type": "display_data"
    }
   ],
   "source": [
    "plt.figure(figsize=(18, 6))\n",
    "\n",
    "plt.subplot(1, 3, 1)\n",
    "plt.plot(train_losses, label='Train Loss')\n",
    "plt.plot(val_losses, label='Validation Loss')\n",
    "plt.xlabel('Epochs')\n",
    "plt.ylabel('Loss')\n",
    "plt.title('Training and Validation Losses')\n",
    "plt.legend()\n",
    "\n",
    "plt.subplot(1, 3, 2)\n",
    "plt.plot(train_maes, label='Train MAE')\n",
    "plt.plot(val_maes, label='Validation MAE')\n",
    "plt.xlabel('Epochs')\n",
    "plt.ylabel('MAE')\n",
    "plt.title('Training and Validation MAE')\n",
    "plt.legend()\n",
    "\n",
    "plt.subplot(1, 3, 3)\n",
    "plt.plot(train_rmses, label='Train RMSE')\n",
    "plt.plot(val_rmses, label='Validation RMSE')\n",
    "plt.xlabel('Epochs')\n",
    "plt.ylabel('RMSE')\n",
    "plt.title('Training and Validation RMSE')\n",
    "plt.legend()\n",
    "\n",
    "plt.tight_layout()\n",
    "plt.show()"
   ]
  },
  {
   "cell_type": "code",
   "execution_count": 24,
   "metadata": {},
   "outputs": [],
   "source": [
    "def evaluate(model, dataloader, criterion, device):\n",
    "    model.eval()\n",
    "    total_loss = 0\n",
    "    total_mae = 0\n",
    "    total_rmse = 0\n",
    "    with torch.no_grad():\n",
    "        for batch in dataloader:\n",
    "            user, event, target = batch[:, 0].to(device), batch[:, 1].to(device), batch[:, 2].float().to(device)\n",
    "            output = model(user, event).squeeze()\n",
    "            loss = criterion(output, target)\n",
    "            total_loss += loss.item()\n",
    "\n",
    "            # Calculate MAE and RMSE for test set\n",
    "            mae = torch.abs(output - target).mean().item()\n",
    "            rmse = torch.sqrt(((output - target) ** 2).mean()).item()\n",
    "            total_mae += mae\n",
    "            total_rmse += rmse\n",
    "    \n",
    "    avg_loss = total_loss / len(dataloader)\n",
    "    avg_mae = total_mae / len(dataloader)\n",
    "    avg_rmse = total_rmse / len(dataloader)\n",
    "    return avg_loss, avg_mae, avg_rmse"
   ]
  },
  {
   "cell_type": "code",
   "execution_count": 25,
   "metadata": {},
   "outputs": [
    {
     "name": "stdout",
     "output_type": "stream",
     "text": [
      "\n",
      "Test Loss: 0.9082 | Test MAE: 0.7592 | Test RMSE: 0.9492\n"
     ]
    }
   ],
   "source": [
    "test_loss, test_mae, test_rmse = evaluate(model, test_dataloader, criterion, device)\n",
    "print(f\"\\nTest Loss: {test_loss:.4f} | Test MAE: {test_mae:.4f} | Test RMSE: {test_rmse:.4f}\")"
   ]
  }
 ],
 "metadata": {
  "kernelspec": {
   "display_name": "torch",
   "language": "python",
   "name": "python3"
  },
  "language_info": {
   "codemirror_mode": {
    "name": "ipython",
    "version": 3
   },
   "file_extension": ".py",
   "mimetype": "text/x-python",
   "name": "python",
   "nbconvert_exporter": "python",
   "pygments_lexer": "ipython3",
   "version": "3.9.19"
  }
 },
 "nbformat": 4,
 "nbformat_minor": 2
}
