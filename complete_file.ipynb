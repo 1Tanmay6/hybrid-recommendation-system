{
 "cells": [
  {
   "cell_type": "markdown",
   "metadata": {},
   "source": [
    "## Importing Libraries"
   ]
  },
  {
   "cell_type": "code",
   "execution_count": 1,
   "metadata": {},
   "outputs": [],
   "source": [
    "import torch\n",
    "import pandas as pd\n",
    "import numpy as np\n",
    "from collections import Counter\n",
    "from src.modules.CBF import CBF"
   ]
  },
  {
   "cell_type": "markdown",
   "metadata": {},
   "source": [
    "## Preprocessing and model loading"
   ]
  },
  {
   "cell_type": "code",
   "execution_count": 2,
   "metadata": {},
   "outputs": [],
   "source": [
    "cbf = CBF()"
   ]
  },
  {
   "cell_type": "code",
   "execution_count": 3,
   "metadata": {},
   "outputs": [],
   "source": [
    "def get_recommendations(user_id, model, data, user_to_idx, idx_to_movie, device, path='data/movies_grouplens/users.dat'):\n",
    "    user_data = pd.read_csv(path,\n",
    "                            delimiter='::', header=None, engine='python', encoding='latin1')\n",
    "\n",
    "    user_data.columns = ['UserID', 'Gender', 'Age', 'Occupation', 'Zip-code']\n",
    "    user_idx = user_to_idx[user_id]\n",
    "\n",
    "    user_data['Gender'] = user_data['Gender'].map({'M': 0, 'F': 1})\n",
    "    user_data['Age'] = user_data['Age'] - user_data['Age'].min()\n",
    "    user_data['Occupation'] = user_data['Occupation'] - \\\n",
    "        user_data['Occupation'].min()\n",
    "\n",
    "    ud = user_data[(user_data['UserID'] == user_id)].values\n",
    "    not_watched = []\n",
    "    list_ratings = []\n",
    "\n",
    "    movie_idxs = np.arange(data['Movie_idx'].min(),\n",
    "                           data['Movie_idx'].max()+1, 1)\n",
    "\n",
    "    for movie in movie_idxs:\n",
    "        if (not len(data[(data['User_idx'] == user_idx) & (data['Movie_idx'] == movie)]['Movie_idx'].to_list())):\n",
    "            not_watched.append(movie)\n",
    "        # else:\n",
    "        #     print(f'Already Wacthed {movie}')\n",
    "\n",
    "    for movie in not_watched:\n",
    "        movie_features = ['Title', 'Genres']\n",
    "        title, genres = data.iloc[data[data['Movie_idx']\n",
    "                                       == movie].index[0]][movie_features]\n",
    "        gender, age, occupation = ud[0][1:4]\n",
    "        # print(gender, age, occupation)\n",
    "        rating = model(torch.tensor([user_idx]).to(device), torch.tensor([movie]).to(device), torch.tensor(\n",
    "            [gender]).to(device), torch.tensor([age]).to(device), torch.tensor([occupation]).to(device))\n",
    "\n",
    "        list_ratings.append([user_id, idx_to_movie\n",
    "                             [movie], title,\n",
    "                            genres, gender, age, occupation, rating.item()])\n",
    "\n",
    "\n",
    "# Define the column names\n",
    "    column_names = ['UserID', 'MovieID', 'Title',\n",
    "                    'Genres', 'Gender', 'Age', 'Occupation', 'Rating']\n",
    "\n",
    "    # Create a DataFrame\n",
    "    df_list = pd.DataFrame(list_ratings, columns=column_names)\n",
    "    return df_list"
   ]
  },
  {
   "cell_type": "code",
   "execution_count": 4,
   "metadata": {},
   "outputs": [],
   "source": [
    "def genres_counts(data):\n",
    "    flat_genres = [genre for sublist in data['Genres'].apply(\n",
    "        lambda x: x.split('|')).values.flatten() for genre in sublist]\n",
    "    genre_counts = dict(Counter(flat_genres))\n",
    "    return genre_counts"
   ]
  },
  {
   "cell_type": "code",
   "execution_count": 5,
   "metadata": {},
   "outputs": [],
   "source": [
    "def load_and_preprocess_data():\n",
    "    # Load data\n",
    "    movie_data = pd.read_csv('data/movies_grouplens/movies.dat',\n",
    "                             delimiter='::', header=None, engine='python', encoding='latin1')\n",
    "    rating_data = pd.read_csv('data/movies_grouplens/ratings.dat',\n",
    "                              delimiter='::', header=None, engine='python', encoding='latin1')\n",
    "    user_data = pd.read_csv('data/movies_grouplens/users.dat',\n",
    "                            delimiter='::', header=None, engine='python', encoding='latin1')\n",
    "\n",
    "    # Set column names\n",
    "    movie_data.columns = ['MovieID', 'Title', 'Genres']\n",
    "    rating_data.columns = ['UserID', 'MovieID', 'Rating', 'Timestamp']\n",
    "    user_data.columns = ['UserID', 'Gender', 'Age', 'Occupation', 'Zip-code']\n",
    "\n",
    "    # Merge datasets\n",
    "    df = pd.merge(rating_data, movie_data, on='MovieID', how='left')\n",
    "    df = pd.merge(df, user_data, on='UserID', how='left')\n",
    "\n",
    "    # Convert categorical variables\n",
    "    df['Gender'] = df['Gender'].map({'M': 0, 'F': 1})\n",
    "\n",
    "    # Create index mappings\n",
    "    users = df['UserID'].unique()\n",
    "    movies = df['MovieID'].unique()\n",
    "\n",
    "    user_to_idx = {user: idx for idx, user in enumerate(users)}\n",
    "    movie_to_idx = {movie: idx for idx, movie in enumerate(movies)}\n",
    "\n",
    "    # Add index columns\n",
    "    df['User_idx'] = df['UserID'].map(user_to_idx)\n",
    "    df['Movie_idx'] = df['MovieID'].map(movie_to_idx)\n",
    "\n",
    "    # Normalize age and occupation values to start from 0\n",
    "    df['Age'] = df['Age'] - df['Age'].min()\n",
    "    df['Occupation'] = df['Occupation'] - df['Occupation'].min()\n",
    "\n",
    "    return df, user_to_idx, movie_to_idx"
   ]
  },
  {
   "cell_type": "code",
   "execution_count": 6,
   "metadata": {},
   "outputs": [],
   "source": [
    "device = torch.device(\n",
    "    'mps' if torch.backends.mps.is_available() else 'cpu')\n",
    "device = torch.device('cuda') if torch.cuda.is_available() else device"
   ]
  },
  {
   "cell_type": "code",
   "execution_count": 7,
   "metadata": {},
   "outputs": [],
   "source": [
    "con_aware_NCF = torch.jit.load(\n",
    "    'models/NCF_CNN_Enchanced.pt', map_location=device)"
   ]
  },
  {
   "cell_type": "code",
   "execution_count": 8,
   "metadata": {},
   "outputs": [],
   "source": [
    "ncf_cnn = torch.jit.load('models/NCF_CNN.pt', map_location=device)"
   ]
  },
  {
   "cell_type": "code",
   "execution_count": 9,
   "metadata": {},
   "outputs": [],
   "source": [
    "data_ua, user_to_idx_ua, movie_to_idx_ua = load_and_preprocess_data()\n",
    "\n",
    "\n",
    "user_data = pd.read_csv(\n",
    "    'data/movies_grouplens/users.dat', delimiter='::', header=None, engine='python', encoding='latin1'\n",
    ")\n",
    "user_data.columns = ['UserID', 'Gender', 'Age', 'Occupation', 'Zip-code']\n",
    "\n",
    "user_data['Gender'] = user_data['Gender'].map({'M': 0, 'F': 1})\n",
    "user_data['Age'] = user_data['Age'] - user_data['Age'].min()\n",
    "user_data['Occupation'] = user_data['Occupation'] - \\\n",
    "    user_data['Occupation'].min()"
   ]
  },
  {
   "cell_type": "code",
   "execution_count": 10,
   "metadata": {},
   "outputs": [],
   "source": [
    "data_cnn_ncf = pd.read_csv('data/movies_grouplens/ratings.dat',\n",
    "                           delimiter='::', header=None, engine='python', encoding='latin1')\n",
    "data_cnn_ncf.columns = ['user', 'event', 'rating', 'timestamp']\n",
    "\n",
    "users = data_cnn_ncf['user'].unique()\n",
    "events = data_cnn_ncf['event'].unique()\n",
    "\n",
    "user_to_idx = {user: idx for idx, user in enumerate(users)}\n",
    "event_to_idx = {event: idx for idx, event in enumerate(events)}\n",
    "idx_to_user = {idx: user for user,\n",
    "               idx in user_to_idx.items()}  # For reverse lookup\n",
    "idx_to_event = {idx: event for event,\n",
    "                idx in event_to_idx.items()}  # For reverse lookup\n",
    "\n",
    "data_cnn_ncf['user_idx'] = data_cnn_ncf['user'].map(user_to_idx)\n",
    "data_cnn_ncf['event_idx'] = data_cnn_ncf['event'].map(event_to_idx)"
   ]
  },
  {
   "cell_type": "code",
   "execution_count": 11,
   "metadata": {},
   "outputs": [],
   "source": [
    "movie_data = pd.read_csv('data/movies_grouplens/movies.dat',\n",
    "                         delimiter='::', header=None, engine='python', encoding='latin1')\n",
    "movie_data.columns = ['MovieID', 'Title', 'Genres']\n",
    "movie_data['Genres'] = movie_data['Genres'].fillna('')"
   ]
  },
  {
   "cell_type": "markdown",
   "metadata": {},
   "source": [
    "## NCF with CNN"
   ]
  },
  {
   "cell_type": "code",
   "execution_count": 12,
   "metadata": {},
   "outputs": [],
   "source": [
    "def get_cnn_sncf_recommendations(user_id, data, model, device, idx_to_event, idx_to_user, user_to_idx, k=10):\n",
    "    model.eval()\n",
    "    user_idx = user_to_idx[user_id]\n",
    "\n",
    "    all_events = np.arange(data['event_idx'].min(),\n",
    "                           data['event_idx'].max() + 1)\n",
    "\n",
    "    watched_events = set(\n",
    "        data[data['user_idx'] == user_idx]['event_idx'].unique())\n",
    "\n",
    "    not_watched = np.setdiff1d(all_events, list(watched_events))\n",
    "\n",
    "    user_idx_tensor = torch.tensor(\n",
    "        [user_idx] * len(not_watched), device=device, dtype=torch.long)\n",
    "    event_idx_tensor = torch.tensor(\n",
    "        not_watched, device=device, dtype=torch.long)\n",
    "\n",
    "    with torch.no_grad():\n",
    "        ratings = model(user_idx_tensor, event_idx_tensor)\n",
    "\n",
    "    ratings = ratings.flatten()\n",
    "\n",
    "    sorted_indices = torch.argsort(ratings, descending=True)\n",
    "    top_k_indices = sorted_indices[:k]\n",
    "\n",
    "    top_k_events = event_idx_tensor[top_k_indices]\n",
    "\n",
    "    top_k_ratings = ratings[top_k_indices]\n",
    "\n",
    "    recommendations = [\n",
    "        [user_id, idx_to_event[int(event)], float(rating)]\n",
    "        for event, rating in zip(top_k_events, top_k_ratings)\n",
    "    ]\n",
    "\n",
    "    return recommendations"
   ]
  },
  {
   "cell_type": "markdown",
   "metadata": {},
   "source": [
    "## User-Aware NCF with CNN"
   ]
  },
  {
   "cell_type": "code",
   "execution_count": 13,
   "metadata": {},
   "outputs": [],
   "source": [
    "def get_ua_recommendations(user_id, model, data, user_to_idx, movie_to_idx, device, user_data):\n",
    "    idx_to_movie = {v: k for k, v in movie_to_idx.items()}\n",
    "\n",
    "    user_row = user_data[user_data['UserID'] == user_id].iloc[0]\n",
    "    gender, age, occupation = user_row['Gender'], user_row['Age'], user_row['Occupation']\n",
    "\n",
    "    user_idx = user_to_idx[user_id]\n",
    "    all_movies = np.arange(data['Movie_idx'].min(),\n",
    "                           data['Movie_idx'].max() + 1)\n",
    "\n",
    "    watched_movies = set(\n",
    "        data[data['User_idx'] == user_idx]['Movie_idx'].unique())\n",
    "\n",
    "    not_watched = np.setdiff1d(all_movies, list(watched_movies))\n",
    "\n",
    "    not_watched_data = data[data['Movie_idx'].isin(\n",
    "        not_watched)][['Movie_idx', 'Title', 'Genres']].drop_duplicates()\n",
    "\n",
    "    user_idx_tensor = torch.tensor(\n",
    "        [user_idx] * len(not_watched), device=device)\n",
    "    movie_idx_tensor = torch.tensor(\n",
    "        not_watched_data['Movie_idx'].values, device=device)\n",
    "    gender_tensor = torch.tensor([gender] * len(not_watched), device=device)\n",
    "    age_tensor = torch.tensor([age] * len(not_watched), device=device)\n",
    "    occupation_tensor = torch.tensor(\n",
    "        [occupation] * len(not_watched), device=device)\n",
    "\n",
    "    with torch.no_grad():\n",
    "        ratings = model(user_idx_tensor, movie_idx_tensor,\n",
    "                        gender_tensor, age_tensor, occupation_tensor)\n",
    "\n",
    "    not_watched_data['UserID'] = user_id\n",
    "    not_watched_data['Gender'] = gender\n",
    "    not_watched_data['Age'] = age\n",
    "    not_watched_data['Occupation'] = occupation\n",
    "    not_watched_data['Rating'] = ratings.cpu().numpy()\n",
    "\n",
    "    column_order = ['UserID', 'Movie_idx', 'Title',\n",
    "                    'Genres', 'Gender', 'Age', 'Occupation', 'Rating']\n",
    "    result = not_watched_data[column_order].rename(\n",
    "        columns={'Movie_idx': 'MovieID'})\n",
    "    result['MovieID'] = result['MovieID'].apply(lambda x: idx_to_movie[x])\n",
    "    return result"
   ]
  },
  {
   "cell_type": "markdown",
   "metadata": {},
   "source": [
    "## CBF"
   ]
  },
  {
   "cell_type": "code",
   "execution_count": 14,
   "metadata": {},
   "outputs": [],
   "source": [
    "def get_cbf_recommendations(user_id, k=10):\n",
    "    return cbf.cbf_recommend_movies(user_id)"
   ]
  },
  {
   "cell_type": "markdown",
   "metadata": {},
   "source": [
    "## Hybrid Recommendations"
   ]
  },
  {
   "cell_type": "code",
   "execution_count": 49,
   "metadata": {},
   "outputs": [],
   "source": [
    "def get_hybrid_recommendations(alpha, ua_res, cbf_res):\n",
    "    hybrid_recommendations = ua_res.merge(\n",
    "        cbf_res, on=['MovieID', 'Title', 'Genres'])\n",
    "    hybrid_recommendations['Ensemble_Rating'] = alpha * \\\n",
    "        hybrid_recommendations['Rating'] + \\\n",
    "        (1-alpha)*hybrid_recommendations['Score']\n",
    "    return hybrid_recommendations.sort_values(by='Ensemble_Rating', ascending=False)[\n",
    "        ['MovieID', 'Title', 'Genres']]"
   ]
  },
  {
   "cell_type": "markdown",
   "metadata": {},
   "source": [
    "## Recommendations"
   ]
  },
  {
   "cell_type": "code",
   "execution_count": 50,
   "metadata": {},
   "outputs": [],
   "source": [
    "user_id = 582\n",
    "k = 10\n",
    "alpha = 0.8"
   ]
  },
  {
   "cell_type": "code",
   "execution_count": 51,
   "metadata": {},
   "outputs": [],
   "source": [
    "recommendations_cnn_sncf = get_cnn_sncf_recommendations(\n",
    "    user_id, data_cnn_ncf, ncf_cnn, device, idx_to_event, idx_to_user, user_to_idx)"
   ]
  },
  {
   "cell_type": "code",
   "execution_count": 52,
   "metadata": {},
   "outputs": [],
   "source": [
    "recommendations_ua = get_ua_recommendations(user_id, con_aware_NCF, data_ua, user_to_idx_ua, movie_to_idx_ua,\n",
    "                                            device, user_data).sort_values(by='Rating', ascending=False)"
   ]
  },
  {
   "cell_type": "code",
   "execution_count": 53,
   "metadata": {},
   "outputs": [],
   "source": [
    "recommendations_cbf = get_cbf_recommendations(user_id)"
   ]
  },
  {
   "cell_type": "code",
   "execution_count": 54,
   "metadata": {},
   "outputs": [],
   "source": [
    "recommendations_hybrid = get_hybrid_recommendations(\n",
    "    alpha, recommendations_ua, recommendations_cbf)"
   ]
  },
  {
   "cell_type": "markdown",
   "metadata": {},
   "source": [
    "## Results"
   ]
  },
  {
   "cell_type": "markdown",
   "metadata": {},
   "source": [
    "### CNN SNCF"
   ]
  },
  {
   "cell_type": "code",
   "execution_count": 55,
   "metadata": {},
   "outputs": [
    {
     "data": {
      "text/html": [
       "<div>\n",
       "<style scoped>\n",
       "    .dataframe tbody tr th:only-of-type {\n",
       "        vertical-align: middle;\n",
       "    }\n",
       "\n",
       "    .dataframe tbody tr th {\n",
       "        vertical-align: top;\n",
       "    }\n",
       "\n",
       "    .dataframe thead th {\n",
       "        text-align: right;\n",
       "    }\n",
       "</style>\n",
       "<table border=\"1\" class=\"dataframe\">\n",
       "  <thead>\n",
       "    <tr style=\"text-align: right;\">\n",
       "      <th></th>\n",
       "      <th>MovieID</th>\n",
       "      <th>Title</th>\n",
       "      <th>Genres</th>\n",
       "    </tr>\n",
       "  </thead>\n",
       "  <tbody>\n",
       "    <tr>\n",
       "      <th>49</th>\n",
       "      <td>50</td>\n",
       "      <td>Usual Suspects, The (1995)</td>\n",
       "      <td>Crime|Thriller</td>\n",
       "    </tr>\n",
       "    <tr>\n",
       "      <th>315</th>\n",
       "      <td>318</td>\n",
       "      <td>Shawshank Redemption, The (1994)</td>\n",
       "      <td>Drama</td>\n",
       "    </tr>\n",
       "    <tr>\n",
       "      <th>523</th>\n",
       "      <td>527</td>\n",
       "      <td>Schindler's List (1993)</td>\n",
       "      <td>Drama|War</td>\n",
       "    </tr>\n",
       "    <tr>\n",
       "      <th>589</th>\n",
       "      <td>593</td>\n",
       "      <td>Silence of the Lambs, The (1991)</td>\n",
       "      <td>Drama|Thriller</td>\n",
       "    </tr>\n",
       "    <tr>\n",
       "      <th>847</th>\n",
       "      <td>858</td>\n",
       "      <td>Godfather, The (1972)</td>\n",
       "      <td>Action|Crime|Drama</td>\n",
       "    </tr>\n",
       "    <tr>\n",
       "      <th>896</th>\n",
       "      <td>908</td>\n",
       "      <td>North by Northwest (1959)</td>\n",
       "      <td>Drama|Thriller</td>\n",
       "    </tr>\n",
       "    <tr>\n",
       "      <th>910</th>\n",
       "      <td>922</td>\n",
       "      <td>Sunset Blvd. (a.k.a. Sunset Boulevard) (1950)</td>\n",
       "      <td>Film-Noir</td>\n",
       "    </tr>\n",
       "    <tr>\n",
       "      <th>1162</th>\n",
       "      <td>1178</td>\n",
       "      <td>Paths of Glory (1957)</td>\n",
       "      <td>Drama|War</td>\n",
       "    </tr>\n",
       "    <tr>\n",
       "      <th>1180</th>\n",
       "      <td>1198</td>\n",
       "      <td>Raiders of the Lost Ark (1981)</td>\n",
       "      <td>Action|Adventure</td>\n",
       "    </tr>\n",
       "    <tr>\n",
       "      <th>1189</th>\n",
       "      <td>1207</td>\n",
       "      <td>To Kill a Mockingbird (1962)</td>\n",
       "      <td>Drama</td>\n",
       "    </tr>\n",
       "  </tbody>\n",
       "</table>\n",
       "</div>"
      ],
      "text/plain": [
       "      MovieID                                          Title  \\\n",
       "49         50                     Usual Suspects, The (1995)   \n",
       "315       318               Shawshank Redemption, The (1994)   \n",
       "523       527                        Schindler's List (1993)   \n",
       "589       593               Silence of the Lambs, The (1991)   \n",
       "847       858                          Godfather, The (1972)   \n",
       "896       908                      North by Northwest (1959)   \n",
       "910       922  Sunset Blvd. (a.k.a. Sunset Boulevard) (1950)   \n",
       "1162     1178                          Paths of Glory (1957)   \n",
       "1180     1198                 Raiders of the Lost Ark (1981)   \n",
       "1189     1207                   To Kill a Mockingbird (1962)   \n",
       "\n",
       "                  Genres  \n",
       "49        Crime|Thriller  \n",
       "315                Drama  \n",
       "523            Drama|War  \n",
       "589       Drama|Thriller  \n",
       "847   Action|Crime|Drama  \n",
       "896       Drama|Thriller  \n",
       "910            Film-Noir  \n",
       "1162           Drama|War  \n",
       "1180    Action|Adventure  \n",
       "1189               Drama  "
      ]
     },
     "execution_count": 55,
     "metadata": {},
     "output_type": "execute_result"
    }
   ],
   "source": [
    "movie_ids = [rec[1] for rec in recommendations_cnn_sncf]\n",
    "recommendations_cnn_sncf = movie_data[movie_data['MovieID'].isin(movie_ids)]\n",
    "recommendations_cnn_sncf"
   ]
  },
  {
   "cell_type": "markdown",
   "metadata": {},
   "source": [
    "### User-Aware CNN SNCF"
   ]
  },
  {
   "cell_type": "code",
   "execution_count": 56,
   "metadata": {},
   "outputs": [
    {
     "data": {
      "text/html": [
       "<div>\n",
       "<style scoped>\n",
       "    .dataframe tbody tr th:only-of-type {\n",
       "        vertical-align: middle;\n",
       "    }\n",
       "\n",
       "    .dataframe tbody tr th {\n",
       "        vertical-align: top;\n",
       "    }\n",
       "\n",
       "    .dataframe thead th {\n",
       "        text-align: right;\n",
       "    }\n",
       "</style>\n",
       "<table border=\"1\" class=\"dataframe\">\n",
       "  <thead>\n",
       "    <tr style=\"text-align: right;\">\n",
       "      <th></th>\n",
       "      <th>MovieID</th>\n",
       "      <th>Title</th>\n",
       "      <th>Genres</th>\n",
       "    </tr>\n",
       "  </thead>\n",
       "  <tbody>\n",
       "    <tr>\n",
       "      <th>135</th>\n",
       "      <td>2571</td>\n",
       "      <td>Matrix, The (1999)</td>\n",
       "      <td>Action|Sci-Fi|Thriller</td>\n",
       "    </tr>\n",
       "    <tr>\n",
       "      <th>1202</th>\n",
       "      <td>216</td>\n",
       "      <td>Billy Madison (1995)</td>\n",
       "      <td>Comedy</td>\n",
       "    </tr>\n",
       "    <tr>\n",
       "      <th>93</th>\n",
       "      <td>110</td>\n",
       "      <td>Braveheart (1995)</td>\n",
       "      <td>Action|Drama|War</td>\n",
       "    </tr>\n",
       "    <tr>\n",
       "      <th>172</th>\n",
       "      <td>318</td>\n",
       "      <td>Shawshank Redemption, The (1994)</td>\n",
       "      <td>Drama</td>\n",
       "    </tr>\n",
       "    <tr>\n",
       "      <th>177</th>\n",
       "      <td>356</td>\n",
       "      <td>Forrest Gump (1994)</td>\n",
       "      <td>Comedy|Romance|War</td>\n",
       "    </tr>\n",
       "    <tr>\n",
       "      <th>44</th>\n",
       "      <td>260</td>\n",
       "      <td>Star Wars: Episode IV - A New Hope (1977)</td>\n",
       "      <td>Action|Adventure|Fantasy|Sci-Fi</td>\n",
       "    </tr>\n",
       "    <tr>\n",
       "      <th>86</th>\n",
       "      <td>3147</td>\n",
       "      <td>Green Mile, The (1999)</td>\n",
       "      <td>Drama|Thriller</td>\n",
       "    </tr>\n",
       "    <tr>\n",
       "      <th>195</th>\n",
       "      <td>1291</td>\n",
       "      <td>Indiana Jones and the Last Crusade (1989)</td>\n",
       "      <td>Action|Adventure</td>\n",
       "    </tr>\n",
       "    <tr>\n",
       "      <th>210</th>\n",
       "      <td>733</td>\n",
       "      <td>Rock, The (1996)</td>\n",
       "      <td>Action|Adventure|Thriller</td>\n",
       "    </tr>\n",
       "    <tr>\n",
       "      <th>681</th>\n",
       "      <td>2329</td>\n",
       "      <td>American History X (1998)</td>\n",
       "      <td>Drama</td>\n",
       "    </tr>\n",
       "  </tbody>\n",
       "</table>\n",
       "</div>"
      ],
      "text/plain": [
       "      MovieID                                      Title  \\\n",
       "135      2571                         Matrix, The (1999)   \n",
       "1202      216                       Billy Madison (1995)   \n",
       "93        110                          Braveheart (1995)   \n",
       "172       318           Shawshank Redemption, The (1994)   \n",
       "177       356                        Forrest Gump (1994)   \n",
       "44        260  Star Wars: Episode IV - A New Hope (1977)   \n",
       "86       3147                     Green Mile, The (1999)   \n",
       "195      1291  Indiana Jones and the Last Crusade (1989)   \n",
       "210       733                           Rock, The (1996)   \n",
       "681      2329                  American History X (1998)   \n",
       "\n",
       "                               Genres  \n",
       "135            Action|Sci-Fi|Thriller  \n",
       "1202                           Comedy  \n",
       "93                   Action|Drama|War  \n",
       "172                             Drama  \n",
       "177                Comedy|Romance|War  \n",
       "44    Action|Adventure|Fantasy|Sci-Fi  \n",
       "86                     Drama|Thriller  \n",
       "195                  Action|Adventure  \n",
       "210         Action|Adventure|Thriller  \n",
       "681                             Drama  "
      ]
     },
     "execution_count": 56,
     "metadata": {},
     "output_type": "execute_result"
    }
   ],
   "source": [
    "recommendations_ua = recommendations_ua[['MovieID', 'Title', 'Genres']].head(k)\n",
    "recommendations_ua"
   ]
  },
  {
   "cell_type": "markdown",
   "metadata": {},
   "source": [
    "### CBF"
   ]
  },
  {
   "cell_type": "code",
   "execution_count": 57,
   "metadata": {},
   "outputs": [
    {
     "data": {
      "text/html": [
       "<div>\n",
       "<style scoped>\n",
       "    .dataframe tbody tr th:only-of-type {\n",
       "        vertical-align: middle;\n",
       "    }\n",
       "\n",
       "    .dataframe tbody tr th {\n",
       "        vertical-align: top;\n",
       "    }\n",
       "\n",
       "    .dataframe thead th {\n",
       "        text-align: right;\n",
       "    }\n",
       "</style>\n",
       "<table border=\"1\" class=\"dataframe\">\n",
       "  <thead>\n",
       "    <tr style=\"text-align: right;\">\n",
       "      <th></th>\n",
       "      <th>MovieID</th>\n",
       "      <th>Title</th>\n",
       "      <th>Genres</th>\n",
       "    </tr>\n",
       "  </thead>\n",
       "  <tbody>\n",
       "    <tr>\n",
       "      <th>0</th>\n",
       "      <td>1648</td>\n",
       "      <td>House of Yes, The (1997)</td>\n",
       "      <td>Comedy|Drama|Thriller</td>\n",
       "    </tr>\n",
       "    <tr>\n",
       "      <th>1</th>\n",
       "      <td>3227</td>\n",
       "      <td>Not Love, Just Frenzy (Más que amor, frenesí) ...</td>\n",
       "      <td>Comedy|Drama|Thriller</td>\n",
       "    </tr>\n",
       "    <tr>\n",
       "      <th>2</th>\n",
       "      <td>2699</td>\n",
       "      <td>Arachnophobia (1990)</td>\n",
       "      <td>Action|Comedy|Sci-Fi|Thriller</td>\n",
       "    </tr>\n",
       "    <tr>\n",
       "      <th>3</th>\n",
       "      <td>1876</td>\n",
       "      <td>Deep Impact (1998)</td>\n",
       "      <td>Action|Drama|Sci-Fi|Thriller</td>\n",
       "    </tr>\n",
       "    <tr>\n",
       "      <th>4</th>\n",
       "      <td>1861</td>\n",
       "      <td>Junk Mail (1997)</td>\n",
       "      <td>Comedy|Thriller</td>\n",
       "    </tr>\n",
       "    <tr>\n",
       "      <th>5</th>\n",
       "      <td>1764</td>\n",
       "      <td>Tainted (1998)</td>\n",
       "      <td>Comedy|Thriller</td>\n",
       "    </tr>\n",
       "    <tr>\n",
       "      <th>6</th>\n",
       "      <td>2806</td>\n",
       "      <td>Teaching Mrs. Tingle (1999)</td>\n",
       "      <td>Comedy|Thriller</td>\n",
       "    </tr>\n",
       "    <tr>\n",
       "      <th>7</th>\n",
       "      <td>3893</td>\n",
       "      <td>Nurse Betty (2000)</td>\n",
       "      <td>Comedy|Thriller</td>\n",
       "    </tr>\n",
       "    <tr>\n",
       "      <th>8</th>\n",
       "      <td>2349</td>\n",
       "      <td>Mona Lisa (1986)</td>\n",
       "      <td>Comedy|Thriller</td>\n",
       "    </tr>\n",
       "    <tr>\n",
       "      <th>9</th>\n",
       "      <td>1824</td>\n",
       "      <td>Homegrown (1998)</td>\n",
       "      <td>Comedy|Thriller</td>\n",
       "    </tr>\n",
       "  </tbody>\n",
       "</table>\n",
       "</div>"
      ],
      "text/plain": [
       "   MovieID                                              Title  \\\n",
       "0     1648                           House of Yes, The (1997)   \n",
       "1     3227  Not Love, Just Frenzy (Más que amor, frenesí) ...   \n",
       "2     2699                               Arachnophobia (1990)   \n",
       "3     1876                                 Deep Impact (1998)   \n",
       "4     1861                                   Junk Mail (1997)   \n",
       "5     1764                                     Tainted (1998)   \n",
       "6     2806                        Teaching Mrs. Tingle (1999)   \n",
       "7     3893                                 Nurse Betty (2000)   \n",
       "8     2349                                   Mona Lisa (1986)   \n",
       "9     1824                                   Homegrown (1998)   \n",
       "\n",
       "                          Genres  \n",
       "0          Comedy|Drama|Thriller  \n",
       "1          Comedy|Drama|Thriller  \n",
       "2  Action|Comedy|Sci-Fi|Thriller  \n",
       "3   Action|Drama|Sci-Fi|Thriller  \n",
       "4                Comedy|Thriller  \n",
       "5                Comedy|Thriller  \n",
       "6                Comedy|Thriller  \n",
       "7                Comedy|Thriller  \n",
       "8                Comedy|Thriller  \n",
       "9                Comedy|Thriller  "
      ]
     },
     "execution_count": 57,
     "metadata": {},
     "output_type": "execute_result"
    }
   ],
   "source": [
    "recommendations_cbf = recommendations_cbf[[\n",
    "    'MovieID', 'Title', 'Genres']].head(k)\n",
    "recommendations_cbf"
   ]
  },
  {
   "cell_type": "markdown",
   "metadata": {},
   "source": [
    "### Hybrid "
   ]
  },
  {
   "cell_type": "code",
   "execution_count": 58,
   "metadata": {},
   "outputs": [
    {
     "data": {
      "text/html": [
       "<div>\n",
       "<style scoped>\n",
       "    .dataframe tbody tr th:only-of-type {\n",
       "        vertical-align: middle;\n",
       "    }\n",
       "\n",
       "    .dataframe tbody tr th {\n",
       "        vertical-align: top;\n",
       "    }\n",
       "\n",
       "    .dataframe thead th {\n",
       "        text-align: right;\n",
       "    }\n",
       "</style>\n",
       "<table border=\"1\" class=\"dataframe\">\n",
       "  <thead>\n",
       "    <tr style=\"text-align: right;\">\n",
       "      <th></th>\n",
       "      <th>MovieID</th>\n",
       "      <th>Title</th>\n",
       "      <th>Genres</th>\n",
       "    </tr>\n",
       "  </thead>\n",
       "  <tbody>\n",
       "    <tr>\n",
       "      <th>0</th>\n",
       "      <td>2571</td>\n",
       "      <td>Matrix, The (1999)</td>\n",
       "      <td>Action|Sci-Fi|Thriller</td>\n",
       "    </tr>\n",
       "    <tr>\n",
       "      <th>10</th>\n",
       "      <td>2324</td>\n",
       "      <td>Life Is Beautiful (La Vita è bella) (1997)</td>\n",
       "      <td>Comedy|Drama</td>\n",
       "    </tr>\n",
       "    <tr>\n",
       "      <th>6</th>\n",
       "      <td>3147</td>\n",
       "      <td>Green Mile, The (1999)</td>\n",
       "      <td>Drama|Thriller</td>\n",
       "    </tr>\n",
       "    <tr>\n",
       "      <th>1</th>\n",
       "      <td>216</td>\n",
       "      <td>Billy Madison (1995)</td>\n",
       "      <td>Comedy</td>\n",
       "    </tr>\n",
       "    <tr>\n",
       "      <th>30</th>\n",
       "      <td>1968</td>\n",
       "      <td>Breakfast Club, The (1985)</td>\n",
       "      <td>Comedy|Drama</td>\n",
       "    </tr>\n",
       "    <tr>\n",
       "      <th>28</th>\n",
       "      <td>593</td>\n",
       "      <td>Silence of the Lambs, The (1991)</td>\n",
       "      <td>Drama|Thriller</td>\n",
       "    </tr>\n",
       "    <tr>\n",
       "      <th>29</th>\n",
       "      <td>589</td>\n",
       "      <td>Terminator 2: Judgment Day (1991)</td>\n",
       "      <td>Action|Sci-Fi|Thriller</td>\n",
       "    </tr>\n",
       "    <tr>\n",
       "      <th>15</th>\n",
       "      <td>2918</td>\n",
       "      <td>Ferris Bueller's Day Off (1986)</td>\n",
       "      <td>Comedy</td>\n",
       "    </tr>\n",
       "    <tr>\n",
       "      <th>3</th>\n",
       "      <td>318</td>\n",
       "      <td>Shawshank Redemption, The (1994)</td>\n",
       "      <td>Drama</td>\n",
       "    </tr>\n",
       "    <tr>\n",
       "      <th>13</th>\n",
       "      <td>1036</td>\n",
       "      <td>Die Hard (1988)</td>\n",
       "      <td>Action|Thriller</td>\n",
       "    </tr>\n",
       "  </tbody>\n",
       "</table>\n",
       "</div>"
      ],
      "text/plain": [
       "    MovieID                                       Title  \\\n",
       "0      2571                          Matrix, The (1999)   \n",
       "10     2324  Life Is Beautiful (La Vita è bella) (1997)   \n",
       "6      3147                      Green Mile, The (1999)   \n",
       "1       216                        Billy Madison (1995)   \n",
       "30     1968                  Breakfast Club, The (1985)   \n",
       "28      593            Silence of the Lambs, The (1991)   \n",
       "29      589           Terminator 2: Judgment Day (1991)   \n",
       "15     2918             Ferris Bueller's Day Off (1986)   \n",
       "3       318            Shawshank Redemption, The (1994)   \n",
       "13     1036                             Die Hard (1988)   \n",
       "\n",
       "                    Genres  \n",
       "0   Action|Sci-Fi|Thriller  \n",
       "10            Comedy|Drama  \n",
       "6           Drama|Thriller  \n",
       "1                   Comedy  \n",
       "30            Comedy|Drama  \n",
       "28          Drama|Thriller  \n",
       "29  Action|Sci-Fi|Thriller  \n",
       "15                  Comedy  \n",
       "3                    Drama  \n",
       "13         Action|Thriller  "
      ]
     },
     "execution_count": 58,
     "metadata": {},
     "output_type": "execute_result"
    }
   ],
   "source": [
    "recommendations_hybrid.head(k)"
   ]
  },
  {
   "cell_type": "markdown",
   "metadata": {},
   "source": [
    "## About User"
   ]
  },
  {
   "cell_type": "code",
   "execution_count": 59,
   "metadata": {},
   "outputs": [
    {
     "data": {
      "text/html": [
       "<div>\n",
       "<style scoped>\n",
       "    .dataframe tbody tr th:only-of-type {\n",
       "        vertical-align: middle;\n",
       "    }\n",
       "\n",
       "    .dataframe tbody tr th {\n",
       "        vertical-align: top;\n",
       "    }\n",
       "\n",
       "    .dataframe thead th {\n",
       "        text-align: right;\n",
       "    }\n",
       "</style>\n",
       "<table border=\"1\" class=\"dataframe\">\n",
       "  <thead>\n",
       "    <tr style=\"text-align: right;\">\n",
       "      <th></th>\n",
       "      <th>UserID</th>\n",
       "      <th>MovieID</th>\n",
       "      <th>Title</th>\n",
       "      <th>Genres</th>\n",
       "      <th>Rating</th>\n",
       "    </tr>\n",
       "  </thead>\n",
       "  <tbody>\n",
       "    <tr>\n",
       "      <th>88175</th>\n",
       "      <td>582</td>\n",
       "      <td>2987</td>\n",
       "      <td>Who Framed Roger Rabbit? (1988)</td>\n",
       "      <td>Adventure|Animation|Film-Noir</td>\n",
       "      <td>5</td>\n",
       "    </tr>\n",
       "    <tr>\n",
       "      <th>88177</th>\n",
       "      <td>582</td>\n",
       "      <td>3793</td>\n",
       "      <td>X-Men (2000)</td>\n",
       "      <td>Action|Sci-Fi</td>\n",
       "      <td>5</td>\n",
       "    </tr>\n",
       "    <tr>\n",
       "      <th>88179</th>\n",
       "      <td>582</td>\n",
       "      <td>3005</td>\n",
       "      <td>Bone Collector, The (1999)</td>\n",
       "      <td>Thriller</td>\n",
       "      <td>5</td>\n",
       "    </tr>\n",
       "    <tr>\n",
       "      <th>88184</th>\n",
       "      <td>582</td>\n",
       "      <td>3409</td>\n",
       "      <td>Final Destination (2000)</td>\n",
       "      <td>Drama|Thriller</td>\n",
       "      <td>5</td>\n",
       "    </tr>\n",
       "    <tr>\n",
       "      <th>88181</th>\n",
       "      <td>582</td>\n",
       "      <td>2093</td>\n",
       "      <td>Return to Oz (1985)</td>\n",
       "      <td>Adventure|Children's|Fantasy|Sci-Fi</td>\n",
       "      <td>5</td>\n",
       "    </tr>\n",
       "    <tr>\n",
       "      <th>88193</th>\n",
       "      <td>582</td>\n",
       "      <td>2676</td>\n",
       "      <td>Instinct (1999)</td>\n",
       "      <td>Drama|Thriller</td>\n",
       "      <td>5</td>\n",
       "    </tr>\n",
       "    <tr>\n",
       "      <th>88191</th>\n",
       "      <td>582</td>\n",
       "      <td>3471</td>\n",
       "      <td>Close Encounters of the Third Kind (1977)</td>\n",
       "      <td>Drama|Sci-Fi</td>\n",
       "      <td>5</td>\n",
       "    </tr>\n",
       "    <tr>\n",
       "      <th>88186</th>\n",
       "      <td>582</td>\n",
       "      <td>2478</td>\n",
       "      <td>Three Amigos! (1986)</td>\n",
       "      <td>Comedy|Western</td>\n",
       "      <td>5</td>\n",
       "    </tr>\n",
       "    <tr>\n",
       "      <th>88190</th>\n",
       "      <td>582</td>\n",
       "      <td>3617</td>\n",
       "      <td>Road Trip (2000)</td>\n",
       "      <td>Comedy</td>\n",
       "      <td>5</td>\n",
       "    </tr>\n",
       "    <tr>\n",
       "      <th>88199</th>\n",
       "      <td>582</td>\n",
       "      <td>2841</td>\n",
       "      <td>Stir of Echoes (1999)</td>\n",
       "      <td>Thriller</td>\n",
       "      <td>5</td>\n",
       "    </tr>\n",
       "  </tbody>\n",
       "</table>\n",
       "</div>"
      ],
      "text/plain": [
       "       UserID  MovieID                                      Title  \\\n",
       "88175     582     2987            Who Framed Roger Rabbit? (1988)   \n",
       "88177     582     3793                               X-Men (2000)   \n",
       "88179     582     3005                 Bone Collector, The (1999)   \n",
       "88184     582     3409                   Final Destination (2000)   \n",
       "88181     582     2093                        Return to Oz (1985)   \n",
       "88193     582     2676                            Instinct (1999)   \n",
       "88191     582     3471  Close Encounters of the Third Kind (1977)   \n",
       "88186     582     2478                       Three Amigos! (1986)   \n",
       "88190     582     3617                           Road Trip (2000)   \n",
       "88199     582     2841                      Stir of Echoes (1999)   \n",
       "\n",
       "                                    Genres  Rating  \n",
       "88175        Adventure|Animation|Film-Noir       5  \n",
       "88177                        Action|Sci-Fi       5  \n",
       "88179                             Thriller       5  \n",
       "88184                       Drama|Thriller       5  \n",
       "88181  Adventure|Children's|Fantasy|Sci-Fi       5  \n",
       "88193                       Drama|Thriller       5  \n",
       "88191                         Drama|Sci-Fi       5  \n",
       "88186                       Comedy|Western       5  \n",
       "88190                               Comedy       5  \n",
       "88199                             Thriller       5  "
      ]
     },
     "execution_count": 59,
     "metadata": {},
     "output_type": "execute_result"
    }
   ],
   "source": [
    "about_user = data_ua[(data_ua['UserID'] == user_id) & (data_ua['Rating'] >= 4)\n",
    "                     ].sort_values(by='Rating', ascending=False)[['UserID', 'MovieID', 'Title', 'Genres', 'Rating']].head(k)\n",
    "about_user"
   ]
  },
  {
   "cell_type": "code",
   "execution_count": 60,
   "metadata": {},
   "outputs": [
    {
     "data": {
      "text/plain": [
       "{'Adventure': 2,\n",
       " 'Animation': 1,\n",
       " 'Film-Noir': 1,\n",
       " 'Action': 1,\n",
       " 'Sci-Fi': 3,\n",
       " 'Thriller': 4,\n",
       " 'Drama': 3,\n",
       " \"Children's\": 1,\n",
       " 'Fantasy': 1,\n",
       " 'Comedy': 2,\n",
       " 'Western': 1}"
      ]
     },
     "execution_count": 60,
     "metadata": {},
     "output_type": "execute_result"
    }
   ],
   "source": [
    "genres_counts(about_user)"
   ]
  },
  {
   "cell_type": "markdown",
   "metadata": {},
   "source": [
    "## Genre Counts"
   ]
  },
  {
   "cell_type": "code",
   "execution_count": 61,
   "metadata": {},
   "outputs": [
    {
     "data": {
      "text/plain": [
       "{'Crime': 2,\n",
       " 'Thriller': 3,\n",
       " 'Drama': 7,\n",
       " 'War': 2,\n",
       " 'Action': 2,\n",
       " 'Film-Noir': 1,\n",
       " 'Adventure': 1}"
      ]
     },
     "execution_count": 61,
     "metadata": {},
     "output_type": "execute_result"
    }
   ],
   "source": [
    "genres_counts(recommendations_cnn_sncf)"
   ]
  },
  {
   "cell_type": "code",
   "execution_count": 62,
   "metadata": {},
   "outputs": [
    {
     "data": {
      "text/plain": [
       "{'Action': 5,\n",
       " 'Sci-Fi': 2,\n",
       " 'Thriller': 3,\n",
       " 'Comedy': 2,\n",
       " 'Drama': 4,\n",
       " 'War': 2,\n",
       " 'Romance': 1,\n",
       " 'Adventure': 3,\n",
       " 'Fantasy': 1}"
      ]
     },
     "execution_count": 62,
     "metadata": {},
     "output_type": "execute_result"
    }
   ],
   "source": [
    "genres_counts(recommendations_ua)"
   ]
  },
  {
   "cell_type": "code",
   "execution_count": 63,
   "metadata": {},
   "outputs": [
    {
     "data": {
      "text/plain": [
       "{'Comedy': 9, 'Drama': 3, 'Thriller': 10, 'Action': 2, 'Sci-Fi': 2}"
      ]
     },
     "execution_count": 63,
     "metadata": {},
     "output_type": "execute_result"
    }
   ],
   "source": [
    "genres_counts(recommendations_cbf)"
   ]
  },
  {
   "cell_type": "code",
   "execution_count": 64,
   "metadata": {},
   "outputs": [
    {
     "data": {
      "text/plain": [
       "{'Action': 3, 'Sci-Fi': 2, 'Thriller': 5, 'Comedy': 4, 'Drama': 5}"
      ]
     },
     "execution_count": 64,
     "metadata": {},
     "output_type": "execute_result"
    }
   ],
   "source": [
    "genres_counts(recommendations_hybrid.head(k))"
   ]
  }
 ],
 "metadata": {
  "kernelspec": {
   "display_name": "torch",
   "language": "python",
   "name": "python3"
  },
  "language_info": {
   "codemirror_mode": {
    "name": "ipython",
    "version": 3
   },
   "file_extension": ".py",
   "mimetype": "text/x-python",
   "name": "python",
   "nbconvert_exporter": "python",
   "pygments_lexer": "ipython3",
   "version": "3.9.20"
  }
 },
 "nbformat": 4,
 "nbformat_minor": 2
}
