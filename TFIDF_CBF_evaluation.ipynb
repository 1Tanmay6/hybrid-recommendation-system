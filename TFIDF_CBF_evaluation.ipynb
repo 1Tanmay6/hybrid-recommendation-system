{
 "cells": [
  {
   "cell_type": "code",
   "execution_count": 1,
   "metadata": {},
   "outputs": [],
   "source": [
    "import numpy as np\n",
    "import pandas as pd\n",
    "from sklearn.feature_extraction.text import TfidfVectorizer\n",
    "from sklearn.metrics.pairwise import cosine_similarity\n",
    "from sklearn.metrics import mean_squared_error"
   ]
  },
  {
   "cell_type": "code",
   "execution_count": 2,
   "metadata": {},
   "outputs": [],
   "source": [
    "movie_data = pd.read_csv('data/movies_grouplens/movies.dat',\n",
    "                         delimiter='::', header=None, engine='python', encoding='latin1')\n",
    "rating_data = pd.read_csv('data/movies_grouplens/ratings.dat',\n",
    "                          delimiter='::', header=None, engine='python', encoding='latin1')\n",
    "user_data = pd.read_csv('data/movies_grouplens/users.dat',\n",
    "                        delimiter='::', header=None, engine='python', encoding='latin1')"
   ]
  },
  {
   "cell_type": "code",
   "execution_count": 3,
   "metadata": {},
   "outputs": [],
   "source": [
    "movie_data.columns = ['MovieID', 'Title', 'Genres']\n",
    "rating_data.columns = ['UserID', 'MovieID', 'Rating', 'Timestamp']\n",
    "user_data.columns = ['UserID', 'Gender', 'Age', 'Occupation', 'Zip-code']"
   ]
  },
  {
   "cell_type": "code",
   "execution_count": 23,
   "metadata": {},
   "outputs": [
    {
     "data": {
      "text/html": [
       "<div>\n",
       "<style scoped>\n",
       "    .dataframe tbody tr th:only-of-type {\n",
       "        vertical-align: middle;\n",
       "    }\n",
       "\n",
       "    .dataframe tbody tr th {\n",
       "        vertical-align: top;\n",
       "    }\n",
       "\n",
       "    .dataframe thead th {\n",
       "        text-align: right;\n",
       "    }\n",
       "</style>\n",
       "<table border=\"1\" class=\"dataframe\">\n",
       "  <thead>\n",
       "    <tr style=\"text-align: right;\">\n",
       "      <th></th>\n",
       "      <th>MovieID</th>\n",
       "      <th>Title</th>\n",
       "      <th>Genres</th>\n",
       "    </tr>\n",
       "  </thead>\n",
       "  <tbody>\n",
       "    <tr>\n",
       "      <th>0</th>\n",
       "      <td>1</td>\n",
       "      <td>Toy Story (1995)</td>\n",
       "      <td>Animation|Children's|Comedy</td>\n",
       "    </tr>\n",
       "    <tr>\n",
       "      <th>1</th>\n",
       "      <td>2</td>\n",
       "      <td>Jumanji (1995)</td>\n",
       "      <td>Adventure|Children's|Fantasy</td>\n",
       "    </tr>\n",
       "    <tr>\n",
       "      <th>2</th>\n",
       "      <td>3</td>\n",
       "      <td>Grumpier Old Men (1995)</td>\n",
       "      <td>Comedy|Romance</td>\n",
       "    </tr>\n",
       "    <tr>\n",
       "      <th>3</th>\n",
       "      <td>4</td>\n",
       "      <td>Waiting to Exhale (1995)</td>\n",
       "      <td>Comedy|Drama</td>\n",
       "    </tr>\n",
       "    <tr>\n",
       "      <th>4</th>\n",
       "      <td>5</td>\n",
       "      <td>Father of the Bride Part II (1995)</td>\n",
       "      <td>Comedy</td>\n",
       "    </tr>\n",
       "  </tbody>\n",
       "</table>\n",
       "</div>"
      ],
      "text/plain": [
       "   MovieID                               Title                        Genres\n",
       "0        1                    Toy Story (1995)   Animation|Children's|Comedy\n",
       "1        2                      Jumanji (1995)  Adventure|Children's|Fantasy\n",
       "2        3             Grumpier Old Men (1995)                Comedy|Romance\n",
       "3        4            Waiting to Exhale (1995)                  Comedy|Drama\n",
       "4        5  Father of the Bride Part II (1995)                        Comedy"
      ]
     },
     "execution_count": 23,
     "metadata": {},
     "output_type": "execute_result"
    }
   ],
   "source": [
    "movie_data.head()"
   ]
  },
  {
   "cell_type": "code",
   "execution_count": 24,
   "metadata": {},
   "outputs": [
    {
     "data": {
      "text/html": [
       "<div>\n",
       "<style scoped>\n",
       "    .dataframe tbody tr th:only-of-type {\n",
       "        vertical-align: middle;\n",
       "    }\n",
       "\n",
       "    .dataframe tbody tr th {\n",
       "        vertical-align: top;\n",
       "    }\n",
       "\n",
       "    .dataframe thead th {\n",
       "        text-align: right;\n",
       "    }\n",
       "</style>\n",
       "<table border=\"1\" class=\"dataframe\">\n",
       "  <thead>\n",
       "    <tr style=\"text-align: right;\">\n",
       "      <th></th>\n",
       "      <th>UserID</th>\n",
       "      <th>Gender</th>\n",
       "      <th>Age</th>\n",
       "      <th>Occupation</th>\n",
       "      <th>Zip-code</th>\n",
       "    </tr>\n",
       "  </thead>\n",
       "  <tbody>\n",
       "    <tr>\n",
       "      <th>0</th>\n",
       "      <td>1</td>\n",
       "      <td>F</td>\n",
       "      <td>1</td>\n",
       "      <td>10</td>\n",
       "      <td>48067</td>\n",
       "    </tr>\n",
       "    <tr>\n",
       "      <th>1</th>\n",
       "      <td>2</td>\n",
       "      <td>M</td>\n",
       "      <td>56</td>\n",
       "      <td>16</td>\n",
       "      <td>70072</td>\n",
       "    </tr>\n",
       "    <tr>\n",
       "      <th>2</th>\n",
       "      <td>3</td>\n",
       "      <td>M</td>\n",
       "      <td>25</td>\n",
       "      <td>15</td>\n",
       "      <td>55117</td>\n",
       "    </tr>\n",
       "    <tr>\n",
       "      <th>3</th>\n",
       "      <td>4</td>\n",
       "      <td>M</td>\n",
       "      <td>45</td>\n",
       "      <td>7</td>\n",
       "      <td>02460</td>\n",
       "    </tr>\n",
       "    <tr>\n",
       "      <th>4</th>\n",
       "      <td>5</td>\n",
       "      <td>M</td>\n",
       "      <td>25</td>\n",
       "      <td>20</td>\n",
       "      <td>55455</td>\n",
       "    </tr>\n",
       "  </tbody>\n",
       "</table>\n",
       "</div>"
      ],
      "text/plain": [
       "   UserID Gender  Age  Occupation Zip-code\n",
       "0       1      F    1          10    48067\n",
       "1       2      M   56          16    70072\n",
       "2       3      M   25          15    55117\n",
       "3       4      M   45           7    02460\n",
       "4       5      M   25          20    55455"
      ]
     },
     "execution_count": 24,
     "metadata": {},
     "output_type": "execute_result"
    }
   ],
   "source": [
    "user_data.head()"
   ]
  },
  {
   "cell_type": "code",
   "execution_count": 25,
   "metadata": {},
   "outputs": [
    {
     "data": {
      "text/html": [
       "<div>\n",
       "<style scoped>\n",
       "    .dataframe tbody tr th:only-of-type {\n",
       "        vertical-align: middle;\n",
       "    }\n",
       "\n",
       "    .dataframe tbody tr th {\n",
       "        vertical-align: top;\n",
       "    }\n",
       "\n",
       "    .dataframe thead th {\n",
       "        text-align: right;\n",
       "    }\n",
       "</style>\n",
       "<table border=\"1\" class=\"dataframe\">\n",
       "  <thead>\n",
       "    <tr style=\"text-align: right;\">\n",
       "      <th></th>\n",
       "      <th>UserID</th>\n",
       "      <th>MovieID</th>\n",
       "      <th>Rating</th>\n",
       "      <th>Timestamp</th>\n",
       "    </tr>\n",
       "  </thead>\n",
       "  <tbody>\n",
       "    <tr>\n",
       "      <th>0</th>\n",
       "      <td>1</td>\n",
       "      <td>1193</td>\n",
       "      <td>5</td>\n",
       "      <td>978300760</td>\n",
       "    </tr>\n",
       "    <tr>\n",
       "      <th>1</th>\n",
       "      <td>1</td>\n",
       "      <td>661</td>\n",
       "      <td>3</td>\n",
       "      <td>978302109</td>\n",
       "    </tr>\n",
       "    <tr>\n",
       "      <th>2</th>\n",
       "      <td>1</td>\n",
       "      <td>914</td>\n",
       "      <td>3</td>\n",
       "      <td>978301968</td>\n",
       "    </tr>\n",
       "    <tr>\n",
       "      <th>3</th>\n",
       "      <td>1</td>\n",
       "      <td>3408</td>\n",
       "      <td>4</td>\n",
       "      <td>978300275</td>\n",
       "    </tr>\n",
       "    <tr>\n",
       "      <th>4</th>\n",
       "      <td>1</td>\n",
       "      <td>2355</td>\n",
       "      <td>5</td>\n",
       "      <td>978824291</td>\n",
       "    </tr>\n",
       "  </tbody>\n",
       "</table>\n",
       "</div>"
      ],
      "text/plain": [
       "   UserID  MovieID  Rating  Timestamp\n",
       "0       1     1193       5  978300760\n",
       "1       1      661       3  978302109\n",
       "2       1      914       3  978301968\n",
       "3       1     3408       4  978300275\n",
       "4       1     2355       5  978824291"
      ]
     },
     "execution_count": 25,
     "metadata": {},
     "output_type": "execute_result"
    }
   ],
   "source": [
    "rating_data.head()"
   ]
  },
  {
   "cell_type": "code",
   "execution_count": 27,
   "metadata": {},
   "outputs": [
    {
     "data": {
      "text/plain": [
       "3706"
      ]
     },
     "execution_count": 27,
     "metadata": {},
     "output_type": "execute_result"
    }
   ],
   "source": [
    "len(rating_data['MovieID'].unique())"
   ]
  },
  {
   "cell_type": "code",
   "execution_count": 4,
   "metadata": {},
   "outputs": [
    {
     "data": {
      "text/plain": [
       "20"
      ]
     },
     "execution_count": 4,
     "metadata": {},
     "output_type": "execute_result"
    }
   ],
   "source": [
    "movie_data['Genres'] = movie_data['Genres'].fillna('')\n",
    "\n",
    "tfidf = TfidfVectorizer(stop_words='english')\n",
    "tfidf_matrix = tfidf.fit_transform(movie_data['Genres'])\n",
    "\n",
    "len(tfidf_matrix.toarray()[0])"
   ]
  },
  {
   "cell_type": "code",
   "execution_count": 5,
   "metadata": {},
   "outputs": [],
   "source": [
    "user_movie_data = rating_data.merge(movie_data, on='MovieID')"
   ]
  },
  {
   "cell_type": "code",
   "execution_count": 6,
   "metadata": {},
   "outputs": [],
   "source": [
    "movie_index = pd.Series(\n",
    "    movie_data.index, index=movie_data['MovieID']).drop_duplicates()"
   ]
  },
  {
   "cell_type": "code",
   "execution_count": 7,
   "metadata": {},
   "outputs": [],
   "source": [
    "user_profiles = {}"
   ]
  },
  {
   "cell_type": "code",
   "execution_count": 8,
   "metadata": {},
   "outputs": [],
   "source": [
    "for user_id in rating_data['UserID'].unique():\n",
    "    user_ratings = user_movie_data[user_movie_data['UserID'] == user_id]\n",
    "\n",
    "    tfidf_weights = tfidf_matrix[user_ratings['MovieID'].apply(\n",
    "        lambda x: movie_index[x])]\n",
    "    user_profile = np.dot(\n",
    "        user_ratings['Rating'], tfidf_weights.toarray()) / user_ratings['Rating'].sum()\n",
    "\n",
    "    user_profile = user_profile / np.linalg.norm(user_profile)\n",
    "\n",
    "    user_profiles[user_id] = user_profile"
   ]
  },
  {
   "cell_type": "code",
   "execution_count": 9,
   "metadata": {},
   "outputs": [],
   "source": [
    "def recommend_movies_for_user(user_id, top_n=10):\n",
    "    user_profile = user_profiles[user_id]\n",
    "\n",
    "    sim_scores = cosine_similarity([user_profile], tfidf_matrix)[0]\n",
    "\n",
    "    movie_indices = sim_scores.argsort()[-top_n:][::-1]\n",
    "\n",
    "    return movie_data['Title'].iloc[movie_indices]"
   ]
  },
  {
   "cell_type": "markdown",
   "metadata": {},
   "source": [
    "### Not Correct, MSE Calculation"
   ]
  },
  {
   "cell_type": "code",
   "execution_count": 10,
   "metadata": {},
   "outputs": [],
   "source": [
    "def calculate_mse_for_user(user_id):\n",
    "    user_ratings = user_movie_data[user_movie_data['UserID'] == user_id]\n",
    "    mse_scores = []\n",
    "\n",
    "    for movie_id in user_ratings['MovieID']:\n",
    "        movie_tfidf = tfidf_matrix[movie_index[movie_id]].toarray()[0]\n",
    "        user_profile = user_profiles[user_id]\n",
    "\n",
    "        mse = mean_squared_error(user_profile, movie_tfidf)\n",
    "        mse_scores.append(mse)\n",
    "\n",
    "    return np.mean(mse_scores)"
   ]
  },
  {
   "cell_type": "code",
   "execution_count": 11,
   "metadata": {},
   "outputs": [
    {
     "name": "stdout",
     "output_type": "stream",
     "text": [
      "Recommendations for User 181:\n",
      "20                                      Get Shorty (1995)\n",
      "1847                                    Buffalo 66 (1998)\n",
      "386                   Faster Pussycat! Kill! Kill! (1965)\n",
      "3115                                       Montana (1998)\n",
      "1931                                 Lethal Weapon (1987)\n",
      "1932                               Lethal Weapon 2 (1989)\n",
      "1933                               Lethal Weapon 3 (1992)\n",
      "3197    Man Bites Dog (C'est arrivé près de chez vous)...\n",
      "1849                               Lethal Weapon 4 (1998)\n",
      "1445                                      Best Men (1997)\n",
      "Name: Title, dtype: object\n"
     ]
    }
   ],
   "source": [
    "user_id = 181\n",
    "print(f\"Recommendations for User {user_id}:\")\n",
    "print(recommend_movies_for_user(user_id))"
   ]
  },
  {
   "cell_type": "code",
   "execution_count": 14,
   "metadata": {},
   "outputs": [],
   "source": [
    "from sklearn.metrics.pairwise import cosine_similarity\n",
    "from sklearn.metrics import mean_squared_error\n",
    "import numpy as np\n",
    "\n",
    "\n",
    "def predict_rating(user_profile, movie_tfidf):\n",
    "    # Predict a rating based on similarity (cosine similarity can be interpreted as a weight)\n",
    "    similarity = cosine_similarity([user_profile], [movie_tfidf])[0][0]\n",
    "    # Scaling similarity to the rating range (e.g., from 0 to 5)\n",
    "    print(similarity)\n",
    "    return similarity * 5\n",
    "\n",
    "\n",
    "def calculate_mse_for_user(user_id):\n",
    "    # Get the user's actual ratings\n",
    "    user_ratings = user_movie_data[user_movie_data['UserID'] == user_id]\n",
    "\n",
    "    predicted_ratings = []\n",
    "    actual_ratings = []\n",
    "\n",
    "    for _, row in user_ratings.iterrows():\n",
    "        movie_id = row['MovieID']\n",
    "        actual_rating = row['Rating']\n",
    "\n",
    "        # Get the TF-IDF vector for this movie\n",
    "        movie_tfidf = tfidf_matrix[movie_index[movie_id]].toarray()[0]\n",
    "\n",
    "        # Predict the rating based on user's profile and movie's TF-IDF\n",
    "        user_profile = user_profiles[user_id]\n",
    "        predicted_rating = predict_rating(user_profile, movie_tfidf)\n",
    "\n",
    "        # Append to lists\n",
    "        predicted_ratings.append(predicted_rating)\n",
    "        actual_ratings.append(actual_rating)\n",
    "\n",
    "    # Calculate MSE between predicted and actual ratings\n",
    "    mse = mean_squared_error(actual_ratings, predicted_ratings)\n",
    "    return mse"
   ]
  },
  {
   "cell_type": "code",
   "execution_count": 15,
   "metadata": {},
   "outputs": [
    {
     "name": "stdout",
     "output_type": "stream",
     "text": [
      "0.10468005407906097\n",
      "0.33044994931254923\n",
      "0.45539749868118823\n",
      "0.46989112244028564\n",
      "0.46989112244028564\n",
      "0.5625667563660809\n",
      "0.3040685092621638\n",
      "0.21110630045428067\n",
      "0.4075614105488988\n",
      "0.6275015360417028\n",
      "0.32023226318653025\n",
      "0.25850814994274934\n",
      "0.5139825313108635\n",
      "0.4219243237871921\n",
      "0.702689845379634\n",
      "0.5520927361586284\n",
      "0.5036536431944061\n",
      "0.6688911808419717\n",
      "0.6275015360417028\n",
      "0.5139825313108635\n",
      "0.5072723926706089\n",
      "0.5520927361586284\n",
      "0.5520927361586284\n",
      "0.46989112244028564\n",
      "0.46989112244028564\n",
      "0.7013120916638118\n",
      "0.6019068115756046\n",
      "0.5738244751963557\n",
      "0.4219243237871921\n",
      "0.46989112244028564\n",
      "0.5647598924392907\n",
      "0.4337955007696814\n",
      "0.5520927361586284\n",
      "0.5139825313108635\n",
      "0.28729555928709444\n",
      "0.5520927361586284\n",
      "0.33498818925126916\n",
      "0.28729555928709444\n",
      "0.45539749868118823\n",
      "0.4219243237871921\n",
      "0.7013120916638118\n",
      "0.536887645262828\n",
      "0.5520927361586284\n",
      "0.4337955007696814\n",
      "0.37755933392691726\n",
      "0.31074943853296144\n",
      "0.376204384384116\n",
      "0.4337955007696814\n",
      "0.5520927361586284\n",
      "0.46989112244028564\n",
      "0.1682615225890151\n",
      "0.4387377028146403\n",
      "0.5520927361586284\n",
      "0.4379556385330452\n",
      "0.4387377028146403\n",
      "0.6195666581725652\n",
      "0.4632072235049219\n",
      "0.4219243237871921\n",
      "0.4337955007696814\n",
      "0.5520927361586284\n",
      "0.5036536431944061\n",
      "0.46989112244028564\n",
      "0.4337955007696814\n",
      "0.4337955007696814\n",
      "0.19714749495879627\n",
      "0.5520927361586284\n",
      "0.44625373170515753\n",
      "0.33852610958810625\n",
      "0.45539749868118823\n",
      "0.5520927361586284\n",
      "0.4254001179095065\n",
      "0.5520927361586284\n",
      "0.31755399966590475\n",
      "0.4337955007696814\n",
      "0.3058722242914649\n",
      "0.356566464588117\n",
      "0.19505097600404037\n",
      "0.4337955007696814\n",
      "The MSE for user 582 is: 5.269619065716739\n"
     ]
    }
   ],
   "source": [
    "# Example user_id you want to calculate MSE for\n",
    "user_id = 582  # Replace with a valid user ID from your dataset\n",
    "\n",
    "# Call the function to calculate MSE for this user\n",
    "mse_score = calculate_mse_for_user(user_id)\n",
    "\n",
    "# Print the result\n",
    "print(f\"The MSE for user {user_id} is: {mse_score}\")"
   ]
  }
 ],
 "metadata": {
  "kernelspec": {
   "display_name": ".venv",
   "language": "python",
   "name": "python3"
  },
  "language_info": {
   "codemirror_mode": {
    "name": "ipython",
    "version": 3
   },
   "file_extension": ".py",
   "mimetype": "text/x-python",
   "name": "python",
   "nbconvert_exporter": "python",
   "pygments_lexer": "ipython3",
   "version": "3.12.7"
  }
 },
 "nbformat": 4,
 "nbformat_minor": 2
}
